{
 "cells": [
  {
   "cell_type": "code",
   "execution_count": 1,
   "metadata": {
    "slideshow": {
     "slide_type": "-"
    }
   },
   "outputs": [],
   "source": [
    "# nbi:hide_in\n",
    "from __future__ import print_function\n",
    "from ipywidgets import interact, interactive, fixed, interact_manual\n",
    "import ipywidgets as widgets\n",
    "import nbinteract as nbi\n",
    "from IPython.display import display\n",
    "import matplotlib.pyplot as plt\n",
    "import numpy as np\n"
   ]
  },
  {
   "cell_type": "markdown",
   "metadata": {},
   "source": [
    "# <span style=\"color:blue\"> Expresión correcta de una medición <span>\n",
    "\n",
    "En la sección anterior vimos las causas que provocan errores en las mediciones, también vimos los tipos de errores y como calcularlos. En esta sección veremos como expresar la medición de forma correcta, con la cantidad de decimales adecuados.\n",
    "   \n",
    "Pero antes vamos a ver dos conceptos necesarios para escribír el resultado de una medición.\n",
    "    \n",
    "## <span style=\"color:blue\">Truncamiento y Redondeo<span>\n",
    "    \n",
    "En muchos casos al realizar operaciónes matemáticas nos dan como resultado un número con muchos decimales. En la práctica no soloemos anotar todos los decimales por lo que estamos cometiendo un error en el resultado final. La manera de **reducirlo, no de eliminarlo** es redondear el número. \n",
    "    \n",
    "Hay muchos tipos de rendondeo, probablemente ustedes esten acostumbrados al **truncamiento** pero este método es indeseado para nosotros. Vamos a explicarlo por si no todos estan familiarizados.\n",
    "    \n",
    " \n",
    "### <span style=\"color:red\">Truncamiento:<span> \n",
    "Consiste en **\"cortar\"** el número con la cantidad de decimales que establecimos.\n",
    "\n",
    "<div class=\"alert alert-block alert-success\">\n",
    "<b>Ejemplo n°1</b> Supongamos que tenemos el número <b>12,46779987</b>, podemos quedarnos por ejemplo con dos decimales, por lo tanto el número que usamos es :<b>12,46</b>\n",
    "</div> \n",
    "<div class=\"alert alert-block alert-success\">\n",
    "<b>Ejemplo n°2</b> Supongamos que tenemos el número <b>0,2396168</b>, podemos quedarnos por ejemplo con cuatro decimanel, por lo tanto el número que usamos es :<b>0,2396</b>   \n",
    "</div>   \n",
    "    \n",
    "Esta es una posible implementación pero no es la mas adecuada, ya que si vemos el primer ejemplo, el número esta mas cerca de <b>12,47</b> que de <b>12,46</b>. Sin embargo en el segundo caso funcionó correctamente.\n",
    "    \n",
    "En la siguiente animación puede variar con el slider un número de con 5 decimales, y con el otro slider puede decidir cuantos decimales quiere utilizar. Abajo vera el resultado del número truncado.\n",
    "    \n",
    "**Antes de comenzar no olvide presionar el boton <span style=\"color:red\">Show Widgets</span> para poder ver la animación**    \n",
    "   "
   ]
  },
  {
   "cell_type": "code",
   "execution_count": 16,
   "metadata": {},
   "outputs": [
    {
     "data": {
      "application/vnd.jupyter.widget-view+json": {
       "model_id": "fd25a235828349ebbdea10d960f24f75",
       "version_major": 2,
       "version_minor": 0
      },
      "text/plain": [
       "interactive(children=(FloatSlider(value=0.0, description='numero', max=2.0, readout_format='.5f', step=1e-05),…"
      ]
     },
     "metadata": {},
     "output_type": "display_data"
    }
   ],
   "source": [
    "# nbi:hide_in\n",
    "import math\n",
    "a = widgets.FloatSlider(min=0, max=2, step=1e-5,readout_format='.5f')\n",
    "b = widgets.IntSlider(min=0, max=4)\n",
    "\n",
    "def truncamiento(numero, cant_decimlaes):\n",
    "    stepper = 10.0 ** cant_decimlaes\n",
    "    numero = math.trunc(stepper * numero) / stepper\n",
    "    return 'El número truncado con {} decimales es {}'.format(cant_decimlaes, numero)\n",
    "\n",
    "interact(truncamiento, numero=a, cant_decimlaes=b);"
   ]
  },
  {
   "cell_type": "markdown",
   "metadata": {},
   "source": [
    "### <span style=\"color:red\">Redondeo:<span> \n",
    "Hay varios tipos de redondeo distintos, nosotros vamos a utilizar el **redondea de la mitad para arriba**     \n",
    "Consiste en **redondear** el número con la cantidad de decimales deseados mirando el número a la derecha de la cantidad deseada, siguiendo esta regla\n",
    "    \n",
    "* Si el decimal es **mayor o igual** a **5** se redondea hacia arriba, es decir se incrementa en 1 la última cifra deseada.   \n",
    "    \n",
    "* Si el decimal es **menor** a **5** se redondea hacia abajo, es decir la última cifra deseada se deja sin modificar.   \n",
    "    \n",
    "Veamos algunos ejemplos:    \n",
    " \n",
    "<div class=\"alert alert-block alert-success\">\n",
    "<b>Ejemplo n°1</b> Supongamos que tenemos el número $4,\\underbrace{25}7$, podemos quedarnos por ejemplo con dos decimales, por lo tanto nos tenemos que concentrar en el segundo decimal, el número $5$. Luego teneos que ver si el número que sigue es mayor-igual que cinco o menor, como en este caso es $7$ redondeamos hacia arriba sumando un $1$ al $5$.Por lo cual el número que usamos es :$\\boxed{4,26}$\n",
    "</div> \n",
    "<div class=\"alert alert-block alert-success\">\n",
    "<b>Ejemplo n°2</b> Supongamos ahora que tenemos el número $3,\\underbrace{1124}2$, podemos quedarnos por ejemplo con cuatro decimales, por lo tanto nos tenemos que concentrar en el cuarto decimal, el número $4$. Luego teneos que ver si el número que sigue es mayor-igual que cinco o menor, como en este caso es $2$ redondeamos hacia abajo dejando el $4$ como esta.Por lo cual el número que usamos es :$\\boxed{3,1124}$\n",
    "</div>   \n",
    "<div class=\"alert alert-block alert-success\">\n",
    "<b>Ejemplo n°3</b> Supongamos ahora que tenemos el número $1,\\underbrace{386}5$, podemos quedarnos por ejemplo con tres decimales, por lo tanto nos tenemos que concentrar en el tercer decimal, el número $6$. Luego teneos que ver si el número que sigue es mayor-igual que cinco o menor, como en este caso es $5$ redondeamos hacia rriba sumando un $1$ al $6$.Por lo cual el número que usamos es :$\\boxed{1,3874}$\n",
    "</div>      \n",
    "\n",
    "**Antes de comenzar no olvide presionar el boton <span style=\"color:red\">Show Widgets</span> para poder ver la animación**    "
   ]
  },
  {
   "cell_type": "code",
   "execution_count": 24,
   "metadata": {},
   "outputs": [
    {
     "data": {
      "application/vnd.jupyter.widget-view+json": {
       "model_id": "a50da263e2a34af5a0e566656479e806",
       "version_major": 2,
       "version_minor": 0
      },
      "text/plain": [
       "interactive(children=(FloatSlider(value=0.0, description='numero', max=5.0, readout_format='.5f', step=1e-05),…"
      ]
     },
     "metadata": {},
     "output_type": "display_data"
    }
   ],
   "source": [
    "# nbi:hide_in\n",
    "import math\n",
    "a = widgets.FloatSlider(min=0, max=5, step=1e-5,readout_format='.5f')\n",
    "b = widgets.IntSlider(min=0, max=4)\n",
    "\n",
    "def redondeado(numero, cant_decimlaes):\n",
    "    numero = round(numero+1e-6, cant_decimlaes)\n",
    "    return 'El número redondeado con {} decimales es {}'.format(cant_decimlaes, numero)\n",
    "\n",
    "interact(redondeado, numero=a, cant_decimlaes=b);"
   ]
  },
  {
   "cell_type": "markdown",
   "metadata": {},
   "source": [
    "### <span style=\"color:blue\">¿Por qué redondear en vez de truncar?<span>\n"
   ]
  },
  {
   "cell_type": "markdown",
   "metadata": {},
   "source": [
    "**Antes de comenzar no olvide presionar el boton <span style=\"color:red\">Show Widgets</span> para poder ver la animación**\n",
    "    \n",
    "La siguiente animación les ayudará a entender la forma correcta de representar una medida con una sola cifra significativa (solo el primer número distinto de cero en el error absoluto es válido) y redondeando el valor. Esto se verá con mas detalle en la siguiente sección.\n",
    "    \n",
    "El formato de salida es:\n",
    "    \n",
    "$$ \\boxed{X = X_o \\pm \\Delta X}$$  \n",
    "    \n",
    "Por ejemplo para medición $ X = 4,52 \\pm 0,38 $ al tomar una sola cifra significativa despues de la coma (en el error absoluto) y redondeando el número nos queda $\\Delta X=0,4$. De forma similar como nuestr medición no puede ser mas precisa que el error que estamos comentiendo debemos también redondiar el valor representativo $X_o$ a un sola cifra significativa quedándonos $X_o = 4,5$. Por lo tanto la medición final se debe escribir como:\n",
    "    \n",
    "$$ X = 4,5 \\pm 0,4 cm $$   \n",
    "    \n",
    "Lo que quiere decir que el valor verdadero de la medición se encuentra entre 4,1 y 4,9 cm"
   ]
  },
  {
   "cell_type": "code",
   "execution_count": 163,
   "metadata": {},
   "outputs": [
    {
     "data": {
      "application/vnd.jupyter.widget-view+json": {
       "model_id": "859bc030ecac471c8a177e10017ad433",
       "version_major": 2,
       "version_minor": 0
      },
      "text/plain": [
       "interactive(children=(FloatSlider(value=0.0, description='valor_representativo', max=10.0, step=0.01), FloatSl…"
      ]
     },
     "metadata": {},
     "output_type": "display_data"
    }
   ],
   "source": [
    "# nbi:hide_in\n",
    "\n",
    "b = widgets.FloatSlider(min=0, max=2, step=0.01)\n",
    "a = widgets.FloatSlider(min=0, max=10, step=0.01)\n",
    "\n",
    "def medicion(valor_representativo, error_absoluto):\n",
    "    \n",
    "    if error_absoluto > 1: \n",
    "        error_absoluto = round(error_absoluto+0.01, 0)\n",
    "        valor_representativo = round(valor_representativo+0.01, 0)\n",
    "    else:\n",
    "        error_absoluto = round(error_absoluto+0.01, 1)\n",
    "        valor_representativo = round(valor_representativo+0.01,1)\n",
    "    return 'X = {} +/- {}'.format(valor_representativo, error_absoluto)\n",
    "\n",
    "interact(medicion, valor_representativo=a, error_absoluto=b);\n"
   ]
  },
  {
   "cell_type": "markdown",
   "metadata": {},
   "source": [
    "\n",
    "\n",
    "<div class=\"alert alert-block alert-warning\">\n",
    "Dadas las siguientes medidas:    \n",
    "$$$$      \n",
    "$ X_a = 10m \\pm \\Delta 0,1m$\n",
    "$$$$  \n",
    "$ X_b = 10Km \\pm \\Delta 0,01Km$\n",
    "$$$$ \n",
    "$ X_c = 1l \\pm \\Delta 0,01l$\n",
    "$$$$ \n",
    "$ X_d = 50mA \\pm \\Delta 0,1mA$\n",
    "$$$$     \n",
    "</div>\n"
   ]
  },
  {
   "cell_type": "code",
   "execution_count": 165,
   "metadata": {},
   "outputs": [
    {
     "data": {
      "application/vnd.jupyter.widget-view+json": {
       "model_id": "0ca0442f911842bb827e52398ee1e69a",
       "version_major": 2,
       "version_minor": 0
      },
      "text/plain": [
       "VBox(children=(HTML(value='<p style=\"line-height:18px;\">¿Cuál es la mas precisa?</p>'), HBox(children=(Button(…"
      ]
     },
     "metadata": {},
     "output_type": "display_data"
    }
   ],
   "source": [
    "# nbi:hide_in\n",
    "nbi.multiple_choice(question=\"¿Cuál es la mas precisa?\",\n",
    "                    choices=['Xa', 'Xb','Xc','Xd'],\n",
    "                    answers=1)"
   ]
  },
  {
   "cell_type": "markdown",
   "metadata": {},
   "source": [
    "###  <span style=\"color:brown\"> ¡Cuidado no puede compara medidas en distintas unidades! además aunque seguramente penso que cometer un error de 10 metros significa que mi medida es menos precisa que cometer un error de 10 cm no tiene por que ser así. Esto nos indica que el error absoluto no es fiable para comparar mediciones y necesitamos otra herramienta nueva. </span>"
   ]
  },
  {
   "cell_type": "markdown",
   "metadata": {},
   "source": [
    "### <span style=\"color:red\">Error Relativo:<span> \n",
    "El **error relativo** viene a solucionar el problema que se nos presento ya que al no tener unidades, me permite comparar mediciones de distintas magnitudes y contempla en él, la proporción que afecta a la medición el error cometido. Es el error mas útil.\n",
    "    \n",
    "    \n",
    "<div class=\"alert alert-block alert-info\">\n",
    "<b> Error relativo:</b> Es la relación proporcional entre el valor representativo $X_o$ y el error absoluto $\\Delta X$. <b> Es adimensional</b>\n",
    "    \n",
    "Se representa con la letra griega épsilon $\\epsilon_r$\n",
    "    \n",
    "$$$$      \n",
    "$$ \\boxed{ \\epsilon_r = \\frac{\\Delta X}{X_o}} $$ \n",
    "    \n",
    "Donde: \n",
    "$$$$      \n",
    "$X_o$ es el valor representativo de la medición.\n",
    "$$$$     \n",
    "$\\Delta X$ es el error absoluto de la medición.\n",
    "$$$$         \n",
    "</div>      \n",
    "    \n",
    "###  <span style=\"color:red\">Error Relativo porcentual:<span> \n",
    "<div class=\"alert alert-block alert-info\">    \n",
    "<b> Error relativo porcentual:</b> Es la relación porcentual entre el valor representativo $X_o$ y el error absoluto $\\Delta X$ . \n",
    "    \n",
    "Se representa con la letra griega épsilon $\\epsilon_r$ \n",
    "    \n",
    "$$$$      \n",
    "$$ \\boxed{ \\epsilon_{r\\%} = \\frac{\\Delta X}{X_o} *100 \\%} $$ \n",
    "$$$$       \n",
    "$$ \\boxed{ \\epsilon_{r\\%} = \\epsilon_r *100 \\%} $$     \n",
    "Donde: \n",
    "$$$$      \n",
    "$X_o$ es el valor representativo de la medición.\n",
    "$$$$     \n",
    "$\\Delta X$ es el error absoluto de la medición.\n",
    "$$$$     \n",
    "</div>  \n",
    "    \n",
    "Probablemente conozca al **error relativo porcentual** como **tolerancia**\n",
    "    \n",
    "###  <span style=\"color:brown\"> Cuidado con ponerle unidades, el error relativo es **adimencional** lo que nos permite comparar medidas de distintas magnitudes. </span>   \n",
    "    \n",
    "\n",
    "<div class=\"alert alert-block alert-success\">    \n",
    "<b> Ejemplo 2:</b> Contestemos ahora la pregunta que planteamos mas arriba.  Para ello vamos a calcular el <b> error relativo </b> de cada medición.\n",
    "    \n",
    "    \n",
    "Se representa con la letra griega épsilon $\\epsilon_r$ \n",
    "    \n",
    "$$$$ \n",
    "    \n",
    "$ \\epsilon_r = \\frac{0,1 m}{10 m} = 0,01 \\Rightarrow \\epsilon_{r\\%} = 1 \\%$\n",
    "    \n",
    "$$$$       \n",
    "$ \\epsilon_r = \\frac{0,01 Km}{10 Km} = 0,001 \\Rightarrow  \\epsilon_{r\\%}= 0,1 \\%$   \n",
    "    \n",
    "$$$$      \n",
    "$\\epsilon_r = \\frac{0,01 l}{1 l} = 0,01 \\Rightarrow  \\epsilon_{r\\%} = 1 \\% $\n",
    "    \n",
    "$$$$     \n",
    "$\\epsilon_r = \\frac{50 mA}{0,1 mA} = 0,002 \\Rightarrow \\epsilon_{r\\%} = 0,2 \\%$ \n",
    "  \n",
    "</div>  \n",
    "    \n",
    "    \n",
    " Por lo tanto podemos notar que la medida a y c poseen la misma precisión, mientras que la mas precisa es la medida b seguida de la d.   \n",
    "    \n",
    "<div class=\"alert alert-block alert-success\">    \n",
    "<b> Ejemplo 3:</b> Dada una resistencia de 100 $\\Omega$ con una tolerancia de 5 $\\%$ obtener $R_{mín}, R_{máx}$ y escriba la medición de forma estandar.\n",
    "    \n",
    "    \n",
    "Recordemos que la tolerancia es el valor del <b>error relativo porcentual</b>, por lo cual si lo dividimos por 100 obtenemso el $\\epsilon_r$ .\n",
    "$$$$       \n",
    "$$ \\epsilon_r = \\frac{\\epsilon_{r \\%}}{100} = \\frac{5}{100} = 0,05 $$    \n",
    "    \n",
    "despejando de la ecuación de error relativo nos queda  \n",
    "$$$$     \n",
    "$$ \\Delta R = \\epsilon_{r} * R_o = 0,05 * 100 = 5 $$  \n",
    "$$$$  \n",
    "    \n",
    "$$ R_{min} = R_o - \\Delta R = 100 - 5 = 95$$   \n",
    "    \n",
    "$$ R_{máx} = R_o + \\Delta R = 100 + 5 = 105$$      \n",
    "$$$$      \n",
    "Por último la medición se escribe:\n",
    "$$$$     \n",
    "\n",
    "$$ \\boxed{R = 100 \\pm 5 \\Omega}$$\n",
    " \n",
    "</div>\n",
    "    "
   ]
  },
  {
   "cell_type": "markdown",
   "metadata": {},
   "source": [
    "<div class=\"alert alert-block alert-danger\">    \n",
    "<b> Ejercicio:</b> Suponga una resistencia con una tolerancia de 1 $\\%$, que tiene un valor nominal de 10 K$\\Omega$ y al realizar su medición da como resultado un valor de 9991 $\\Omega$. Sin tener en cuenta los errores de medición responda:    \n",
    "</div>\n",
    "    "
   ]
  },
  {
   "cell_type": "code",
   "execution_count": 173,
   "metadata": {},
   "outputs": [
    {
     "data": {
      "application/vnd.jupyter.widget-view+json": {
       "model_id": "fb7bebb968114b16ad8b41648a3f8b93",
       "version_major": 2,
       "version_minor": 0
      },
      "text/plain": [
       "VBox(children=(HTML(value='<p style=\"line-height:18px;\">¿Cuál es el error absoluto de fabricación de la resist…"
      ]
     },
     "metadata": {},
     "output_type": "display_data"
    },
    {
     "data": {
      "application/vnd.jupyter.widget-view+json": {
       "model_id": "bcf616f245df4037bf1da83aabb17613",
       "version_major": 2,
       "version_minor": 0
      },
      "text/plain": [
       "VBox(children=(HTML(value='<p style=\"line-height:18px;\">¿Cuál es el error relativo?. Escriba el número con \",\"…"
      ]
     },
     "metadata": {},
     "output_type": "display_data"
    },
    {
     "data": {
      "application/vnd.jupyter.widget-view+json": {
       "model_id": "b01102cf0b554638b78a00705100d492",
       "version_major": 2,
       "version_minor": 0
      },
      "text/plain": [
       "VBox(children=(HTML(value='<p style=\"line-height:18px;\">¿Cuál es el error relativo porcential?. Escriba el núm…"
      ]
     },
     "metadata": {},
     "output_type": "display_data"
    },
    {
     "data": {
      "application/vnd.jupyter.widget-view+json": {
       "model_id": "e69de6a3221a4b9e922c18e799ab91d0",
       "version_major": 2,
       "version_minor": 0
      },
      "text/plain": [
       "VBox(children=(HTML(value='<p style=\"line-height:18px;\">¿Se encuentra el valor de resistencia dentro de los va…"
      ]
     },
     "metadata": {},
     "output_type": "display_data"
    }
   ],
   "source": [
    "# nbi:hide_in\n",
    "nbi.short_answer('¿Cuál es el error absoluto de fabricación de la resistencia?. Escriba el número', answers='9',\n",
    "                  explanation='|Ri - Rv|= |9991- 10000| = 9 Ohms' )\n",
    "\n",
    "nbi.short_answer('¿Cuál es el error relativo?. Escriba el número con \",\" como punto decimal', answers='0,0009',\n",
    "                  explanation='e = error_absoluto/Ro = 9/10000 = 0,0009' )\n",
    "\n",
    "nbi.short_answer('¿Cuál es el error relativo porcential?. Escriba el número con \",\" como punto decimal y sin el simbolo de \"%\"', answers='0,09',\n",
    "                  explanation='er% = er *100% = 0,09%' )\n",
    "\n",
    "nbi.multiple_choice(question=\"¿Se encuentra el valor de resistencia dentro de los valores indicados por el fabricante ?\",\n",
    "                    choices=['si', 'no', 'no lo puedo saver'],\n",
    "                    answers=0)"
   ]
  },
  {
   "cell_type": "markdown",
   "metadata": {},
   "source": [
    "<form method=\"get\" action=\"https://nicolasferragamo.github.io/AEA/index.html\">\n",
    " <button type=\"submit\">Inicio\n",
    "</form>\n",
    "<form method=\"get\" action=\"https://nicolasferragamo.github.io/AEA/Mediciones/errores.html\">\n",
    " <button type=\"submit\">Anterior\n",
    "</form> \n",
    "<form method=\"get\" action=\"https://nicolasferragamo.github.io/AEA/Mediciones/.html\">\n",
    " <button type=\"submit\">Siguietne\n",
    "</form> "
   ]
  },
  {
   "cell_type": "markdown",
   "metadata": {},
   "source": [
    "**Copyright**\n",
    "\n",
    "The notebook is provided as [Open Educational Resource]('https://en.wikipedia.org/wiki/Open_educational_resources'). Feel free to use the notebook for your own educational purposes. The text is licensed under [Creative Commons Attribution 4.0]('https://creativecommons.org/licenses/by/4.0/'), the code of the IPython examples under the [MIT license]('https://opensource.org/licenses/MIT'). Please attribute the work as follows: Aplicaciones de electrónica Analógica by Nicolás Ferragamo.\n"
   ]
  }
 ],
 "metadata": {
  "kernelspec": {
   "display_name": "Python 3",
   "language": "python",
   "name": "python3"
  },
  "language_info": {
   "codemirror_mode": {
    "name": "ipython",
    "version": 3
   },
   "file_extension": ".py",
   "mimetype": "text/x-python",
   "name": "python",
   "nbconvert_exporter": "python",
   "pygments_lexer": "ipython3",
   "version": "3.6.9"
  }
 },
 "nbformat": 4,
 "nbformat_minor": 2
}
