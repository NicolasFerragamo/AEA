{
 "cells": [
  {
   "cell_type": "code",
   "execution_count": 25,
   "metadata": {
    "slideshow": {
     "slide_type": "-"
    }
   },
   "outputs": [],
   "source": [
    "# nbi:hide_in\n",
    "from __future__ import print_function\n",
    "from ipywidgets import interact, interactive, fixed, interact_manual\n",
    "import ipywidgets as widgets\n",
    "import nbinteract as nbi\n",
    "from IPython.display import display\n",
    "import matplotlib.pyplot as plt\n",
    "import numpy as np\n"
   ]
  },
  {
   "cell_type": "markdown",
   "metadata": {},
   "source": [
    "# <span style=\"color:blue\"> Expresión correcta de una medición <span>\n",
    "\n",
    "En la sección anterior vimos las causas que provocan errores en las mediciones, también vimos los tipos de errores y como calcularlos. En esta sección veremos como expresar la medición de forma correcta, con la cantidad de decimales adecuados.\n",
    "   \n",
    "Pero antes vamos a ver dos conceptos necesarios para escribír el resultado de una medición.\n",
    "    \n",
    "## <span style=\"color:blue\">Truncamiento y Redondeo<span>\n",
    "    \n",
    "En muchos casos al realizar operaciónes matemáticas nos dan como resultado un número con muchos decimales. En la práctica no soloemos anotar todos los decimales por lo que estamos cometiendo un error en el resultado final. La manera de **reducirlo, no de eliminarlo** es redondear el número. \n",
    "    \n",
    "Hay muchos tipos de rendondeo, probablemente ustedes esten acostumbrados al **truncamiento** pero este método es indeseado para nosotros. Vamos a explicarlo por si no todos estan familiarizados.\n",
    "    \n",
    " \n",
    "### <span style=\"color:red\">Truncamiento:<span> \n",
    "Consiste en **\"cortar\"** el número con la cantidad de decimales que establecimos.\n",
    "\n",
    "<div class=\"alert alert-block alert-success\">\n",
    "<b>Ejemplo n°1</b> Supongamos que tenemos el número <b>12,46779987</b>, podemos quedarnos por ejemplo con dos decimales, por lo tanto el número que usamos es :<b>12,46</b>\n",
    "</div> \n",
    "<div class=\"alert alert-block alert-success\">\n",
    "<b>Ejemplo n°2</b> Supongamos que tenemos el número <b>0,2396168</b>, podemos quedarnos por ejemplo con cuatro decimanel, por lo tanto el número que usamos es :<b>0,2396</b>   \n",
    "</div>   \n",
    "    \n",
    "Esta es una posible implementación pero no es la mas adecuada, ya que si vemos el primer ejemplo, el número esta mas cerca de <b>12,47</b> que de <b>12,46</b>. Sin embargo en el segundo caso funcionó correctamente.\n",
    "    \n",
    "En la siguiente animación puede variar con el slider un número de con 5 decimales, y con el otro slider puede decidir cuantos decimales quiere utilizar. Abajo vera el resultado del número truncado.\n",
    "    \n",
    "**Antes de comenzar no olvide presionar el boton <span style=\"color:red\">Show Widgets</span> para poder ver la animación**    \n",
    "   "
   ]
  },
  {
   "cell_type": "code",
   "execution_count": 129,
   "metadata": {},
   "outputs": [
    {
     "data": {
      "application/vnd.jupyter.widget-view+json": {
       "model_id": "66f4a05db9a3458b9e448e68736ce19c",
       "version_major": 2,
       "version_minor": 0
      },
      "text/plain": [
       "interactive(children=(FloatSlider(value=0.0, description='numero', max=2.0, readout_format='.5f', step=1e-05),…"
      ]
     },
     "metadata": {},
     "output_type": "display_data"
    }
   ],
   "source": [
    "# nbi:hide_in\n",
    "import math\n",
    "a = widgets.FloatSlider(min=0, max=2, step=1e-5,readout_format='.5f')\n",
    "b = widgets.IntSlider(min=0, max=4)\n",
    "\n",
    "def truncamiento(numero, cant_decimlaes):\n",
    "    numero1 = numero\n",
    "    stepper = 10.0 ** cant_decimlaes\n",
    "    numero = math.trunc(stepper * numero) / stepper\n",
    "    return 'El número {} truncado con {} decimales es {}'.format(numero1, cant_decimlaes, numero)\n",
    "\n",
    "interact(truncamiento, numero=a, cant_decimlaes=b);"
   ]
  },
  {
   "cell_type": "markdown",
   "metadata": {},
   "source": [
    "### <span style=\"color:red\">Redondeo:<span> \n",
    "Hay varios tipos de redondeo distintos, nosotros vamos a utilizar el **redondea de la mitad para arriba**     \n",
    "Consiste en **redondear** el número con la cantidad de decimales deseados mirando el número a la derecha de la cantidad deseada, siguiendo esta regla\n",
    "    \n",
    "* Si el decimal es **mayor o igual** a **5** se redondea hacia arriba, es decir se incrementa en 1 la última cifra deseada.   \n",
    "    \n",
    "* Si el decimal es **menor** a **5** se redondea hacia abajo, es decir la última cifra deseada se deja sin modificar.   \n",
    "    \n",
    "Veamos algunos ejemplos:    \n",
    " \n",
    "<div class=\"alert alert-block alert-success\">\n",
    "<b>Ejemplo n°1</b> Supongamos que tenemos el número $4,\\underbrace{25}7$, podemos quedarnos por ejemplo con dos decimales, por lo tanto nos tenemos que concentrar en el segundo decimal, el número $5$. Luego teneos que ver si el número que sigue es mayor-igual que cinco o menor, como en este caso es $7$ redondeamos hacia arriba sumando un $1$ al $5$.Por lo cual el número que usamos es :$\\boxed{4,26}$\n",
    "</div> \n",
    "<div class=\"alert alert-block alert-success\">\n",
    "<b>Ejemplo n°2</b> Supongamos ahora que tenemos el número $3,\\underbrace{1124}2$, podemos quedarnos por ejemplo con cuatro decimales, por lo tanto nos tenemos que concentrar en el cuarto decimal, el número $4$. Luego teneos que ver si el número que sigue es mayor-igual que cinco o menor, como en este caso es $2$ redondeamos hacia abajo dejando el $4$ como esta.Por lo cual el número que usamos es :$\\boxed{3,1124}$\n",
    "</div>   \n",
    "<div class=\"alert alert-block alert-success\">\n",
    "<b>Ejemplo n°3</b> Supongamos ahora que tenemos el número $1,\\underbrace{386}5$, podemos quedarnos por ejemplo con tres decimales, por lo tanto nos tenemos que concentrar en el tercer decimal, el número $6$. Luego teneos que ver si el número que sigue es mayor-igual que cinco o menor, como en este caso es $5$ redondeamos hacia rriba sumando un $1$ al $6$.Por lo cual el número que usamos es :$\\boxed{1,3874}$\n",
    "</div>      \n",
    "\n",
    "**Antes de comenzar no olvide presionar el boton <span style=\"color:red\">Show Widgets</span> para poder ver la animación**    "
   ]
  },
  {
   "cell_type": "code",
   "execution_count": 27,
   "metadata": {},
   "outputs": [
    {
     "data": {
      "application/vnd.jupyter.widget-view+json": {
       "model_id": "f9b7e75c3301430a8b2209a88e48b992",
       "version_major": 2,
       "version_minor": 0
      },
      "text/plain": [
       "interactive(children=(FloatSlider(value=0.0, description='numero', max=5.0, readout_format='.5f', step=1e-05),…"
      ]
     },
     "metadata": {},
     "output_type": "display_data"
    }
   ],
   "source": [
    "# nbi:hide_in\n",
    "import math\n",
    "a = widgets.FloatSlider(min=0, max=5, step=1e-5,readout_format='.5f')\n",
    "b = widgets.IntSlider(min=0, max=4)\n",
    "\n",
    "def redondeado(numero, cant_decimlaes):\n",
    "    numero = round(numero+1e-6, cant_decimlaes)\n",
    "    return 'El número redondeado con {} decimales es {}'.format(cant_decimlaes, numero)\n",
    "\n",
    "interact(redondeado, numero=a, cant_decimlaes=b);"
   ]
  },
  {
   "cell_type": "markdown",
   "metadata": {},
   "source": [
    "### <span style=\"color:blue\">¿Por qué redondear en vez de truncar?<span>\n",
    "\n",
    "Como se podrán imaginar la razón para redondear números en vez de truncarlos es el menor error que se comete en el primer caso.\n",
    "    \n",
    "#### Analicemos el peor caso de cada uno.\n",
    "    \n",
    "<div class=\"alert alert-block alert-warning\">\n",
    "<b>Truncar un número</b> El peor caso ocurre cuando el decimal que estamos truncando es un $9$ antepuesto por un $0$. por ejemplo si truncamos con 1 decimal el número $1,099$, al truncarlo nos queda $1,0$. El error cometido es la resta del número real y el truncado, por lo tanto el error cometido es:\n",
    "    \n",
    "$$ \\boxed{Error_{máx} = 1,099 - 1,0 = 0,099} $$    \n",
    "</div> \n",
    "\n",
    "<div class=\"alert alert-block alert-info\">\n",
    "<b></b> Con lo anterior estamos en condiciones de decir que el error maxímo cometido al utilizar truncamiento es el menor decimal elegído. Si decidimos truncar con $2$ decimales el máximo error cometido sera menor a $0,01$, si uilizamos $5$ decimales sera $0,00001$.  \n",
    "</div> \n",
    "    \n",
    "<div class=\"alert alert-block alert-warning\">\n",
    "<b>Redondear un número</b> El peor caso ocurre cuando el decimal que estamos redondeamos es un $5$, ya que a partir de ahí decidimos como redondear, si para arriba o para abajo. por ejemplo si redondeamos con 1 decimal el número $1,45$, al truncarlo nos queda $1,5$. El error cometido es la resta del número real y el redondeado, por lo tanto el error cometido es:\n",
    "    \n",
    "$$ \\boxed{Error_{máx} = 1,5 - 1,0 = 1,45}=0,05 $$    \n",
    "</div> \n",
    "\n",
    "<div class=\"alert alert-block alert-info\">\n",
    "<b></b> Con lo anterior estamos en condiciones de decir que el error maxímo cometido al utilizar redondeo es la mitad del de los decimales elegídos. Si decidimos redondear con $2$ decimales el máximo error cometido sera menor a $0,005$, si uilizamos $5$ decimales sera $0,000005$.  \n",
    "</div>     \n",
    "    \n",
    "Tal vez no parezca mucha la diferencia entre un caso y el otro, pero este error se va propagando entre operaciones y mientras mas operaciones mas grande se va haciendo este erro, por lo cual es importante utilizar redondeo y no truncamiento.\n",
    "    \n",
    "Veamos esto en la siguiente simulación: Supongamos que sumamos números aleatorios que varian entre 0.01 y 0.05 y realizamos la suma con todos los decimales, truncando y redondeando. Veamos cuales son los resultados. Puede elejir la cantidad de números que se suman deslizando el slider.\n",
    "    \n",
    "**Antes de comenzar no olvide presionar el boton <span style=\"color:red\">Show Widgets</span> para poder ver la animación**     "
   ]
  },
  {
   "cell_type": "code",
   "execution_count": 128,
   "metadata": {},
   "outputs": [
    {
     "data": {
      "application/vnd.jupyter.widget-view+json": {
       "model_id": "847d164b255d4fc3928d01c481e60888",
       "version_major": 2,
       "version_minor": 0
      },
      "text/plain": [
       "interactive(children=(IntSlider(value=100, description='Nexp', max=5000, min=100), Output()), _dom_classes=('w…"
      ]
     },
     "metadata": {},
     "output_type": "display_data"
    }
   ],
   "source": [
    "# nbi:hide_in\n",
    "import math \n",
    "\n",
    "a = widgets.IntSlider(min=100, max=5000)\n",
    "\n",
    "def truncate(num):\n",
    "    stepper = 10.0 ** 3\n",
    "    return math.trunc(stepper * num) / stepper\n",
    "\n",
    "\n",
    "def ejemplo(Nexp):\n",
    "    \n",
    "    sum_num      = 0\n",
    "    sum_truncate = 0\n",
    "    sum_redondeo = 0    \n",
    "\n",
    "    numeros = + np.random.uniform(low=0.1, high=0.5, size=Nexp)\n",
    "\n",
    "    for i in range(Nexp):\n",
    "        sum_num       = sum_num + numeros[i]\n",
    "        sum_truncate  = truncate(sum_truncate + numeros[i])\n",
    "        sum_redondeo = sum_redondeo+ round(numeros[i], 3) \n",
    "\n",
    "    print('Comprobación mediante truncamiento y redondeo de 3 decimales')    \n",
    "    print('La suma original es = ', sum_num)    \n",
    "    print('La suma con valores truncados a 3 decimales es = ', sum_truncate)\n",
    "    print('El error cometido al truncar es = ', (sum_num - sum_truncate))\n",
    "    print('La suma con valores redondeados a 3 decimales es = ', sum_redondeo)\n",
    "    print('El error cometido al redondear es = ', (sum_num - sum_redondeo))\n",
    "    print ('')\n",
    "\n",
    "interact(ejemplo, Nexp=a);"
   ]
  },
  {
   "cell_type": "markdown",
   "metadata": {},
   "source": [
    "De la simulación podemos notar que mientras mas operaciones, en este caso sumas, se realizan mayor es el error cometedio, veremos en la siguiente sección que para el caso de multiplicaciones y potencia el error se acrecienta. Por lo cual simepre tenemos que **redondear nunca truncar**"
   ]
  },
  {
   "cell_type": "markdown",
   "metadata": {},
   "source": [
    "## <span style=\"color:blue\">Cifras significativas<span>\n",
    "Cuando realizams operaciones en una calculadora parece como si fuese **“correcto”** o **“más exacto”** escribir los resultados con tantas cifras decimales como aparecen en pantalla, pero esto la mayoría de las veces carece de sentido. Debemos ser sensatos al escribír el resultado final.\n",
    "\n",
    "<div class=\"alert alert-block alert-success\">     \n",
    "<b>Ejemplo n°1:</b> \n",
    "Piense en lo siguiente, suponga que realiza una medición de la corriente que circula por un resistor y la misma es de $1,7 \\pm 0,1$ A y la diferencia de potencial es $15,4 \\pm 0,1$ V. Utilizando la ley de Ohm nos queda $R = \\frac{V}{I}=\\frac{15,4V}{1,7A}=9,058823529.$\n",
    "$$$$    \n",
    "Este resultado no tiene sentido, pues nuestras mediciones tienen una presición de un decimal, por lo cual no podemos asegurar el valor de mas de un decimal. En la próxima seccion veremos como calcular su incerteza que es de $\\Delta R = 0,5916 \\Omega$, que si lo redondeamos con un decimal nos queda $\\Delta R = 0,6 \\Omega$.\n",
    "$$$$\n",
    "La medición se escribe de forma correcta como:\n",
    "$$\\boxed{R = 9,1 \\pm 0,6 \\Omega}$$    \n",
    "</div>\n",
    "    \n",
    "<div class=\"alert alert-block alert-info\">     \n",
    "<b>Las cifras significativas de una medida son los dígitos que no estan afectados por el error, más una última cifra sometida al error de la medida, por lo cual este último número no es exacto. Normalmente solo se utiliza una cifra significativa en la insertidumbre, definiendo con esto la cantidad de dígitos necesarios para escribir el número. La primer cifra significativa de la incertidumbre es el primer número distinto de cero.</b>\n",
    "</div>    \n",
    "\n",
    "<div class=\"alert alert-block alert-success\">     \n",
    "<b>Ejemplo n°2:</b> \n",
    "Si digo que el resultado de una medida es $3,72m$, quiero decir que serán significativas las cifras $3, 7$ y $2$,  los dígitos $3$ y $7$ son cifras exactas y que el dígito $2$ puede ser erróneo. \n",
    "</div>\n",
    "    \n",
    "<div class=\"alert alert-block alert-success\">     \n",
    "<b>Ejemplo n°3:</b> \n",
    "No es lo mismo $3,70 m$ que $3,7 m$. En el primer caso queremos decir que se ha precisado hasta los centímetros mientras que en el segundo caso sólo hasta los decímetros.\n",
    "</div>    \n",
    " \n",
    "###  <span style=\"color:brown\">Para expresar correctamente los resultados de operaciones aritméticas, mediante cifras significativas, es necesario tener en cuenta que dicho resultado no puede tener más decimales que el número de menor cantidad de decimales involucrado en la operación. </span>\n",
    "    \n",
    "Abajo les dejo otra animación con la cual pueden seleccionar un número entre 0 y 20 y pueden seleccionar la cantidad de cifras significativas. Para presentar el número se redondea no se trunca.\n",
    "    \n",
    "**Antes de comenzar no olvide presionar el boton <span style=\"color:red\">Show Widgets</span> para poder ver la animación**    "
   ]
  },
  {
   "cell_type": "code",
   "execution_count": 86,
   "metadata": {},
   "outputs": [
    {
     "data": {
      "application/vnd.jupyter.widget-view+json": {
       "model_id": "0b6f976080dc4592b4439974590ab9da",
       "version_major": 2,
       "version_minor": 0
      },
      "text/plain": [
       "interactive(children=(FloatSlider(value=0.0, description='numero', max=20.0, readout_format='.5f', step=1e-05)…"
      ]
     },
     "metadata": {},
     "output_type": "display_data"
    }
   ],
   "source": [
    "# nbi:hide_in\n",
    "\n",
    "a = widgets.FloatSlider(min=0, max=20, step=1e-5,readout_format='.5f')\n",
    "b = widgets.IntSlider(min=1, max=5)\n",
    "'''\n",
    "a=widgets.FloatText(\n",
    "    value=7.5000,\n",
    "    description='Número:',\n",
    "    disabled=False\n",
    ")\n",
    "'''\n",
    "\n",
    "def cifra(numero, cifras_significativas):\n",
    "                        \n",
    "    numero2 = numero\n",
    "    if numero < 10 :\n",
    "        numero = round(numero+1e-6, cifras_significativas-1)\n",
    "    elif  cifras_significativas > 2:\n",
    "        numero = round(numero+1e-4, cifras_significativas-2)\n",
    "    elif cifras_significativas == 2 :\n",
    "        numero = (numero+1e-6)/ 10\n",
    "        numero = round(numero, 1)\n",
    "        numero = numero * 10\n",
    "    else:\n",
    "        numero = round(numero/ 10)   \n",
    "    return 'El número {} con {} cifras significativas es {}'.format(numero2,cifras_significativas,numero)\n",
    "\n",
    "interact(cifra, numero=a, cifras_significativas=b);\n"
   ]
  },
  {
   "cell_type": "markdown",
   "metadata": {},
   "source": [
    "    \n",
    "Un instrumento de medida debería tener el error en el último dígito que es capaz de medir.\n",
    "    \n",
    "<div class=\"alert alert-block alert-success\">     \n",
    "<b>Ejemplo n°4:</b> \n",
    "Cuando realizamos una medición con una regla milimetrada, podremos \n",
    "</div>     \n",
    "\n"
   ]
  },
  {
   "cell_type": "markdown",
   "metadata": {},
   "source": [
    "<form method=\"get\" action=\"https://nicolasferragamo.github.io/AEA/index.html\">\n",
    " <button type=\"submit\">Inicio\n",
    "</form>\n",
    "<form method=\"get\" action=\"https://nicolasferragamo.github.io/AEA/Mediciones/errores.html\">\n",
    " <button type=\"submit\">Anterior\n",
    "</form> \n",
    "<form method=\"get\" action=\"https://nicolasferragamo.github.io/AEA/Mediciones/.html\">\n",
    " <button type=\"submit\">Siguietne\n",
    "</form> "
   ]
  },
  {
   "cell_type": "markdown",
   "metadata": {},
   "source": [
    "**Copyright**\n",
    "\n",
    "The notebook is provided as [Open Educational Resource]('https://en.wikipedia.org/wiki/Open_educational_resources'). Feel free to use the notebook for your own educational purposes. The text is licensed under [Creative Commons Attribution 4.0]('https://creativecommons.org/licenses/by/4.0/'), the code of the IPython examples under the [MIT license]('https://opensource.org/licenses/MIT'). Please attribute the work as follows: Aplicaciones de electrónica Analógica by Nicolás Ferragamo.\n"
   ]
  }
 ],
 "metadata": {
  "kernelspec": {
   "display_name": "Python 3",
   "language": "python",
   "name": "python3"
  },
  "language_info": {
   "codemirror_mode": {
    "name": "ipython",
    "version": 3
   },
   "file_extension": ".py",
   "mimetype": "text/x-python",
   "name": "python",
   "nbconvert_exporter": "python",
   "pygments_lexer": "ipython3",
   "version": "3.6.9"
  }
 },
 "nbformat": 4,
 "nbformat_minor": 2
}
