{
 "cells": [
  {
   "cell_type": "code",
   "execution_count": 1,
   "metadata": {
    "slideshow": {
     "slide_type": "-"
    }
   },
   "outputs": [],
   "source": [
    "# nbi:hide_in\n",
    "from __future__ import print_function\n",
    "from ipywidgets import interact, interactive, fixed, interact_manual\n",
    "import ipywidgets as widgets\n",
    "import nbinteract as nbi\n",
    "from IPython.display import display\n",
    "import matplotlib.pyplot as plt\n",
    "import numpy as np"
   ]
  },
  {
   "cell_type": "markdown",
   "metadata": {},
   "source": [
    "# <span style=\"color:blue\"> Aplicaciones de electrónica Analógica  </span>\n",
    "\n",
    "Esta colección de [jupyter](https://jupyter.org/) notebooks pretende ser un apunto interactivo para la materia **AEA** dictada en la escuela E.E.S.T. N° 1 de Vicente López. Cáda uno de estos notebooks sirve como apunte de la materia así como los demás apuntes disponibles en el [moodle](https://eest.tecnica1vl.org/tecmood/). Les recomiendo fervientemente que lean el [Apunte AEA](https://drive.google.com/file/d/0BytGI1D61kXQS2VhNEo3Tkc3cmM/view) además del presente y profundizar en la bibliografía recomendada. \n",
    "\n",
    "\n",
    "\n"
   ]
  },
  {
   "cell_type": "markdown",
   "metadata": {},
   "source": [
    "## Tabla de contenidos\n",
    "\n",
    "### 1 **Introducción**\n",
    "\n",
    "   * [Introducción](https://nicolasferragamo.github.io/AEA/Introduccion/introduccion.html)  \n",
    "   * [Expectativas de logro](https://nicolasferragamo.github.io/AEA/Introduccion/expectativas_de_logro.html)\n",
    "   * [Indicadores de logro](https://nicolasferragamo.github.io/AEA/Introduccion/Indicadores_de_logro.html)\n",
    "   * [Criterios de evaluación](https://nicolasferragamo.github.io/AEA/Introduccion/Criterios_de_evaluacion.html)\n",
    "   * [Normativa](https://nicolasferragamo.github.io/AEA/Introduccion/normativa.html)\n",
    "   * [Cronograma 4° 3ra grupo A](https://drive.google.com/file/d/1g21Igdu0LwUQF7Z-pMbhceYftsqtdDoi/view?usp=sharing)\n",
    "   \n",
    "\n",
    "### 2  Mediciones y Errores \n",
    "\n",
    "* [Introducción](https://nicolasferragamo.github.io/AEA/Mediciones/introduccion.html)  \n",
    "* [Errores](https://nicolasferragamo.github.io/AEA/Mediciones/errores.html)  \n",
    "\n",
    "\n",
    "### 3  Instrumentos \n",
    "\n",
    "\n",
    "### 4   Funciones \n",
    "\n",
    "\n",
    "### **5 Señales** \n",
    "\n",
    "\n",
    "### **6 Osciloscopia**\n",
    "\n",
    "\n",
    "### **7 Electromagnetismo** \n",
    "\n",
    "\n",
    "### **8 Transformadores** \n",
    "\n",
    "\n",
    "### **9 Fuentes de alimentación linealies** \n",
    "\n",
    "\n",
    "### **10 Semiconductores** \n",
    "\n",
    "\n",
    "### **11 Diodos** \n",
    "\n",
    "\n",
    "### **12 Transistores en conmutación** "
   ]
  },
  {
   "cell_type": "markdown",
   "metadata": {},
   "source": [
    "# Referencias\n",
    "\n",
    "* Electrónica: Teoría de circuitos y dispositivos electrónicos, Robert L. Boylestad, Pearson Prentice Hall.\n",
    "* Introducción al análisis de circuitos, Boylestad, Pearson Prentice Hall.\n",
    "* Electrónica analógica, Jose maría Virgili, Juan Molnar.\n",
    "* Precálculo matemáticas para el cálculo, James Stewart, Lothar Redlin, Saleem Watson, Cengage Learning.\n",
    "* Circuitos microelectrónicos, Adel S. Sedra, Kenneth C. Smith, Oxford University Press.\n",
    "* Mediciónes y errores, Cs Básicas - U.D.B. Física, Centro de estudiantes de ingeniería tecnológica.\n",
    "* Conceptos básicos de la Electrónica Aplicada, Esteban Lemos.\n",
    "\n"
   ]
  },
  {
   "cell_type": "markdown",
   "metadata": {},
   "source": [
    "# Autor\n",
    "\n",
    "Nicolás Ferragamo"
   ]
  },
  {
   "cell_type": "markdown",
   "metadata": {},
   "source": [
    "**Copyright**\n",
    "\n",
    "The notebook is provided as [Open Educational Resource]('https://en.wikipedia.org/wiki/Open_educational_resources'). Feel free to use the notebook for your own educational purposes. The text is licensed under [Creative Commons Attribution 4.0]('https://creativecommons.org/licenses/by/4.0/'), the code of the IPython examples under the [MIT license]('https://opensource.org/licenses/MIT'). Please attribute the work as follows: Aplicaciones de electrónica Analógica by Nicolás Ferragamo.\n"
   ]
  }
 ],
 "metadata": {
  "kernelspec": {
   "display_name": "Python 3",
   "language": "python",
   "name": "python3"
  },
  "language_info": {
   "codemirror_mode": {
    "name": "ipython",
    "version": 3
   },
   "file_extension": ".py",
   "mimetype": "text/x-python",
   "name": "python",
   "nbconvert_exporter": "python",
   "pygments_lexer": "ipython3",
   "version": "3.6.9"
  }
 },
 "nbformat": 4,
 "nbformat_minor": 2
}
