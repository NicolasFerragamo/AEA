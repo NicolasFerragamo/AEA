{
 "cells": [
  {
   "cell_type": "code",
   "execution_count": 13,
   "metadata": {
    "slideshow": {
     "slide_type": "-"
    }
   },
   "outputs": [],
   "source": [
    "# nbi:hide_in\n",
    "from __future__ import print_function\n",
    "from ipywidgets import interact, interactive, fixed, interact_manual\n",
    "import ipywidgets as widgets\n",
    "import nbinteract as nbi\n",
    "from IPython.display import display\n",
    "import matplotlib.pyplot as plt\n",
    "import numpy as np\n"
   ]
  },
  {
   "cell_type": "markdown",
   "metadata": {},
   "source": [
    "# <span style=\"color:blue\"> Errores <span>\n",
    "\n",
    "En la sección anterior vimos que el **error** en una medición no es sinónimo de **equivocación** sino de **incertidumbre** en la medición. En esta sección nos vamos concentrar en las fuentes de los errores y en los diferentes tipos de errores.\n",
    "    \n",
    "    \n",
    "## <span style=\"color:blue\">Funetes de errores<span>\n",
    "    \n",
    "En el proceso de medición como vimos intervienen varios factores que hacen que la medición no sea perfecta. Recuerden que al medir no necesariamente obtenemos el valor verdadero de la medición, de hecho la probabilidad de que eso ocurra es practicamente 0, sin embargo establecemos un intervalo donde se encuentra el valor verdadero. En este apartado vamos a ver una clasificación de las causas de la incertidumbre en la medición. Podemos establecer 3 tipos de errores:\n",
    "    \n",
    "### <span style=\"color:red\">Errores Grosero o espurios o fallas:<span> \n",
    "Son aquellos que provienen de la equivocación del operador (fallas). Por ejemplo, contar mal las oscilaciones del péndulo, anotar mal un valor por invertir los dígitos. Estos errores se pueden evitar siendo cautelosos y repitiendo la medición.\n",
    "    \n",
    "### <span style=\"color:red\">Errores Sistemáticos o  sesgo:<span>\n",
    "Son aquellos que se producen en todas las mediciones y que pueden ser corregidos.\n",
    "\n",
    "* **Mala calibración de los instrumentos de medición:** uno de estos puede ser el error de 0, que significa que la escala no empieza en cero. Esto hay que tenerlo simpre en cuenta, especialmente en los instrumentos electrónicos para corregirlos previamente a la medición. Por ejemplo al querer leer una tensión con el voltímetro, este no empieza en 0V al estar desconectado sino en 0,1V, por lo cual a nuestra medición le tenemos que restar 0,1V.\n",
    "    \n",
    "    \n",
    "* **Error de paralaje:** Esto ocurre en los instrumentos de aguja. En ellos al realizar una medida hay que tener especial cuidado en nuestra posición ya que si nos posicionamos con nuestra cabeza mas a la izquierda o mas a la derecha vamos a obtener una lectura diferente. Para evitar esto los instrumentos cuentan con un espejo para que al posicionarnos nos aseguremos de no ver el reflejo de la aguja, lo que nos indica que la lectura es correcta.\n",
    "    \n",
    "    \n",
    "* **Condiciones experimentales distintas:** Otro factor son las condiciones experimentales de nuestr medición distintas de aquellas en que fue calibrado el instrumento. Por ejemplo presión, temperatura, etc. (Veremos como corregir esto en la sección Instrumentos) \n",
    "    \n",
    "    \n",
    "* **Uso de fórmulas aproximadas:** correspondientes a modelos físicos o leyes matemáticas, para simplificar el trabajo. También de deben al truncamiento y de redondeo al tratar matemáticamente los números.\n",
    "    \n",
    "### <span style=\"color:red\">Errores Aleatorio o accidentales o causales:<span>        \n",
    "Se deben a múltiples factores externos y se encuentran presentes en todas llas mediciones, provienen de\n",
    "fuentes de error independientes e imposibles de detectar. Son practicamente imposibles de eliminar, solo se puede hacer un tratamiento estadístico para intentar reducirlos, pero no eliminarlos.\n",
    "    \n",
    "* **Condiciones fluctiantes:** Las condiciones de presión, temperatura, alimentación de linea, etc no permanecen constante durante la medición y varían de forma aleatoria ( es decir no se pueden predecir).\n",
    "    \n",
    "    \n",
    "* **Perturbaciones:** pueden ser debidos a vibraciones mecánicas. En instrumentos eléctricos se puede deber a señales espuias.\n",
    "    \n",
    " \n",
    "* **Imperfecciónes del objeto a medir:** Por ejemplo si examinamos una varilla con un microscopio observaremos irregularidades que no podremos quitar ni con el mejor pulido, por lo cual su longitud esta indeterminada. Otro ejemplo es que al medir una mesa rectangular sus extremos opuestos no estan perfectamente paralelos.\n",
    "    \n",
    "    \n",
    "* **Condiciones desfavorables de observación:** pueden estar causadas por la fatiga del observador, mala iluminación, la no coincidencia de unos de los extremos con el cero de la regla, etc.    \n",
    "    \n",
    "      \n",
    "* **Imperfecciones de los instrumentos:** se deben a defectos de fabricación (dado que es imposible construir instrumentos perfectos). Estos pueden ser deformaciones, *_falta de linealidad_*, imperfecciones mecánicas, falta de\n",
    "paralelismo, etcétera\n",
    "\n",
    "\n",
    "La existencia de los errores aleatorios se evidencia al realizar varias veces la misma medición, notaremos que rara vez obtendremos el mismo resultado.     \n",
    "\n",
    "<div class=\"alert alert-block alert-warning\">\n",
    "<b>Podemos concluír que al realizar una medición esta nunca estara libre de errores. Nuestro trabajo será reducirlos lo mas posible y tenerlos simpre en cuenta. Podemos concluír que al realizar una medición esta nunca estara libre de errores. Nuestro trabajo será reducirlos lo mas posible y tenerlos simpre en cuenta.</b>\n",
    "</div>\n",
    "       \n",
    "**Antes de comenzar no olvide presionar el boton <span style=\"color:red\">Show Widgets</span> para poder responder las preguntas**    "
   ]
  },
  {
   "cell_type": "code",
   "execution_count": 7,
   "metadata": {},
   "outputs": [
    {
     "data": {
      "application/vnd.jupyter.widget-view+json": {
       "model_id": "466e506e939b430ba804738b4de07e61",
       "version_major": 2,
       "version_minor": 0
      },
      "text/plain": [
       "VBox(children=(HTML(value='<p style=\"line-height:18px;\">Todos los errores se pueden evitar o corregir</p>'), H…"
      ]
     },
     "metadata": {},
     "output_type": "display_data"
    },
    {
     "data": {
      "application/vnd.jupyter.widget-view+json": {
       "model_id": "b266e552f0674d14a7aa61d4ff322346",
       "version_major": 2,
       "version_minor": 0
      },
      "text/plain": [
       "VBox(children=(HTML(value='<p style=\"line-height:18px;\">¿Qué clase de erro se comete al medir con una regla ro…"
      ]
     },
     "metadata": {},
     "output_type": "display_data"
    },
    {
     "data": {
      "application/vnd.jupyter.widget-view+json": {
       "model_id": "c51002b5ddce486b9cd429868308eea9",
       "version_major": 2,
       "version_minor": 0
      },
      "text/plain": [
       "VBox(children=(HTML(value='<p style=\"line-height:18px;\">A que clase de erro pertenece usar una fórmula incorre…"
      ]
     },
     "metadata": {},
     "output_type": "display_data"
    },
    {
     "data": {
      "application/vnd.jupyter.widget-view+json": {
       "model_id": "e00f990fbfe541c2836c61622f7113bd",
       "version_major": 2,
       "version_minor": 0
      },
      "text/plain": [
       "VBox(children=(HTML(value='<p style=\"line-height:18px;\">¿Qué clase de erro se comete al medir con una instrume…"
      ]
     },
     "metadata": {},
     "output_type": "display_data"
    }
   ],
   "source": [
    "# nbi:hide_in\n",
    "nbi.multiple_choice(question=\"Todos los errores se pueden evitar o corregir\",\n",
    "                    choices=['Verdadero', 'Falso'],\n",
    "                    answers=1)\n",
    "\n",
    "nbi.multiple_choice(question=\"¿Qué clase de erro se comete al medir con una regla rota que no comienza desde el cero?\",\n",
    "                    choices=['Error grosero', 'Error aleatorio', 'Error sistemático'],\n",
    "                    answers=2)\n",
    "\n",
    "nbi.multiple_choice(question=\"A que clase de erro pertenece usar una fórmula incorrecta\",\n",
    "                    choices=['Error grosero', 'Error aleatorio', 'Error sistemático'],\n",
    "                    answers=0)\n",
    "\n",
    "nbi.multiple_choice(question=\"¿Qué clase de erro se comete al medir con una instrumento eléctrico en un ambiente electricamente ruidoso?\",\n",
    "                    choices=['Error grosero', 'Error aleatorio', 'Error sistemático'],\n",
    "                    answers=1)"
   ]
  },
  {
   "cell_type": "markdown",
   "metadata": {},
   "source": [
    "## <span style=\"color:blue\"> Tipos de errores </span>\n",
    "    \n",
    "Tenemos tres formas distintas de escribir el error cometido en una medición, dependiendo lo que necesitemso nos va a convenir utilizar uno u otro.\n",
    "    \n",
    "Empecemos recordando el gráfico de indeterminación \n",
    "   \n",
    "<img src=\"Imagenes/medida1.png\" width=\"600\" height=\"300\">\n",
    "   \n",
    "\n",
    "<div class=\"alert alert-block alert-warning\">\n",
    "Matemáticamente lo podemos expresar como: \n",
    "    \n",
    "$$ \\boxed{x_{min} \\leq x \\leq x_{máx}}$$\n",
    "    \n",
    "donde <b>x</b> es el valor verdadero de la medida. \n",
    "</div>\n",
    "    \n",
    "Esto nos indica que el valor real de nuestra medida se encuentra dentro del intervalo comprendido entre $x_{min}$ y $x_{máx}$. Dado que no conocemos el valor real de la medida, podemos tomar como \"valor verdadero\" de la medición la media geométrica de ese intervalo (el valor medio)   \n",
    "    \n",
    "<div class=\"alert alert-block alert-info\">\n",
    "<b> Valor representativo:</b> es el valor que tomamos como verdadero para expresar correctamente la medición, no tiene por que ser el valor verdadero de la medición aunque puede serlo. Es la media geométrica del intervalo de indeterminación.\n",
    "    \n",
    "Se lo representa como $X_o$    \n",
    "$$$$  \n",
    "    \n",
    "$$ \\boxed{X_o = \\frac{X_{mín} + X_{máx}}{2}} $$ \n",
    "    \n",
    "</div>  \n",
    "    \n",
    "### <span style=\"color:red\">Errore Absoluto:<span>    \n",
    "Empezaremos hablando de este tipo de error ya que es el que se usa para representar correctamente una medición. ES importente destacar que en si no es el error cometido sino el error máximo que podemos estar cometiendo, es una sutil pero importante diferencia.\n",
    "    \n",
    "<div class=\"alert alert-block alert-info\">\n",
    "<b> Error absoluto:</b> Es la diferencia entre el valor medido y el valor verdadero. Tiene la misma unidad que la magnitud bajo análisis.\n",
    "    \n",
    "Se lo representa como $\\Delta X$  \n",
    "    \n",
    "$$$$      \n",
    "$$ \\boxed{ \\Delta X = \\mid X_i - X_v\\mid} $$ \n",
    "    \n",
    "Donde: \n",
    "$$$$      \n",
    "$X_i$ es el valor de la medición\n",
    "$$$$     \n",
    "$X_v$ es el valor verdadero\n",
    "$$$$     \n",
    "y se utiliza módulo porque el error siempre positivo ya que no depende si estoy por arriba o por abajo del valor verdadero.       \n",
    "</div>  \n",
    "    \n",
    "Esta definición es práctica pero acarrea un problema mas que evidente, <span style=\"color:red\">**no conocemos el valor verdadero**</span> ni lo vamos a conocer. Esto lo podemos solventar utilizando $X_o$ en vez de $X_v$. También podemos hacerlo de la siguiente manera:\n",
    "   \n",
    "<div class=\"alert alert-block alert-info\">\n",
    "Podemos decir que el error máximo cometido es la mitad del intervalo, por lo tanto nos queda:\n",
    "\n",
    "$$$$        \n",
    "$$ \\boxed{ \\Delta X = \\frac{X_{máx} - X_{mín} }{2}}$$ \n",
    "    \n",
    "Que no es otra forma de hacer el cálculo anterior pero sin tener que calcular antes el valor representativo $X_{o}$    \n",
    "</div>  \n",
    "        \n",
    "\n",
    "Sabiendo esto, estamos en condiciones de expresar una medida de la forma correcta\n",
    "    \n",
    "<div class=\"alert alert-block alert-warning\">\n",
    "$$$$      \n",
    "$$ \\boxed{X = X_o \\pm \\Delta X}$$\n",
    " \n",
    "donde: \n",
    "$$$$    \n",
    "*  <b>X</b> es el resultado de la medición. \n",
    "$$$$    \n",
    "*  <b>$X_o$</b> es el valor representativo de la medición (el valor que coincidieramos como verdadero).\n",
    "$$$$    \n",
    "*  <b>$\\Delta X$</b> es el error absoluto, incerteza o indeterminación de la medición.\n",
    "$$$$        \n",
    "</div>\n",
    "    \n",
    "### <span style=\"color:red\"> Toda medida debe estar acompañada de su error y su unidad, de lo contrario esa medición sera incorrecta y carecerá de sentido. </span>\n",
    "    \n",
    "<div class=\"alert alert-block alert-success\">\n",
    "<b> Ejemplo n° 1:</b> \n",
    "    \n",
    "El usted realiza la medición de una resistencia y le da como resultado 231 $\\Omega$ y cuyo valor nominal indicado por el fabricante es 220 $\\Omega$ ¿Cuál es el error absoluto?\n",
    "$$$$    \n",
    "En este caso podemos suponer, por falta de mas datos que el valor verdadero es 220 $\\Omega$ por lo cual utiliando la ecuación $ \\Delta R = \\mid R_i - R_v\\mid $ podremos obtener el error absoluto.\n",
    "$$$$   \n",
    "Remplazando los datos en la ecuación nos queda:\n",
    "$$$$\n",
    "$$ \\boxed{ \\Delta R = \\mid 231 \\Omega - 220 \\Omega \\mid = 11 \\Omega} $$     \n",
    "$$$$\n",
    "Lo que significa el valor verdadero de la resistencia se encuentra entre 209 y 231 \n",
    "$$$$\n",
    "$$\\boxed{R = 220 \\pm 11 \\Omega}$$    \n",
    "</div>    \n",
    "\n",
    "**Antes de comenzar no olvide presionar el boton <span style=\"color:red\">Show Widgets</span> para poder ver la animación**\n",
    "    \n",
    "La siguiente animación les ayudará a entender la forma correcta de representar una medida con una sola cifra significativa (solo el primer número distinto de cero en el error absoluto es válido) y redondeando el valor. Esto se verá con mas detalle en la siguiente sección.\n",
    "    \n",
    "El formato de salida es:\n",
    "    \n",
    "$$ \\boxed{X = X_o \\pm \\Delta X}$$  \n",
    "    \n",
    "Por ejemplo para medición $ X = 4,52 \\pm 0,38 $ al tomar una sola cifra significativa despues de la coma (en el error absoluto) y redondeando el número nos queda $\\Delta X=0,4$. De forma similar como nuestr medición no puede ser mas precisa que el error que estamos comentiendo debemos también redondiar el valor representativo $X_o$ a un sola cifra significativa quedándonos $X_o = 4,5$. Por lo tanto la medición final se debe escribir como:\n",
    "    \n",
    "$$ X = 4,5 \\pm 0,4 cm $$   \n",
    "    \n",
    "Lo que quiere decir que el valor verdadero de la medición se encuentra entre 4,1 y 4,9 cm"
   ]
  },
  {
   "cell_type": "code",
   "execution_count": 12,
   "metadata": {},
   "outputs": [
    {
     "data": {
      "application/vnd.jupyter.widget-view+json": {
       "model_id": "4710b079667a48b986db41ddd5ed9854",
       "version_major": 2,
       "version_minor": 0
      },
      "text/plain": [
       "interactive(children=(FloatSlider(value=0.0, description='valor_representativo', max=10.0, step=0.01), FloatSl…"
      ]
     },
     "metadata": {},
     "output_type": "display_data"
    }
   ],
   "source": [
    "# nbi:hide_in\n",
    "\n",
    "b = widgets.FloatSlider(min=0, max=2, step=0.01)\n",
    "a = widgets.FloatSlider(min=0, max=10, step=0.01)\n",
    "\n",
    "def medicion(valor_representativo, error_absoluto):\n",
    "    \n",
    "    if error_absoluto > 1: \n",
    "        error_absoluto = round(error_absoluto+0.01, 0)\n",
    "        valor_representativo = round(valor_representativo+0.01, 0)\n",
    "    else:\n",
    "        error_absoluto = round(error_absoluto+0.01, 1)\n",
    "        valor_representativo = round(valor_representativo+0.01,1)\n",
    "    return 'X = {} +/- {}'.format(valor_representativo, error_absoluto)\n",
    "\n",
    "interact(medicion, valor_representativo=a, error_absoluto=b);\n"
   ]
  },
  {
   "cell_type": "markdown",
   "metadata": {},
   "source": [
    "\n",
    "\n",
    "<div class=\"alert alert-block alert-warning\">\n",
    "Dadas las siguientes medidas:    \n",
    "$$$$      \n",
    "$ X_a = 10m \\pm \\Delta 0,1m$\n",
    "$$$$  \n",
    "$ X_b = 10Km \\pm \\Delta 0,01Km$\n",
    "$$$$ \n",
    "$ X_c = 1l \\pm \\Delta 0,01l$\n",
    "$$$$ \n",
    "$ X_d = 50mA \\pm \\Delta 0,1mA$\n",
    "$$$$     \n",
    "</div>\n"
   ]
  },
  {
   "cell_type": "code",
   "execution_count": 4,
   "metadata": {},
   "outputs": [
    {
     "data": {
      "application/vnd.jupyter.widget-view+json": {
       "model_id": "8a2a48463d07484ea90212d2a848e602",
       "version_major": 2,
       "version_minor": 0
      },
      "text/plain": [
       "VBox(children=(HTML(value='<p style=\"line-height:18px;\">¿Cuál es la mas precisa?</p>'), HBox(children=(Button(…"
      ]
     },
     "metadata": {},
     "output_type": "display_data"
    }
   ],
   "source": [
    "# nbi:hide_in\n",
    "nbi.multiple_choice(question=\"¿Cuál es la mas precisa?\",\n",
    "                    choices=['Xa', 'Xb','Xc','Xd'],\n",
    "                    answers=1)"
   ]
  },
  {
   "cell_type": "markdown",
   "metadata": {},
   "source": [
    "###  <span style=\"color:brown\"> ¡Cuidado no puede compara medidas en distintas unidades! además aunque seguramente penso que cometer un error de 10 metros significa que mi medida es menos precisa que cometer un error de 10 cm no tiene por que ser así. Esto nos indica que el error absoluto no es fiable para comparar mediciones y necesitamos otra herramienta nueva. </span>"
   ]
  },
  {
   "cell_type": "markdown",
   "metadata": {},
   "source": [
    "### <span style=\"color:red\">Error Relativo:<span> \n",
    "El **error relativo** viene a solucionar el problema que se nos presento ya que al no tener unidades, me permite comparar mediciones de distintas magnitudes y contempla en él, la proporción que afecta a la medición el error cometido. Es el error mas útil.\n",
    "    \n",
    "    \n",
    "<div class=\"alert alert-block alert-info\">\n",
    "<b> Error relativo:</b> Es la relación proporcional entre el valor representativo $X_o$ y el error absoluto $\\Delta X$. <b> Es adimensional</b>\n",
    "    \n",
    "Se representa con la letra griega épsilon $\\epsilon_r$\n",
    "    \n",
    "$$$$      \n",
    "$$ \\boxed{ \\epsilon_r = \\frac{\\Delta X}{X_o}} $$ \n",
    "    \n",
    "Donde: \n",
    "$$$$      \n",
    "$X_o$ es el valor representativo de la medición.\n",
    "$$$$     \n",
    "$\\Delta X$ es el error absoluto de la medición.\n",
    "$$$$         \n",
    "</div>      \n",
    "    \n",
    "###  <span style=\"color:red\">Error Relativo porcentual:<span> \n",
    "<div class=\"alert alert-block alert-info\">    \n",
    "<b> Error relativo porcentual:</b> Es la relación porcentual entre el valor representativo $X_o$ y el error absoluto $\\Delta X$ . \n",
    "    \n",
    "Se representa con la letra griega épsilon $\\epsilon_r$ \n",
    "    \n",
    "$$$$      \n",
    "$$ \\boxed{ \\epsilon_{r\\%} = \\frac{\\Delta X}{X_o} *100 \\%} $$ \n",
    "$$$$       \n",
    "$$ \\boxed{ \\epsilon_{r\\%} = \\epsilon_r *100 \\%} $$     \n",
    "Donde: \n",
    "$$$$      \n",
    "$X_o$ es el valor representativo de la medición.\n",
    "$$$$     \n",
    "$\\Delta X$ es el error absoluto de la medición.\n",
    "$$$$     \n",
    "</div>  \n",
    "    \n",
    "Probablemente conozca al **error relativo porcentual** como **\"tolerancia\"**\n",
    "    \n",
    "###  <span style=\"color:brown\"> Cuidado con ponerle unidades, el error relativo es **adimencional** lo que nos permite comparar medidas de distintas magnitudes. </span>   \n",
    "    \n",
    "\n",
    "<div class=\"alert alert-block alert-success\">    \n",
    "<b> Ejemplo 2:</b> Contestemos ahora la pregunta que planteamos mas arriba.  Para ello vamos a calcular el <b> error relativo </b> de cada medición.\n",
    "    \n",
    "    \n",
    "Se representa con la letra griega épsilon $\\epsilon_r$ \n",
    "    \n",
    "$$$$ \n",
    "    \n",
    "$ \\epsilon_r = \\frac{0,1 m}{10 m} = 0,01 \\Rightarrow \\epsilon_{r\\%} = 1 \\%$\n",
    "    \n",
    "$$$$       \n",
    "$ \\epsilon_r = \\frac{0,01 Km}{10 Km} = 0,001 \\Rightarrow  \\epsilon_{r\\%}= 0,1 \\%$   \n",
    "    \n",
    "$$$$      \n",
    "$\\epsilon_r = \\frac{0,01 l}{1 l} = 0,01 \\Rightarrow  \\epsilon_{r\\%} = 1 \\% $\n",
    "    \n",
    "$$$$     \n",
    "$\\epsilon_r = \\frac{50 mA}{0,1 mA} = 0,002 \\Rightarrow \\epsilon_{r\\%} = 0,2 \\%$ \n",
    "  \n",
    "</div>  \n",
    "    \n",
    "    \n",
    " Por lo tanto podemos notar que la medida a y c poseen la misma precisión, mientras que la mas precisa es la medida b seguida de la d.   \n",
    "    \n",
    "<div class=\"alert alert-block alert-success\">    \n",
    "<b> Ejemplo 3:</b> Dada una resistencia de 100 $\\Omega$ con una tolerancia de 5 $\\%$ obtener $R_{mín}, R_{máx}$ y escriba la medición de forma estandar.\n",
    "    \n",
    "    \n",
    "Recordemos que la tolerancia es el valor del <b>error relativo porcentual</b>, por lo cual si lo dividimos por 100 obtenemos el $\\epsilon_r$ .\n",
    "$$$$       \n",
    "$$ \\epsilon_r = \\frac{\\epsilon_{r \\%}}{100} = \\frac{5}{100} = 0,05 $$    \n",
    "    \n",
    "despejando de la ecuación de error relativo nos queda  \n",
    "$$$$     \n",
    "$$ \\Delta R = \\epsilon_{r} * R_o = 0,05 * 100 = 5 $$  \n",
    "$$$$  \n",
    "    \n",
    "$$ R_{min} = R_o - \\Delta R = 100 - 5 = 95$$   \n",
    "    \n",
    "$$ R_{máx} = R_o + \\Delta R = 100 + 5 = 105$$      \n",
    "$$$$      \n",
    "Por último la medición se escribe:\n",
    "$$$$     \n",
    "\n",
    "$$ \\boxed{R = 100 \\pm 5 \\Omega}$$\n",
    " \n",
    "</div>\n",
    "    "
   ]
  },
  {
   "cell_type": "markdown",
   "metadata": {},
   "source": [
    "<div class=\"alert alert-block alert-danger\">    \n",
    "<b> Ejercicio:</b> Suponga una resistencia con una tolerancia de 1 $\\%$, que tiene un valor nominal de 10 K$\\Omega$ y al realizar su medición da como resultado un valor de 9991 $\\Omega$. Sin tener en cuenta los errores de medición responda:    \n",
    "</div>\n",
    "    "
   ]
  },
  {
   "cell_type": "code",
   "execution_count": 5,
   "metadata": {},
   "outputs": [
    {
     "data": {
      "application/vnd.jupyter.widget-view+json": {
       "model_id": "53c90a0431a749eb983b39a5f115e542",
       "version_major": 2,
       "version_minor": 0
      },
      "text/plain": [
       "VBox(children=(HTML(value='<p style=\"line-height:18px;\">¿Cuál es el error absoluto de fabricación de la resist…"
      ]
     },
     "metadata": {},
     "output_type": "display_data"
    },
    {
     "data": {
      "application/vnd.jupyter.widget-view+json": {
       "model_id": "9d04cd8499d94ba6b62168f379f56e6f",
       "version_major": 2,
       "version_minor": 0
      },
      "text/plain": [
       "VBox(children=(HTML(value='<p style=\"line-height:18px;\">¿Cuál es el error relativo?. Escriba el número con \",\"…"
      ]
     },
     "metadata": {},
     "output_type": "display_data"
    },
    {
     "data": {
      "application/vnd.jupyter.widget-view+json": {
       "model_id": "7788f1e0d76746858fc89963f28242e8",
       "version_major": 2,
       "version_minor": 0
      },
      "text/plain": [
       "VBox(children=(HTML(value='<p style=\"line-height:18px;\">¿Cuál es el error relativo porcential?. Escriba el núm…"
      ]
     },
     "metadata": {},
     "output_type": "display_data"
    },
    {
     "data": {
      "application/vnd.jupyter.widget-view+json": {
       "model_id": "07ef3e830ae040c9b868c4b9c2eadfcb",
       "version_major": 2,
       "version_minor": 0
      },
      "text/plain": [
       "VBox(children=(HTML(value='<p style=\"line-height:18px;\">¿Se encuentra el valor de resistencia dentro de los va…"
      ]
     },
     "metadata": {},
     "output_type": "display_data"
    }
   ],
   "source": [
    "# nbi:hide_in\n",
    "nbi.short_answer('¿Cuál es el error absoluto de fabricación de la resistencia?. Escriba el número', answers='9',\n",
    "                  explanation='|Ri - Rv|= |9991- 10000| = 9 Ohms' )\n",
    "\n",
    "nbi.short_answer('¿Cuál es el error relativo?. Escriba el número con \",\" como punto decimal', answers='0,0009',\n",
    "                  explanation='e = error_absoluto/Ro = 9/10000 = 0,0009' )\n",
    "\n",
    "nbi.short_answer('¿Cuál es el error relativo porcential?. Escriba el número con \",\" como punto decimal y sin el simbolo de \"%\"', answers='0,09',\n",
    "                  explanation='er% = er *100% = 0,09%' )\n",
    "\n",
    "nbi.multiple_choice(question=\"¿Se encuentra el valor de resistencia dentro de los valores indicados por el fabricante ?\",\n",
    "                    choices=['si', 'no', 'no lo puedo saver'],\n",
    "                    answers=0)"
   ]
  },
  {
   "cell_type": "markdown",
   "metadata": {},
   "source": [
    "<form method=\"get\" action=\"https://nicolasferragamo.github.io/AEA/index.html\">\n",
    " <button type=\"submit\">Inicio\n",
    "</form>\n",
    "<form method=\"get\" action=\"https://nicolasferragamo.github.io/AEA/Mediciones/introduccion.html\">\n",
    " <button type=\"submit\">Anterior\n",
    "</form> \n",
    "<form method=\"get\" action=\"https://nicolasferragamo.github.io/AEA/Mediciones/expresion-medicion.html\">\n",
    " <button type=\"submit\">Siguiente\n",
    "</form> "
   ]
  },
  {
   "cell_type": "markdown",
   "metadata": {},
   "source": [
    "**Copyright**\n",
    "\n",
    "The notebook is provided as [Open Educational Resource]('https://en.wikipedia.org/wiki/Open_educational_resources'). Feel free to use the notebook for your own educational purposes. The text is licensed under [Creative Commons Attribution 4.0]('https://creativecommons.org/licenses/by/4.0/'), the code of the IPython examples under the [MIT license]('https://opensource.org/licenses/MIT'). Please attribute the work as follows: Aplicaciones de electrónica Analógica by Nicolás Ferragamo.\n"
   ]
  }
 ],
 "metadata": {
  "kernelspec": {
   "display_name": "Python 3",
   "language": "python",
   "name": "python3"
  },
  "language_info": {
   "codemirror_mode": {
    "name": "ipython",
    "version": 3
   },
   "file_extension": ".py",
   "mimetype": "text/x-python",
   "name": "python",
   "nbconvert_exporter": "python",
   "pygments_lexer": "ipython3",
   "version": "3.6.9"
  }
 },
 "nbformat": 4,
 "nbformat_minor": 2
}
