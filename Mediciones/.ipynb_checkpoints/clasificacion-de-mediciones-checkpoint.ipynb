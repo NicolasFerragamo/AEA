{
 "cells": [
  {
   "cell_type": "code",
   "execution_count": 1,
   "metadata": {
    "slideshow": {
     "slide_type": "-"
    }
   },
   "outputs": [],
   "source": [
    "# nbi:hide_in\n",
    "from __future__ import print_function\n",
    "from ipywidgets import interact, interactive, fixed, interact_manual\n",
    "import ipywidgets as widgets\n",
    "import nbinteract as nbi\n",
    "from IPython.display import display\n",
    "import matplotlib.pyplot as plt\n",
    "import numpy as np\n",
    "from matplotlib.pyplot import figure, savefig\n"
   ]
  },
  {
   "cell_type": "markdown",
   "metadata": {},
   "source": [
    "# <span style=\"color:blue\"> Comparación de mediciones <span>\n",
    "\n",
    "Tal vez puedan pensar que comparar medidas sea un tema trivial, pero no lo es tanto. En primer lugar tenemos que comparar la misma magnitud y en la misma unidad, es una obviedad pero no esta de mas recordarlo.\n",
    "    \n",
    "Lo que comparamos son la misma magnitud que se mide con distintos métodos, o por distintos observadores para poder saber si estas son iguales o distintas. Al hacer esto se dan 3 casos posibles que tenemos que entender para no llegar a conclusiones equivocadas.\n",
    "    \n",
    "Recordemos que toda medida se representa como un intervalo de indeterminación, dada por la expresión $X = X_o \\pm \\Delta X$\n",
    " \n",
    "(Para los gráficos se utilizan los mismos intervalos de indeterminación y con la misma escala en ejes paralelos.)    \n",
    "### <span style=\"color:red\">Caso a:<span> \n",
    "    \n",
    "En el primer caso si miramos el gráfico podemos observar que los intervalos se superponen (tienen puntos en común) por lo cual podemos decir que ambas mediciones son **iguales**   \n",
    "    \n",
    "<img src=\"Imagenes/a.png\" width=\"600\" height=\"360\">    \n",
    "    \n",
    "<div class=\"alert alert-block alert-info\">\n",
    "<b>Matemáticamente esto se escribe como:  </b> \n",
    "$$ \\boxed{ | X_{01} - X_{02}| < |\\Delta X_1| + |\\Delta X_2| \\Rightarrow X_1 = X_2} $$\n",
    "</div>     \n",
    "\n",
    "### <span style=\"color:red\">Caso b:<span> \n",
    "    \n",
    "En este caso al mirar el gráfico podemos observar que los intervalos no se superponen (no tienen puntos en común) por lo cual podemos decir que ambas mediciones son **distintas**   \n",
    "    \n",
    "<img src=\"Imagenes/b.png\" width=\"600\" height=\"360\">    \n",
    "    \n",
    "    \n",
    "<div class=\"alert alert-block alert-info\">\n",
    "<b>Matemáticamente esto se escribe como:  </b> \n",
    "$$ \\boxed{ | X_{01} - X_{02}| > |\\Delta X_1| + |\\Delta X_2| \\Rightarrow X_1 \\neq X_2} $$\n",
    "</div>   \n",
    "    \n",
    "    \n",
    "### <span style=\"color:red\">Caso c:<span> \n",
    "    \n",
    "Este es el caso mas difícil. Podemos observar que los intervalos solo tienen un punto en común, por lo cual no conviene tomar ninguna decisión. Lo mejor es realizar medidas nuevas para ver si estamos en el caso a o en el b.\n",
    "    \n",
    "<img src=\"Imagenes/c.png\" width=\"600\" height=\"360\">    \n"
   ]
  },
  {
   "cell_type": "markdown",
   "metadata": {},
   "source": [
    "# <span style=\"color:blue\"> Clasificación de mediciones <span>\n",
    "    \n",
    "Las medidas pueden clasificarse en:     \n",
    "\n",
    "* **Mediciones directas:** son aquellas magnitudes que se miden una única vez. \n",
    "    \n",
    "* **Mediciones indirectas:** son aquellas en las cuales para obtener una magnitud hay que realizar varias magnitudes y utilizar una expresión matemática para obtenerla. \n",
    "    \n",
    "## <span style=\"color:red\">Mediciones directas:<span> \n",
    "\n",
    "En primer lugar quiero aclarar que el campo de la estadística es muy importante en las mediciones, ya que toda medición tiene múltiples factores a considerar. Por lo cual lo que hay que hacer es un tratamiento estadístico de errores en las mediciones. Como esto escapa por mucho el alcance de la materia solo mencionare algunas cosas puntuales a fines informativos solamente.\n",
    "  \n",
    "Como mencione anteriormente, las medidas directas son aquellas en la cual la magnitud se obtiene con una sola medición. Por ejemplo puedo determinar el largo de una mesa midiendo con una cinta métrica su longitud. Por otro lado si quisiera medir su área (suponiendo que es de forma rectangular) tendría que medir su largo y su ancho y por último utilizar una forma matemática A = l x h para obtenerla, por lo cual su obtención es de forma indirecta.\n",
    "    \n",
    "Vimos que uno de los tipos de errores son los aleatorios o causales y que los mismos varían de forma aleatoria. Esto nos indica que no podemos encontrar una ecuación matemática que los defina para cada medición, pero por medio de la estadística podemos conocer ciertas cosas que nos permitan disminuir sus efectos en las mediciones.\n",
    "    \n",
    "Si bien como mencione, no vamos a entrar en detalle, si vamos a tratar de entender la idea que lo rodea. Piense en esto al lanzar una moneda puede obtener como resultado una **cara** o una **ceca** (se escribe con c cuando hablamos de monedas). Cunado lance la moneda aveces le tocara cara y otras veces ceca. Suponga que cuando sale cara usted gana 1 peso y cuando sale ceca usted pierde 1 peso. ¿ Puede decirme cuanto dinero puede esperar tener luego de un par de lanzamientos?. Claro esta que queremos que nos toque cara, pero puede tocarnos cualquiera de los  dos. Si tiramos 10 veces la moneda como son igualmente probables esperaríamos que salga 5 y 5, por lo cual tendríamos el mismo dinero que al principio. Intente realizar el experimento en su casa y vera que tal vez obtenga 5 caras y cinco cecas pero también puede tener mas caras que cecas y viceversa. Sin embargo es muy poco probable que le toquen 10 caras y ninguna ceca. (Los casinos saben de estadística por eso ganan dinero.)\n",
    "    \n",
    "Para que no se canse al lanzar tantas veces la moneda, le dejo acá una aplicación que hace este experimento la cantidad de veces que usted quiera para que vea los resultados. Notará que al mayor cantidad de veces que lo realice el resultado final estará mas cerca de 0 que de 1 o -1. Utilizaremos la letra **S** para representar la **ceca** para no confundirla con la **C** de **cara**.   \n",
    "    \n",
    "**Antes de comenzar no olvide presionar el botón <span style=\"color:red\">Show Widgets</span> para poder ver la animación** "
   ]
  },
  {
   "cell_type": "code",
   "execution_count": 28,
   "metadata": {},
   "outputs": [
    {
     "data": {
      "application/vnd.jupyter.widget-view+json": {
       "model_id": "86a88f671c274b31954ccc5eab66d6d9",
       "version_major": 2,
       "version_minor": 0
      },
      "text/plain": [
       "interactive(children=(IntSlider(value=10, description='Lanzamientos', max=1000000, min=10), Output()), _dom_cl…"
      ]
     },
     "metadata": {},
     "output_type": "display_data"
    }
   ],
   "source": [
    "# nbi:hide_in\n",
    "\n",
    "a = widgets.IntSlider(\n",
    "    value=10,\n",
    "    min=10,\n",
    "    max=1000000,\n",
    "    step=1,\n",
    "    description='Lanzamientos',\n",
    ")\n",
    "\n",
    "\n",
    "def lanzamiento(Nexp, ):\n",
    "    experimento = np.random.randint(2, size=Nexp)\n",
    "    caras = 0\n",
    "    cecas = 0\n",
    "    for i in range(Nexp) : \n",
    "        if (experimento[i] == 0):\n",
    "            caras +=1\n",
    "        else : \n",
    "            cecas +=1\n",
    "            \n",
    "    media = (caras - cecas) / Nexp\n",
    "    return 'De {} lanzamientos, el número de caras es {}; el número de cecas es {} y espera ganar {:1.4f} pesos'.format(Nexp, caras, cecas, media)\n",
    "\n",
    "interact(lanzamiento, Nexp=a);"
   ]
  },
  {
   "cell_type": "markdown",
   "metadata": {},
   "source": [
    "De la aplicación anterior podemos ver que mientras mas experimentos hagamos, lo mas probable es que al terminar tengamos el mismo dinero que al principio.\n",
    "\n",
    "¿Por que le cuento esto? Porque en las mediciones pasa algo similar, al medir una vez, al medir la magnitud se puede sumar o restar de forma aleatoria un error. Digo sumar o restar porque el signo de este error también varía como en el ejemplo de la moneda. Ahora bien al medir una vez no podemos saber nada de el error, pero que pasaría si medimos varias veces. En ese caso la cosa cambia ya que en algunas mediciones mediremos de mas por los errores positivos y en otras de menos por los errores negativos de tal forma que esperaríamos que en algún momento se cancelen. Lamentablemente para que esto ocurra de forma total (eliminar todo el error aleatorio) como se vió con el caso de la moneda habría que realizar infinitas mediciones, cosa que no podemos hacer, pero esto no implica que al realizar esta técnica no mejoremos mucho nuestra medición.\n",
    "\n",
    "Como conclusión la mejor forma de estimar el valor real de una medición es hacer la media aritmética de varias medidas.\n",
    "\n",
    "<div class=\"alert alert-block alert-info\">\n",
    "    \n",
    "<b>Valor medio</b> Es el valor que vamos a considerar como valor verdadero y lo llamaremos valor representativo $X_o$\n",
    "$$$$\n",
    "$$ \\boxed{ < X_o > = \\frac{\\sum_{i=1}^N x_i}{N} = \\frac{x_1 + x_2 + ... + x_N}{N}} $$    \n",
    "$$$$\n",
    "<b>Donde:</b>\n",
    "$$$$\n",
    "$X_o$: es el valor representativo de la medición, que se calcula como el promedio de las mediciones.\n",
    "$$$$\n",
    "N: son las cantidad de mediciones.\n",
    "$$$$\n",
    "i: es un número entero que indica la medición que se esta usando.\n",
    "$$$$\n",
    "$x_i$: es el valor de la medición i.\n",
    "    \n",
    "</div> \n",
    "\n",
    "Antes de continuar con la obtención del error absoluto me gustaría indicar algunas cosas a tener en cuenta.\n",
    "\n",
    "<div class=\"alert alert-block alert-warning\">\n",
    "$\\bullet$ Si al realizar varias medidas el resultado es el mismo, significa que los errores aleatorios son mas pequeños de lo que nuestro instrumento puede medir. Por ejemplo si el error aleatorio es de alrededor de 100$\\mu$V y nuestro multímetro solo puede realizar medidas de 1mV como mínimo, nuestro instrumento no sera capaz de mensurar el error. Por tal motivo solo será necesario tomar la medida una sola vez.\n",
    "$$$$\n",
    "$\\bullet$ Mientras mas cercanos entre si sean las distintas mediciones, la calidad de medición sera mayor.\n",
    "$$$$\n",
    "$\\bullet$ Debemos medir una magnitud un mínimo de 3 veces para disminuir el error aleatorio, mientras mas mediciones, mejores resultados obtendremos.  \n",
    "$$$$    \n",
    "$\\bullet$ En una serie de mediciones, es tanto más probable un error cuanto menor sea su valor absoluto. Es decir, los errores más pequeños son los más probables de cometer.\n",
    "</div> \n",
    "    \n"
   ]
  },
  {
   "cell_type": "markdown",
   "metadata": {},
   "source": [
    "###  <span style=\"color:blue\">Errores absolutos en mediciones directas</span>\n",
    "\n",
    "Sin entrar mucho en detalle, de acuerdo a la teoría de errores de Gauss, se toma como la mejor estimación del error de una serie de N medidas al error cuadrático medió también conocido como varianza ($\\sigma^2$). No es un concepto complicado, pero en vez de usar esto utilizaremos una aproximación que simplifica mucho los cálculos. Les dejo en el anexo como es el cálculo original\n",
    "\n",
    "Lo que haremos para obtener el error absoluto será obtener el intervalo y considerar la mitad del intervalo como el error. Esto significa que al tener una serie de medidas y con ellas obtener el tamaño del intervalo restando la medida mínima de la máxima y como queremos la mitad del intervalo lo dividiremos por 2. Este es un caso pesimista, el error probablemente sera mayor que el real, pero es una forma rápida de estimarlo.\n",
    "\n",
    "<div class=\"alert alert-block alert-info\">\n",
    "    \n",
    "<b>Error absoluto</b> Es el valor que vamos a considerar como el error de la medición y lo representaremos como $\\Delta X$\n",
    "$$$$\n",
    "$$ \\boxed{ \\Delta X = \\frac{X_{máx}-X_{mín}}{2}} $$    \n",
    "$$$$\n",
    "<b>Donde:</b>\n",
    "$$$$\n",
    "$X_{máx}$: es el máximo valor medido.\n",
    "$$$$\n",
    "$X_{mín}$: es el mínimo valor medido\n",
    "$$$$\n",
    "</div> \n",
    "\n",
    "Podemos ver en el intervalo superior 4 medidas distintas de la misma magnitud y que se establece como error absoluto la mitad del intervalo.\n",
    "\n",
    "En el intervalo inferior se obtuvo el valor medio de las mediciones ($X_o$) y se marcó los intervalos $\\Delta X$ centrándolos en el valor representativo $X_o$\n",
    "<img src=\"Imagenes/error_absoluto.png\" width=\"600\" height=\"360\">   \n"
   ]
  },
  {
   "cell_type": "markdown",
   "metadata": {},
   "source": [
    "\n",
    "<div class=\"alert alert-block alert-success\">\n",
    "<b> Ejemplo #1 </b> Suponga que medimos la diferencia de potencial de un resistor 5 veces para minimizar los errores como mencionamos anteriormente y obtuvimos los valores siguientes:\n",
    "$$$$    \n",
    "$X_1=1,456V; X_2=1,598V; X_3=1,391V; X_4=1,423V$ y $X_5=1,487V$    \n",
    "$$$$    \n",
    "Lo primero que hacemos es obtener el valor representativo $X_o$ que recordemos que se obtiene con el promedio de las mediciones.\n",
    "$$$$     \n",
    "$$X_o = \\frac{1,456V+1,598V+1,391V+1,423V+1,487V}{5}$$   \n",
    "$$$$      \n",
    "$$\\boxed{X_o = 1,471}$$    \n",
    "$$$$  \n",
    "El error absoluto vimos que se calcula como la mitad de la diferencia entre el valor máximo y mínimo.\n",
    "$$$$  \n",
    "$$ \\Delta X = \\frac{1,598V - 1,391V}{2}$$\n",
    "$$$$      \n",
    "$$ \\boxed{\\Delta X = 0,1035}$$    \n",
    "$$$$      \n",
    "Por último representamos la medida en el formato adecuado con una cifra significativa.    \n",
    "$$$$      \n",
    "$$ X = 1,5\\pm 0,1 V$$    \n",
    "$$$$      \n",
    "Lo que implica que el <b>1</b> es una cifra exacta y el <b>5</b> contiene al error.    \n",
    "\n",
    "</div> \n",
    "  "
   ]
  },
  {
   "cell_type": "markdown",
   "metadata": {},
   "source": [
    "## <span style=\"color:red\">Mediciones indirectas:<span> \n",
    "    \n",
    "Recordemos que las medidas indirectas son aquellas en la cual queremos medir una magnitud para la cual tenemos que realizar dos o más medidas y combinarlas a través de una expresión matemática. \n",
    "    \n",
    "Por ejemplo si queremos medir el volumen de un vaso cilíndrico necesitamos medir el radio y la altura del mismo.\n",
    "    \n",
    "La clave esta en como combinar los distintos errores de cada medida y los combinamos para obtener el error final, en el caso del ejemplo, el error del volumen. Para esto vamos a ver el siguiente tema que se llama **propagación de errores**."
   ]
  },
  {
   "cell_type": "markdown",
   "metadata": {},
   "source": [
    "<form method=\"get\" action=\"https://nicolasferragamo.github.io/AEA/index.html\">\n",
    " <button type=\"submit\">Inicio\n",
    "</form>\n",
    "<form method=\"get\" action=\"https://nicolasferragamo.github.io/AEA/Mediciones/expresion-medicion.html\">\n",
    " <button type=\"submit\">Anterior\n",
    "</form> \n",
    "<form method=\"get\" action=\"https://nicolasferragamo.github.io/AEA/Mediciones/Propagacion-de-errores.html\">\n",
    " <button type=\"submit\">Siguiente\n",
    "</form> "
   ]
  },
  {
   "cell_type": "markdown",
   "metadata": {},
   "source": [
    "**Copyright**\n",
    "\n",
    "The notebook is provided as [Open Educational Resource]('https://en.wikipedia.org/wiki/Open_educational_resources'). Feel free to use the notebook for your own educational purposes. The text is licensed under [Creative Commons Attribution 4.0]('https://creativecommons.org/licenses/by/4.0/'), the code of the IPython examples under the [MIT license]('https://opensource.org/licenses/MIT'). Please attribute the work as follows: Aplicaciones de electrónica Analógica by Nicolás Ferragamo.\n"
   ]
  }
 ],
 "metadata": {
  "kernelspec": {
   "display_name": "Python 3",
   "language": "python",
   "name": "python3"
  },
  "language_info": {
   "codemirror_mode": {
    "name": "ipython",
    "version": 3
   },
   "file_extension": ".py",
   "mimetype": "text/x-python",
   "name": "python",
   "nbconvert_exporter": "python",
   "pygments_lexer": "ipython3",
   "version": "3.7.6"
  }
 },
 "nbformat": 4,
 "nbformat_minor": 2
}
