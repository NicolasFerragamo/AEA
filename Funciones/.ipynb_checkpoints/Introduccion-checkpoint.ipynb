{
 "cells": [
  {
   "cell_type": "code",
   "execution_count": 2,
   "metadata": {},
   "outputs": [],
   "source": [
    "# nbi:hide_in\n",
    "from __future__ import print_function\n",
    "from ipywidgets import interact, interactive, fixed, interact_manual\n",
    "import ipywidgets as widgets\n",
    "import nbinteract as nbi\n",
    "from IPython.display import display\n",
    "import matplotlib.pyplot as plt\n",
    "import numpy as np\n",
    "from matplotlib.pyplot import figure, savefig\n",
    "from pandas import DataFrame\n",
    "from IPython.display import HTML\n",
    "import sys \n",
    "sys.path.append('/home/nico/.local/lib/python3.8/site-packages')\n",
    "from lcapy import Circuit"
   ]
  },
  {
   "cell_type": "markdown",
   "metadata": {},
   "source": [
    "# <span style=\"color:blue\">  Funciones </span>\n",
    "\n",
    "## <span style=\"color:blue\">  Introducción </span>\n",
    "\n",
    "Uno de los temas centrales de la materia son las señales, a la que le dedicaremos un capitulo entero en este apunte. Las señales están en todas partes y es una forma de interactuar con el mundo, desde señales sonoras, como por ejemplo una alarma, señales lumínicas, como la luz de un semáforo, pero también otros tipos de señales no visibles, como las señales infrarrojas de un control remoto. \n",
    "\n",
    "Nos concentraremos en definiciones y usos en el próximo capítulo, pero una de nuestras necesidades es poder describirlas matemáticamente y para ello vamos a usar <span style=\"color:red\"> <b>Funciones</b> </span>. \n",
    "\n",
    "Si bien es un concepto que ven en matemática, no siempre lo llegan a ver al momento en que lo necesitamos. Por tal motivo este apunte pretende presentar los conceptos mas relevantes para poder abordar el tema de <span style=\"color:red\"> <b>Señales</b> </span>. De ninguna manera pretende ser un apunte completo ni demasiado formal,ni mucho menos un remplazo de la clase de matemática, simplemente pretende presentar el concepto. Mas adelante lo estudiaran de forma profunda en matemática.  \n",
    "\n",
    "\n",
    "## <span style=\"color:blue\">  Concepto </span>\n",
    "\n",
    "Tal vez las funciones sean la herramienta matemática mas útil para modelar el mundo que nos rodea. \n",
    "\n",
    "Piensen en lo siguiente, si ustedes suelta una moneda que esta en su mano, esta caerá al suelo por la acción de la gravedad, esto lo sabemos pero, ¿cómo podemos saber a que altura del suelo estara en un tiempo determinado?. Solo con palabras no lo podemos saber, necesitamos una ***regla*** que nos permita relacionar la posición de la moneda con el tiempo que esta en el aire. Los físicos saben que la piedra caerá $9,8m$ por cada segundo al cuadrado que la moneda este en el aire $$h(t)=9,8*t^2$$, no se preocupe por la notación por ahora. Esta ***regla*** que nos permite hallar la distancia en términos del tiempo se llama  <span style=\"color:red\"> <b>función</b> </span>. Se dice que la altura es ***función*** del teimpo.\n",
    "\n",
    "Veamos esto en una tabla de valores:\n",
    "\n",
    "|tiempo | altura h(t) |\n",
    "|:-:    |      :-:    |\n",
    "| 0     |     0m      |\n",
    "| 1     |     9,8m    |\n",
    "| 2     |     39,2m   |\n",
    "| 3     |     88,2m   |\n",
    "| 4     |     156,8m  |\n"
   ]
  },
  {
   "cell_type": "code",
   "execution_count": 29,
   "metadata": {},
   "outputs": [
    {
     "data": {
      "image/png": "[encoded data removed]",
      "text/plain": [
       "<Figure size 432x288 with 1 Axes>"
      ]
     },
     "metadata": {
      "needs_background": "light"
     },
     "output_type": "display_data"
    }
   ],
   "source": [
    "# nbi:hide_in\n",
    "t  = np.linspace(0,4,100)\n",
    "tt = np.array([0,1,2,3,4]) \n",
    "\n",
    "plt.figure(\"Altura de la altura\")\n",
    "plt.xlabel('tiempo [s]')\n",
    "plt.ylabel('altura [m]')\n",
    "plt.plot(t,9.8*t**2,color='red', label='altura ')\n",
    "plt.plot(tt,9.8*tt**2,color='blue', label='alturaen los tiempos marcados en la tabla', \n",
    "         marker='*', linestyle='None')\n",
    "plt.grid()\n",
    "plt.title('Altura de la moneda de la moneda ')\n",
    "plt.legend(loc = 'upper left')\n",
    "plt.show()\n"
   ]
  },
  {
   "cell_type": "markdown",
   "metadata": {},
   "source": [
    "\n",
    "###  <span style=\"color:brown\"> ¡Ahora podemos predecir la altura! </span>   \n",
    "\n",
    "Por ejemplo un físico que determine esta ***\"regla\"*** para un proyectil, puede determinar en que momento chocara con el suelo. Si un biólogo obtiene la ***\"regla\"*** que relaciona el número de bacterias para un determinado cultivo con el tiempo, puede determinar el número de bacterias para el futuro. Sin ir mas lejos en el tiempo que nos toca vivir, los infectólogos tiene una ***\"regla\"*** para predecir el número de contagios y de esa forma poder tomas las medidas mas adecuadas. \n"
   ]
  },
  {
   "cell_type": "markdown",
   "metadata": {},
   "source": [
    "## <span style=\"color:blue\">  ¿Qué es una función? </span>\n",
    "\n",
    "En casi todo fenómeno físico se observa que una cantidad depende de otra. Por ejemplo la estatura depende de la edad, la temperatura depende de la época del año, el costo de enviar un paquete depende de su peso. Se utiliza el término  <span style=\"color:red\"> <b>función</b> </span> para describir la depedencia de una cantidad sobre otra.\n",
    "\n",
    ".\n",
    "<div class= \"pull-left\"> <img src=\"imagenes/func_1.png\"  width=\"500\" height=\"600\" /> </div>\n",
    "\n",
    "* La estatura depende de la edad\n",
    "\n",
    "* La temperatura depende de la época del año\n",
    "\n",
    "* El costo de enviar un paquete depende de su peso.\n",
    "\n",
    ".\n",
    "\n",
    "\n",
    ".\n",
    "\n",
    "<div class=\"alert alert-block alert-success\">\n",
    "<b> Veamos algunos ejemplos: </b> \n",
    "    \n",
    "$$$$\n",
    "    \n",
    "* El área de un círculo es <span style=\"color:red\"> <b>función</b> </span> de su radio $Ac = \\pi.r^2$.  \n",
    "    \n",
    "$$$$\n",
    "    \n",
    "* El número de bacterias en un cultivo es <span style=\"color:red\"> <b>función</b> </span> del tiempo. \n",
    "    \n",
    "$$$$\n",
    "    \n",
    "* El peso de un astronauta es <span style=\"color:red\"> <b>función</b> </span> de su elevación. \n",
    "    \n",
    "    \n",
    "</div> \n",
    "\n",
    "Hay cuatro formas de representar una función:\n",
    "\n",
    "* <span style=\"color:red\"> <b>Verbal:</b> </span> Mediante una descripción en palabras. Por ejemplo P(t) es la población del mundo en el instante t. También la descripción en palabras de la caída de la piedra.  \n",
    "\n",
    "\n",
    "* <span style=\"color:red\"> <b>Algebraica:</b> </span> Mediante una fórmula explícita, Por ejemplo el área del círculo $Ac = \\pi.r^2$ ó en el caso de la piedra $h(t)=9,8*t^2$  \n",
    "\n",
    "\n",
    "* <span style=\"color:red\"> <b>Gráfica:</b> </span> Mediante el uso de un gráfico. Por ejemplo el gráfico de la altura de la moneda o la temperatura según el mes.  \n",
    "\n",
    "\n",
    "* <span style=\"color:red\"> <b>Numérica:</b> </span> Mediante el uso de una de valores. Por ejemplo el caso del precio de envío de un paquete o la tabla que describe la altura de la moneda para un tiempo dado.  \n",
    "\n",
    "\n",
    "\n"
   ]
  },
  {
   "cell_type": "markdown",
   "metadata": {},
   "source": [
    "<div class=\"alert alert-block alert-info\">\n",
    "<b> Definición: </b> \n",
    "    \n",
    "Una <span style=\"color:red\"> <b>función (f)</b> </span> es una regla que asigna a cada elemento <b>x</b> en un conjunto A llamado <b>Dominio</b>, exactamente un  <b> único </b> elemento, llamado <b>f(x)</b> de otro conjunto B llamado <b>Codomiio</b>.\n",
    "</div> \n",
    "\n",
    "Por lo general, se consideran funciones para las cuales los conjunto *A* y *B* son conjuntos de números reales. El símbolo **f(x)** se lee **f de x** y se llama la **imagen** de **f**.\n",
    "\n",
    "\n",
    "<div class=\"alert alert-block alert-success\">\n",
    "<b> Ejemplo: </b> \n",
    "    \n",
    "<b>\"f\"</b>  es una regla  <b>\"cuadrado de un número\"</b>, al aplicar esta regla al número 2 se escribe $f(2)=2^2 = 4$, al aplicarlo al número 3 queda: $f(3)=3^2 = 9$. \n",
    "\n",
    "$$$$\n",
    "    \n",
    "En términos generales tenemos:\n",
    "    \n",
    "$$\\boxed{f(x)=x^2}$$\n",
    "</div> \n",
    "\n",
    "Al símbolo que representa un número arbitrario (por lo general **x** o **t**) se lo llama <span style=\"color:red\"> <b>variable independiente</b> </span>.\n",
    "\n",
    "Al símbolo que representa a la **imagen** de **f** (por lo general **y** ó **f(x)**) se lo llama <span style=\"color:red\"> <b>variable dependiente</b> </span> ya que depende de la variable independiente.\n",
    "\n",
    "<div> <img src=\"imagenes/f.png\"  width=\"400\" height=\"500\" /> </div>\n",
    "\n",
    "Podemos pensar a una función como una máquina.Si <span style=\"color:brown\"> <b> x </b> </span> esta en el **dominio** de la función <span style=\"color:brown\"> <b> f </b> </span>, entonces cuando se introduce <span style=\"color:brown\"> <b> x </b> </span> en la máquina, es aceptada una **entrada** y la máquina produce una **salida** <span style=\"color:brown\"> <b> f(x) </b> </span> de acuerdo con la regla de la función. Así se puede considerar al dominio como el conjunto de entrada posibles y a la imagen como el conjunto de salidas posibles.\n",
    "\n",
    "<div> <img src=\"imagenes/maquina.png\"  width=\"600\" height=\"700\" /> </div>\n",
    "\n",
    "Otra forma de indentificar una función es mediante un diagrama de flechas. Cada flecha conecta un elemento de **A** con un elemento de **B**.\n",
    "\n",
    "<div> <img src=\"imagenes/flechas.png\"  width=\"600\" height=\"700\" /> </div>\n",
    "\n",
    "En la siguiente sección veremos algunas de las características de las funciones."
   ]
  },
  {
   "cell_type": "markdown",
   "metadata": {},
   "source": [
    "<form method=\"get\" action=\"https://nicolasferragamo.github.io/AEA/index.html\">\n",
    " <button type=\"submit\">Inicio\n",
    "</form>\n",
    "</form> \n",
    "<form method=\"get\" action=\"https://nicolasferragamo.github.io/AEA/Funciones/Caracteristicas-de-una-funcion.html\">\n",
    " <button type=\"submit\">Siguiente\n",
    "</form> "
   ]
  },
  {
   "cell_type": "markdown",
   "metadata": {},
   "source": [
    "**Copyright**\n",
    "\n",
    "The notebook is provided as [Open Educational Resource](https://en.wikipedia.org/wiki/Open_educational_resources). Feel free to use the notebook for your own educational purposes. The text is licensed under [Creative Commons Attribution-NoComercial 4.0 Internacional](http://creativecommons.org/licenses/by-nc/4.0/), the code of the IPython examples under the [MIT license](https://opensource.org/licenses/MIT). Please attribute the work as follows: Aplicaciones de electrónica Analógica by Nicolás Ferragamo.\n",
    "\n",
    "<a rel=\"license\" href=\"http://creativecommons.org/licenses/by-nc/4.0/\"><img alt=\"Licencia Creative Commons\" style=\"border-width:0\" src=\"https://i.creativecommons.org/l/by-nc/4.0/88x31.png\" /></a>\n"
   ]
  }
 ],
 "metadata": {
  "kernelspec": {
   "display_name": "Python 3",
   "language": "python",
   "name": "python3"
  },
  "language_info": {
   "codemirror_mode": {
    "name": "ipython",
    "version": 3
   },
   "file_extension": ".py",
   "mimetype": "text/x-python",
   "name": "python",
   "nbconvert_exporter": "python",
   "pygments_lexer": "ipython3",
   "version": "3.7.6"
  }
 },
 "nbformat": 4,
 "nbformat_minor": 4
}
