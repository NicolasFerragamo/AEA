{
 "cells": [
  {
   "cell_type": "code",
   "execution_count": 1,
   "metadata": {},
   "outputs": [],
   "source": [
    "# nbi:hide_in\n",
    "from __future__ import print_function\n",
    "from ipywidgets import interact, interactive, fixed, interact_manual\n",
    "import ipywidgets as widgets\n",
    "import nbinteract as nbi\n",
    "from IPython.display import display\n",
    "import matplotlib.pyplot as plt\n",
    "import numpy as np"
   ]
  },
  {
   "cell_type": "markdown",
   "metadata": {},
   "source": [
    "# <span style=\"color:blue\"> Expectativas de logro <span>\n",
    "\n",
    "Al finalizar el presente curso el alumno estará capacitado para:\n",
    "\n",
    "1. Entender el concepto de medición y los elementos que intervienen en ella.\n",
    "2. Conocer y diferenciar los diferentes tipos de errores así como limitarlos y eliminar los que sean posible.\n",
    "3. Dar los resultados de una medición de forma completa, con su valor representativo y su error asociado.\n",
    "4. Usar los instrumentos mas convenientes para realizar una medición.\n",
    "5. Reconocer y utilizar de forma correcta instrumentos de uso frecuente en electrónica.\n",
    "6. Reconocer las limitaciones de los instrumentos y ampliar el rango del mismo.\n",
    "7. Interpretar los resultados de las mediciones.\n",
    "8. Predecir los resultados de las magnitudes a medir y corroborar las mismas con las mediciones y las simulaciones\n",
    "9. Comprender el concepto de función y su aplicación.\n",
    "10. Comprender el concepto de señal y sus distintos tipos.\n",
    "11. Identificar los parámetros característicos de una señal periódicas.\n",
    "12. Medir parámetros y representar matemáticamente señales periódicas.\n",
    "13. Utilizar el osciloscopio para medir señales periódicas.\n",
    "14. Utilizar gráficos de coordenadas cartesianas ortogonales para representar funciones periódicas.\n",
    "15. Comprender las características de un semiconductor.\n",
    "16. Conocer las propiedades del diodo y sus distintos usos.\n",
    "17. Polarizar correctamente un diodo.\n",
    "18. Conocer las propiedades de los LEDs y su correcto uso.\n",
    "19. Tener conocimientos básicos de los fenómenos electromagnéticos.\n",
    "20. Entender y utilizar transformadores monofásicos.\n",
    "21. Conocer y utilizar distintas topologías de fuentes de alimentación.\n",
    "22. Diseñar fuentes de alimentación.\n",
    "23. Comprender el funcionamiento de un transistor y sus gráficos.\n",
    "24. Polarizar correctamente transistores BJT\n",
    "25. Diseñar y analizar circuitos on/of transistorizados.\n",
    "26. Realizar circuitos en el protoboard y en placas.\n",
    "27. Utilizar herramientas de simulación.\n",
    "28. Utilizar de forma fluida hojas de datos.\n",
    "29. Tener pensamiento crítico de las mediciones hechas.    \n"
   ]
  },
  {
   "cell_type": "markdown",
   "metadata": {},
   "source": [
    "<form method=\"get\" action=\"https://nicolasferragamo.github.io/AEA/index.html\">\n",
    " <button type=\"submit\">Inicio\n",
    "</form>\n",
    "    \n",
    "<form method=\"get\" action=\"https://nicolasferragamo.github.io/AEA/Introduccion/introduccion.html\">\n",
    " <button type=\"submit\">Atras\n",
    "</form>    \n",
    "    \n",
    "<form method=\"get\" action=\"https://nicolasferragamo.github.io/AEA/Introduccion/Indicadores_de_logro.html\">\n",
    " <button type=\"submit\">Sigueinte\n",
    "</form>\n",
    "\n"
   ]
  },
  {
   "cell_type": "markdown",
   "metadata": {},
   "source": [
    "**Copyright**\n",
    "\n",
    "The notebook is provided as [Open Educational Resource]('https://en.wikipedia.org/wiki/Open_educational_resources'). Feel free to use the notebook for your own educational purposes. The text is licensed under [Creative Commons Attribution 4.0]('https://creativecommons.org/licenses/by/4.0/'), the code of the IPython examples under the [MIT license]('https://opensource.org/licenses/MIT'). Please attribute the work as follows: Aplicaciones de electrónica Analógica by Nicolás Ferragamo.\n"
   ]
  }
 ],
 "metadata": {
  "kernelspec": {
   "display_name": "Python 3",
   "language": "python",
   "name": "python3"
  },
  "language_info": {
   "codemirror_mode": {
    "name": "ipython",
    "version": 3
   },
   "file_extension": ".py",
   "mimetype": "text/x-python",
   "name": "python",
   "nbconvert_exporter": "python",
   "pygments_lexer": "ipython3",
   "version": "3.7.6"
  }
 },
 "nbformat": 4,
 "nbformat_minor": 2
}
