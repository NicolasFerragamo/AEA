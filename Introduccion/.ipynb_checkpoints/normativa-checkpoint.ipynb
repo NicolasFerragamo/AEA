{
 "cells": [
  {
   "cell_type": "code",
   "execution_count": 1,
   "metadata": {},
   "outputs": [],
   "source": [
    "# nbi:hide_in\n",
    "from __future__ import print_function\n",
    "from ipywidgets import interact, interactive, fixed, interact_manual\n",
    "import ipywidgets as widgets\n",
    "import nbinteract as nbi\n",
    "from IPython.display import display\n",
    "import matplotlib.pyplot as plt\n",
    "import numpy as np"
   ]
  },
  {
   "cell_type": "markdown",
   "metadata": {},
   "source": [
    "# <span style=\"color:blue\"> Normativas <span>\n",
    "\n",
    "Estas son las normativas que vamos a utilizar para mantener en orden el espacio de taller que compartimos, así asegurarnos de poder trabajar de forma eficiente en el laboratorio, para que las cuatro horas semanales que compartimos sean lo mas productivas posibles para su educación y resguardar su **integridad física**. También para asegurar el respeto entre todos y no vulnerar el derecho a la educación de ninguno de ustedes.  \n",
    "\n",
    "* **Mantener el silencio en el laboratorio.** Durante las explicaciones es importante estar en orden y en silencio para que todos puedan escuchar lo que se esta exponiendo. Esto no implica que en cualquier momento no puedan interrumpir la explicación para preguntar algo que no quedo claro, es mas los incito a hacerlo, solo les pido que sea de forma ordenada.\n",
    "\n",
    "\n",
    "* **No deambular por el laboratorio** Para mantener el orden en el laboratorio no se permite deambular por el salón durante la clase. Por normativa del colegio no se puede ir al baño durante la clase a excepción que sea de carácter urgente, ni ir a llenar recipientes (botellas, termos o similares).\n",
    "    \n",
    "    \n",
    "* **No comer ni beber en en laboratorio** Al trabajar con instrumental electrónico hay que ser sumamente cuidadoso de no derramar líquidos ni migas que puedan dañar el instrumental. Dentro del laboratorio laboratorio se deben cumplir las normas de seguridad e higiene.  \n",
    "    \n",
    "\n",
    "* **Prestar atención al manipular herramientas e instrumental** El uso de herramientas puede volverse peligroso si no se manipulan de forma correcta. Un ejemplo de esto es no mirar donde deja el soldador caliente y quemarse al mover los brazos, o desenchufar un soldador e inmediatamente tomarlo de la estufa en vez del mango. Usar las herramientas con las protecciones necesarias. Si tiene dudas de como manipular el instrumental debe preguntar antes de manipularlo para evitar dañarlo.\n",
    "    \n",
    "\n",
    "* **Entorno de trabajo limpio** Antes de utilizar el instrumental en las prácticas deben despejar las mesas, solo debe quedar una hoja y una bolígrafo para anotar las mediciones. No puede haber mochilas, botellas, etc.\n",
    "\n",
    "\n",
    "* **No usar el celular en clase.** Tras tres años dando clase, noto en todos los cursos independientemente de las edades (incluso me pasa como estudiante universitario) que el uso del celular genera grandes distracciónes. El teléfono puede ser una gran herramienta pero hay que ser responsable al utilizarla. Por este motivo salvo expresa autorización del docente durante ciertas actividades puntuales se prohíbe el uso del mismo.\n",
    "\n",
    "\n",
    "* **No se puede usar el celular como calculadora durante los exámenes.** Por lo expuesto anteriormente, dado que los estudiantes se envían mensajes con las respuestas se prohíbe su uso. De mas esta decir que el uso de la calculadora esta permitida siempre.(No necesitan una calculadora científica para esta materia por lo cual es un gasto que la mayoría puede afrontar, si tienen alguna dificultad comuníquense por medio de una nota en el cuaderno de comunicaciones y buscaremos una solución.)\n",
    "\n",
    "\n",
    "* **Entregar los trabajos en tiempo y forma** Cada trabajo tiene una forma de entrega y un tiempo límite, es importante que los estudiantes cumplan con sus responsabilidades preparándolos para su futuro profesional y personal. Es su obligación estar informados de las fechas de entrega de cada trabajo. El supuesto desconocimiento de las fechas no los exime bajo ningún punto de vista de sus obligaciones. Para que esto no ocurra tanto en este apunte [Cronograma 4° 3ra grupo A](https://drive.google.com/file/d/1g21Igdu0LwUQF7Z-pMbhceYftsqtdDoi) como en el [moodle](https://eest.tecnica1vl.org/tecmood/) tienen las fechas indicadas. Los trabajos tienen que presentarse de forma prolija y con carátula que indique el nombre del TP, los integrantes y la fecha real de entrega.\n",
    "\n",
    "\n",
    "* **Esta prohibido el fraude académico** Todos saben que esta prohibido copiarse durante un examen y/o en un TP. Por lo cual el alumno sera penalizado con nota 1(uno) de forma automática. Esto también afectara de forma directa la nota de desempeño del estudiante.\n",
    "\n",
    "\n",
    "* **Lectura obligatoria.** Es importante que cumplan con las lecturas de las páginas indicadas para cada clase de forma anticipada. Estas se encuentran indicadas en el cronograma antes mencionado. Esto hará mas efectiva la clase, dado que los estudiantes conocen de antemano los temas a tratar y van a la clase con las dudas planteadas. También les sirve para ir adquiriendo la práctica de aprender de forma autónoma, algo esencial en nuestra carrera profesional.\n",
    "    \n",
    "\n",
    "* **Es obligatorio tener una cuenta de moodle** Es importante que tengan una cuenta en esta herramienta académica que propone la institución educativa ya que en ella contarán con muchísimo material para trabajar en cada materia, desde apuntes, videos, cuestionarios, los trabajos prácticos, guias de ejercicios y un foro por donde podrán hacer las consultas que tengan. Recientemente se implemento la herramienta de télegram, por la cual al enviar un mensaje por medio del moodle, el foro, se suba material nuevo o se establezca algun trabajo o fecha importante, los estudiantes recibirán un mensaje a su cuenta y un emal. **<span style=\"color:red\">¡¡EL NÚMERO DE TELÉFONO DE LOS ESTUDIANTES Y DOCENTES NO SERÁN VISIBLES EN NINGÚN MOMENTO POR NINGUNA PARTE PARA GARANTIZAR LA SEGURIDAD DE TODOS!!</span>** Otra forma es descargando la aplicación moodle desde la play Store, por medio de la cual recibirán una notificación cuando le envíen un mensaje por el chat.\n",
    "    \n",
    "\n",
    "* **Responder los cuestionarios** En el moodle de la escuela se realizan cuestionarios no necesariamente semanales con algunas preguntas simples y conceptuales que le indican al estudiante y al docente si los temas explicados se están entendiendo o no para en el caso de no entenderse poder tomar las medidas correspondientes a tiempo. La realización del cuestionario es de carácter obligatorio y el no cumplir con el mismo afectara de forma directa la nota de desempeño del estudiante\n",
    "    \n",
    "\n",
    "### <span style=\"color:blue\"> Seguridad eléctrica  <span>      "
   ]
  },
  {
   "cell_type": "code",
   "execution_count": 2,
   "metadata": {},
   "outputs": [
    {
     "data": {
      "image/jpeg": "[encoded data removed]",
      "text/html": [
       "\n",
       "        <iframe\n",
       "            width=\"400\"\n",
       "            height=\"300\"\n",
       "            src=\"https://www.youtube.com/embed/ZNAXE9g0KBQ\"\n",
       "            frameborder=\"0\"\n",
       "            allowfullscreen\n",
       "        ></iframe>\n",
       "        "
      ],
      "text/plain": [
       "<IPython.lib.display.YouTubeVideo at 0x7f2c625902d0>"
      ]
     },
     "execution_count": 2,
     "metadata": {},
     "output_type": "execute_result"
    }
   ],
   "source": [
    "# nbi:hide_in\n",
    "\n",
    "from IPython.display import YouTubeVideo\n",
    "YouTubeVideo('ZNAXE9g0KBQ')"
   ]
  },
  {
   "cell_type": "markdown",
   "metadata": {},
   "source": [
    "<form method=\"get\" action=\"https://nicolasferragamo.github.io/AEA/index.html\">\n",
    " <button type=\"submit\">Inicio\n",
    "</form>\n",
    "    \n",
    "<form method=\"get\" action=\"https://nicolasferragamo.github.io/AEA/Introduccion/Criterios_de_evaluacion.html\">\n",
    " <button type=\"submit\">Atras\n",
    "</form>\n",
    "\n",
    "<form method=\"get\" action=\"https://nicolasferragamo.github.io/AEA/Mediciones/introduccion.html\">\n",
    " <button type=\"submit\">Siguiente\n",
    "</form>\n"
   ]
  },
  {
   "cell_type": "markdown",
   "metadata": {},
   "source": [
    "**Copyright**\n",
    "\n",
    "The notebook is provided as [Open Educational Resource]('https://en.wikipedia.org/wiki/Open_educational_resources'). Feel free to use the notebook for your own educational purposes. The text is licensed under [Creative Commons Attribution 4.0]('https://creativecommons.org/licenses/by/4.0/'), the code of the IPython examples under the [MIT license]('https://opensource.org/licenses/MIT'). Please attribute the work as follows: Aplicaciones de electrónica Analógica by Nicolás Ferragamo.\n"
   ]
  }
 ],
 "metadata": {
  "kernelspec": {
   "display_name": "Python 3",
   "language": "python",
   "name": "python3"
  },
  "language_info": {
   "codemirror_mode": {
    "name": "ipython",
    "version": 3
   },
   "file_extension": ".py",
   "mimetype": "text/x-python",
   "name": "python",
   "nbconvert_exporter": "python",
   "pygments_lexer": "ipython3",
   "version": "3.7.6"
  }
 },
 "nbformat": 4,
 "nbformat_minor": 2
}
