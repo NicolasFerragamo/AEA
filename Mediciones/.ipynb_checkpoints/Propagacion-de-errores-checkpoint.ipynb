{
 "cells": [
  {
   "cell_type": "code",
   "execution_count": 2,
   "metadata": {},
   "outputs": [],
   "source": [
    "# nbi:hide_in\n",
    "from __future__ import print_function\n",
    "from ipywidgets import interact, interactive, fixed, interact_manual\n",
    "import ipywidgets as widgets\n",
    "import nbinteract as nbi\n",
    "from IPython.display import display\n",
    "import matplotlib.pyplot as plt\n",
    "import numpy as np\n",
    "from matplotlib.pyplot import figure, savefig\n",
    "import sys \n",
    "sys.path.append('/home/nico/.local/lib/python3.8/site-packages')\n",
    "from lcapy import Circuit\n"
   ]
  },
  {
   "cell_type": "markdown",
   "metadata": {},
   "source": [
    "# <span style=\"color:blue\"> Propagación de errores </span>\n",
    "    \n",
    "Acabamos de ver que para las medidas indirectas tenemos que aplicar algo llamado **propagación de errores**. Esto se basa en conceptos matemáticos un poco avanzados, aunque muy interesantes. Por tal motivo solamente vamos a ver las conclusiones que nos permitan aplicarlo y alguna demostración sencilla para entender mejor el tema.\n"
   ]
  },
  {
   "cell_type": "markdown",
   "metadata": {},
   "source": [
    "## <span style=\"color:red\">Propagación de errores en la suma </span>\n",
    "\n",
    "Imagínese que debemos obtener la resistencia total de un circuito compuesto por 2 resistores en serie.  El problema es que no tenemos un instrumento para medirlo pero sí tenemos los valores de cada una. $R_1 = R_{o1} \\pm \\Delta R_{o1}$ y $R_2 = R_{o2} \\pm \\Delta R_{o2}$ por lo cual tendremos que utilizar la ecuación  $R_T = R_1 + R_2$. ¿Pero como tenemos en cuenta los errores de cada medida?"
   ]
  },
  {
   "cell_type": "code",
   "execution_count": 83,
   "metadata": {},
   "outputs": [
    {
     "data": {
      "image/png": "[encoded data removed]"
     },
     "metadata": {
      "image/png": {
       "height": 133,
       "width": 310
      }
     },
     "output_type": "display_data"
    }
   ],
   "source": [
    "# nbi:hide_in\n",
    "cct = Circuit() \n",
    "cct.add('BAT 1 0 ;down')\n",
    "cct.add('R1 1 2;right=2')\n",
    "cct.add('R2 2 3  ; down')\n",
    "cct.add('W 3 0; left')\n",
    "cct.draw(label_nodes=False,draw_nodes=False)"
   ]
  },
  {
   "cell_type": "markdown",
   "metadata": {},
   "source": [
    "<div class=\"alert alert-block alert-info\">\n",
    "Para obtener el valor de la suma \n",
    "$$S = a + b$$:\n",
    "$$$$    \n",
    "$$S = S_o \\pm \\Delta S$$   \n",
    "$$$$    \n",
    "Usamos las ecuaciones \n",
    "$$$$\n",
    "$$\\boxed{S_o = a_o + b_o}$$       \n",
    "y su error es \n",
    "$$$$\n",
    "$$\\boxed{\\Delta S = \\Delta a + \\Delta b}$$         \n",
    "$$$$\n",
    "$$ \\boxed{\\epsilon_S = \\frac{\\Delta S}{S_o} = \\frac{\\Delta a + \\Delta b}{a_o + b_o}}$$\n",
    "$$$$    \n",
    "Donde <b>a</b> y <b>b</b> son las medidas que queremos sumar\n",
    "$$$$    \n",
    "<b> Esto es válido para todas las sumas, no esta limitado a 2. </b>    \n",
    "</div> "
   ]
  },
  {
   "cell_type": "markdown",
   "metadata": {},
   "source": [
    "<div class=\"alert alert-block alert-success\">\n",
    "<b>Veamos el ejemplo #1</b> supongamos los siguientes valores $R_1 = 26,7 \\pm 1,4 \\Omega$ y $R_2 = 57,3 \\pm 2,9.\\Omega$ Aplicando lo visto obtenemos:\n",
    "$$$$    \n",
    "$$R_{oT} = 26,7 + 57,3 = 84 \\Omega$$\n",
    "$$$$    \n",
    "Usamos las ecuaciones \n",
    "$$$$\n",
    "$$\\Delta R_T = 1,4 + 2,9 = 4,3 \\Omega$$        \n",
    "y su error es \n",
    "$$$$\n",
    "$$R_T = 84 \\pm 4 \\Omega$$   \n",
    "$$$$\n",
    "Recordemos que el <b>8</b> es una cifra exacta y el <b>4</b> no.\n",
    "</div> "
   ]
  },
  {
   "cell_type": "code",
   "execution_count": 92,
   "metadata": {},
   "outputs": [
    {
     "data": {
      "image/png": "[encoded data removed]"
     },
     "metadata": {
      "image/png": {
       "height": 133,
       "width": 452
      }
     },
     "output_type": "display_data"
    }
   ],
   "source": [
    "# nbi:hide_in\n",
    "cct = Circuit() \n",
    "cct.add('BAT 1 0 ;down, l={10\\,V}')\n",
    "cct.add('R1 1 2 ; right=2, l={26.7 +/- 1.4\\,Omhs}')\n",
    "cct.add('R2 2 3 ; down, l={57.3 +/- 2.9\\,Omhs}')\n",
    "cct.add('W 3 0; left')\n",
    "cct.draw(label_nodes=False,draw_nodes=False)"
   ]
  },
  {
   "cell_type": "markdown",
   "metadata": {},
   "source": [
    "### <span style=\"color:red\">Propagación de errores en la suma demostración (opcional) </span>\n",
    "\n",
    "En este apartado vamos a ver la demostración que justifica este cálculo, su lectura es optativa aunque recomendable si quiere entender el por que podemos utilizar esas ecuaciones.\n",
    "\n",
    "Empecemos planteando 2 medidas diferentes que queremos sumar:\n",
    "\n",
    "$a = a_0 \\pm \\Delta a$  y  $b = b_0 \\pm \\Delta b$\n",
    "\n",
    "Sabemos que\n",
    "\n",
    "$a_o = \\frac{a_M + a_m}{2}$ y $\\Delta a = \\frac{a_M - a_m}{2}$\n",
    "\n",
    "$b_o = \\frac{b_M + b_m}{2}$ y $\\Delta b = \\frac{b_M - b_m}{2}$\n",
    "\n",
    "donde la letra **M** representa al valor máximo de la medición y **m** al valor mínimo. \n",
    "\n",
    "por lo cual \n",
    "\n",
    "$a_m = a_o - \\Delta a$ y $a_M = a_o + \\Delta a$\n",
    "\n",
    "$b_m = b_o - \\Delta b$ y $b_M = b_o + \\Delta b$\n",
    "\n",
    "\n",
    "Realizando la suma, dada la expresión:\n",
    "\n",
    "$S = a + b$\n",
    "\n",
    "deseamos obtener \n",
    "\n",
    "$S = S_o\\pm \\Delta S$\n",
    "\n",
    "Al igual que planteamos en las medidas de **a** y **b** podemos hacerlo con **S**, por lo cual tenemos \n",
    "\n",
    "$S_o = \\frac{S_M + S_m}{2}$ y $\\Delta S = \\frac{S_M - S_m}{2}$\n",
    "\n",
    "Es sencillo darse cuenta que el valor mas pequeño de **S** ($S_m$) lo obtendremos al sumar los valores mas pequeños de **a** ($a_m$) y **b** ($b_m$) y lo mismo para ($S_M$), por lo cual podemos escribir:\n",
    "\n",
    "$S_m = a_m + b_m$ y $S_M = a_M + b_M$\n",
    "\n",
    "Por lo cuál podemos escribir:\n",
    "\n",
    "$$S_o = \\frac{(a_o - \\Delta a + b_o - \\Delta b)+ (a_o + \\Delta a + b_o + \\Delta b)}{2}$$\n",
    "\n",
    "Operando podemos notar que los errores se canselan quedando \n",
    "\n",
    "$$S_o = \\frac{2a_o + 2b_o}{2}$$\n",
    "\n",
    "$$ \\boxed {S_o = a_o + b_o}$$\n",
    "\n",
    "De la misma forma \n",
    "\n",
    "$$\\Delta S = \\frac{(a_o + \\Delta a + b_o + \\Delta b) - (a_o - \\Delta a + b_o - \\Delta b)}{2}$$\n",
    "\n",
    "$$ \\Delta S = \\frac{2\\Delta a + 2\\Delta b}{2}$$\n",
    "\n",
    "$$ \\boxed {\\Delta S = \\Delta a + \\Delta b}$$\n",
    "\n",
    "Por último el error relativo queda \n",
    "\n",
    "$$ \\boxed{\\epsilon_s = \\frac{\\Delta S}{S_o} = \\frac{\\Delta a + \\Delta b}{a_o + b_o}}$$"
   ]
  },
  {
   "cell_type": "markdown",
   "metadata": {},
   "source": [
    "## <span style=\"color:red\">Propagación de errores en la Resta </span>\n",
    "\n",
    "<div class=\"alert alert-block alert-info\">\n",
    "Para obtener el valor de la resta:\n",
    "$$R = a + b$$:    \n",
    "$$$$    \n",
    "$$R = R_o \\pm \\Delta R$$   \n",
    "$$$$    \n",
    "Usamos las ecuaciones \n",
    "$$$$\n",
    "$$\\boxed{R_o = a_o - b_o}$$       \n",
    "y su error es \n",
    "$$$$\n",
    "$$\\boxed{\\Delta R = \\Delta a + \\Delta b}$$         \n",
    "$$$$\n",
    "$$ \\boxed{\\epsilon_R = \\frac{\\Delta S}{S_o} = \\frac{\\Delta a + \\Delta b}{a_o - b_o}}$$\n",
    "$$$$    \n",
    "Donde <b>a</b> y <b>b</b> son las medidas que queremos restar\n",
    "$$$$    \n",
    "<b> Esto es válido para todas las restas, no esta limitado a 2. </b>    \n",
    "</div>\n",
    "\n",
    "### <span style=\"color:brown\">Es importante notar que los errores absolutos ($\\Delta$, en la resta, también se suman y no se restan. Esto tal vez le parezca extraño pero piense que los errores ya están cometidos en cada medición y al manipularlos en una operación matemática estos no pueden reducirse sino aumentar al combinar los errores de ambas mediciones. </span>\n",
    "\n",
    "La demostración de esto quedará para el anexo."
   ]
  },
  {
   "cell_type": "markdown",
   "metadata": {},
   "source": [
    "## <span style=\"color:red\">Propagación de errores en el producto </span>\n",
    "\n",
    "<div class=\"alert alert-block alert-info\">\n",
    "Para obtener el valor de la multiplicación:\n",
    "$$P = a * b$$:    \n",
    "$$$$    \n",
    "$$P = P_o \\pm \\Delta P$$   \n",
    "$$$$    \n",
    "Usamos las ecuaciones \n",
    "$$$$\n",
    "$$\\boxed{P_o = a_o * b_o}$$       \n",
    "y su error es \n",
    "$$$$\n",
    "$$\\boxed{\\epsilon_P = \\epsilon_a + \\epsilon_b}$$         \n",
    "$$$$    \n",
    "Donde <b>a</b> y <b>b</b> son las medidas que queremos multiplicar\n",
    "$$$$    \n",
    "<b> Esto es válido para todas las multiplicaciones, no esta limitado a 2. </b>    \n",
    "</div>\n",
    "\n",
    "### <span style=\"color:brown\">Es importante notar que los errores que en este caso usamos la suma del error relativo y no del error absoluto. </span>\n",
    "\n",
    "La demostración de esto quedará para el anexo."
   ]
  },
  {
   "cell_type": "markdown",
   "metadata": {},
   "source": [
    "## <span style=\"color:red\">Propagación de errores en el cociente </span>\n",
    "\n",
    "<div class=\"alert alert-block alert-info\">\n",
    "Para obtener el valor del cociente:\n",
    "$$C = a * b$$:    \n",
    "$$$$    \n",
    "$$C = C_o \\pm \\Delta C$$   \n",
    "$$$$    \n",
    "Usamos las ecuaciones \n",
    "$$$$\n",
    "$$\\boxed{C_o = a_o * b_o}$$       \n",
    "y su error es \n",
    "$$$$\n",
    "$$\\boxed{\\epsilon_C = \\epsilon_a + \\epsilon_b}$$         \n",
    "$$$$    \n",
    "Donde <b>a</b> y <b>b</b> son las medidas que queremos dividir\n",
    "$$$$    \n",
    "<b> Esto es válido para todas las divisiones, no esta limitado a 2. </b>    \n",
    "</div>\n",
    "\n",
    "### <span style=\"color:brown\">Es importante notar que al igual que el caso anterior los errores que se suman son los relativos. </span>\n",
    "\n",
    "La demostración de esto quedará para el anexo."
   ]
  },
  {
   "cell_type": "markdown",
   "metadata": {},
   "source": [
    "## <span style=\"color:red\">Propagación de errores en la potenciación </span>\n",
    "\n",
    "<div class=\"alert alert-block alert-info\">\n",
    "Para obtener el valor de la potenciación:\n",
    "$$M = a^n$$:    \n",
    "$$$$    \n",
    "$$M = M_o \\pm \\Delta M$$   \n",
    "$$$$    \n",
    "Usamos las ecuaciones \n",
    "$$$$\n",
    "$$\\boxed{M_o = a_o^n}$$       \n",
    "y su error es \n",
    "$$$$\n",
    "$$\\boxed{\\epsilon_M = n * \\epsilon_a }$$         \n",
    "$$$$    \n",
    "Donde <b>a</b> es la base y <b>n</b> el exponente un número entero.\n",
    "$$$$      \n",
    "</div>\n",
    "\n",
    "### <span style=\"color:brown\">Es importante notar que los errores que en este caso usamos la multiplicación del error relativo ya que lo que hacemos es sumar n veces el error relativo de a. </span>\n",
    "\n",
    "La demostración de esto quedará para el anexo."
   ]
  },
  {
   "cell_type": "markdown",
   "metadata": {},
   "source": [
    "## <span style=\"color:red\">Propagación de errores en la radicación </span>\n",
    "\n",
    "<div class=\"alert alert-block alert-info\">\n",
    "Para obtener el valor de la radicación:\n",
    "$$N = \\sqrt[n]{a}$$:    \n",
    "$$$$    \n",
    "$$M = M_o \\pm \\Delta M$$   \n",
    "$$$$    \n",
    "Usamos las ecuaciones \n",
    "$$$$\n",
    "$$\\boxed{N_o = \\sqrt[n]{a_o}}$$       \n",
    "y su error es \n",
    "$$$$\n",
    "$$\\boxed{\\epsilon_N = \\frac{\\epsilon_a}{n} }$$         \n",
    "$$$$    \n",
    "Donde <b>a</b> es la base y <b>n</b> el exponente de la raíz, un número entero.\n",
    "$$$$      \n",
    "</div>\n",
    "\n",
    "### <span style=\"color:brown\">Es importante notar que los errores que en este caso usamos la división del error relativo. </span>\n",
    "\n",
    "La demostración de esto quedará para el anexo."
   ]
  },
  {
   "cell_type": "markdown",
   "metadata": {},
   "source": [
    "Esto es mas que suficiente para las situaciones que se nos pueden presentar. Solo resta mencionar 2 casos especiales.\n",
    "\n",
    "* <b>Las constantes no tienen errores esto incluye a todos los números racionales. Por ejemplo el número el número 4,5 = $\\frac{9}{2}$ </b>\n",
    "\n",
    "* <b>Los números irracionales tienen errores por no poder usar sus infinitos decimales. Por ejemplo $\\pi = 3,14159265...$ </b>\n",
    "\n",
    "Veamos algunos ejemplos que muestren como trabajar con estas herramientas."
   ]
  },
  {
   "cell_type": "markdown",
   "metadata": {},
   "source": [
    "<div class=\"alert alert-block alert-success\">\n",
    "<b>Ejemplo #1</b> Se quiere determinar el volumen de un prisma de base cuadrada. Al medir un lado de la base se obtuvo $l = 0,50cm \\pm 0,02cm$ y su altura $h = 1,71 cm \\pm 0,02cm$\n",
    "$$$$      \n",
    "Como saben la fórmula del volumen es $V = l^2 * h$\n",
    "$$$$\n",
    "Podemos ver que tenemos 2 casos distintos una **multiplicación** y una **potencia** a la que le tenemos que propagar el error para ello utilicemos lo que vimos.\n",
    "$$$$\n",
    "Como no tenemos ninguna suma ni resta, debemos trabajar con el error relativo en todos los casos.\n",
    "$$$$\n",
    "Lo primero que hacemos es obtener el valor de $V_o$ que lo obtenemos al aplicar en la fórmula los valores representativos.\n",
    "$$$$    \n",
    "$$V_o = l_o^2 * h_o = 0,5^2 * 1,71 = 0,4275 cm$$\n",
    "$$$$    \n",
    "$$\\boxed{V_o = 0,4475 cm}$$    \n",
    "$$$$\n",
    "Por otro lado nos encargamos de los errores, en primer lugar calculemos los errores relativos de cada caso. En el caso de la potencia tenemos que aplicar la fórmula:\n",
    "$$$$\n",
    "$$\\epsilon_A = n * \\epsilon_l = 2 * \\frac{\\Delta l}{l_o}= 2 * \\frac{0,02cm}{0,5cm}= 0,08 $$  \n",
    "$$$$    \n",
    "$$\\boxed{\\epsilon_A = 0,08}$$   \n",
    "$$$$\n",
    "El error relativo de la altura es:    \n",
    "$$\\epsilon_h = \\frac{\\Delta h}{h_o}= \\frac{0,02cm}{1,71cm}= 0,0117 $$   \n",
    "$$$$    \n",
    "$$\\boxed{\\epsilon_h = 0,01}$$   \n",
    "$$$$    \n",
    "Como lo que nos queda es multiplicar ambos valores, lo que debemos hacer es sumar los errores relativos para obtener el error relativo del volumen.\n",
    "$$$$\n",
    "$$\\epsilon_V = \\epsilon_A + \\epsilon_h = 0,08 + 0,0117 = 0,0917$$ \n",
    "$$$$    \n",
    "$$\\boxed{\\epsilon_V =0,0917}$$        \n",
    "$$$$\n",
    "Ya para finalizar lo que tenemos que hacer es obtener el valor de $\\Delta V$ para poder presentar la medida\n",
    "$$$$\n",
    "$$\\Delta V = \\epsilon_V * V_o = 0,0917 * 0,4275 = 0,0392cm$$\n",
    "$$$$    \n",
    "$$ \\boxed{\\Delta V = 0,04455 cm} $$   \n",
    "$$$$\n",
    "$$ \\boxed{V = 0,43 \\pm 0,04 cm}$$    \n",
    "</div>"
   ]
  },
  {
   "cell_type": "markdown",
   "metadata": {},
   "source": [
    "<div class=\"alert alert-block alert-success\">\n",
    "<b>Ejemplo #2</b> Se desea conocer el área de un cuadrado de aproximadamente 10 cm de lado con una indeterminación no superior al 1%. Con esta información determine que instrumento utilizar. \n",
    "$$$$      \n",
    "Como saben la fórmula del área es $A = l^2 $ y lo que queremos determinar es el valor de $\\Delta l$ para seleccionar el instrumento adecuado que nos garantice esa precisión.\n",
    "$$$$\n",
    "Sabemos por dato del problema que $\\epsilon_A = 0,01$ \n",
    "$$$$\n",
    "También sabemos que al tratarse de una potencia $\\epsilon_A = 2*\\epsilon_l=0,01$ y despejando nos queda $\\epsilon_l = 0,005$ por lo cual \n",
    "$$$$\n",
    "$$ \\epsilon_l = \\frac{\\Delta l}{l_o} \\Rightarrow \\Delta l = a_o * \\epsilon_l = 10cm * 0,005 = 0,5mm $$\n",
    "$$$$\n",
    "$$\\boxed{\\Delta l \\leq 0,5 mm}$$   \n",
    "$$$$    \n",
    "Esto nos indica que tenemos que utilizar un instrumento que cometa un error menor a eso. Podemos usar una regla ya que su indeterminación es la mitad de 1mm = 0,5mm ya que un ojo entrenado puede distinguirlo. También podríamos usar instrumentos mas precisos como un calibre.    \n",
    "</div>"
   ]
  },
  {
   "cell_type": "markdown",
   "metadata": {},
   "source": [
    "<div class=\"alert alert-block alert-success\">\n",
    "<b>Ejemplo #3</b> Si en la determinación del volumen de un prisma de base cuadrada se ha medido el lado de la base, habiéndose obtenido $a = 0,50cm \\pm 0,02cm$ y se dispone de varios instrumentos con los cuales se puede medir la altura. Determine un criterio para decidir que instrumento utilizar.\n",
    "$$$$      \n",
    "Es un ejercicio muy similar al del ejemplo 1. Por lo cual lo vamos a utilizar como base. La forma de determinar el error relativo como explicamos antes es: \n",
    "$$$$    \n",
    "$$\\epsilon_V = 2 * \\frac{\\Delta a}{a_o} + \\frac{\\Delta h}{h_o}$$   \n",
    "$$$$\n",
    "Sabemos que  \n",
    "$$\\epsilon_V = 2 * \\frac{0,02}{0,5} + \\frac{\\Delta h}{h_o}$$   \n",
    "$$$$\n",
    "$$\\epsilon_V = 0,08 + \\frac{\\Delta h}{h_o}$$\n",
    "$$$$\n",
    "Lo importante es encontrar un criterio adecuado para que el error de la altura no afecte al error global o que al menos sea lo menos relevante posible. Hasta ahora sabemos que partimos de un error relativo de 0,08. Un criterio que podemos tomar es que el erro a averiguar sea menor o a lo sumo del mismo orden que 0,08. Una buena idea es que el error de h sea 10 veces menor al que tenemos para no la medida final. Por lo cual\n",
    "$$$$    \n",
    "$$\\epsilon_h \\leq 0,008$$ \n",
    "$$$$\n",
    "Por lo tanto al medir la altura debemos asegurarnos que su error sea menor a $0,008 \\cong 0,01$ \n",
    "</div>"
   ]
  },
  {
   "cell_type": "markdown",
   "metadata": {},
   "source": [
    "<div class=\"alert alert-block alert-success\">\n",
    "<b>Ejemplo #4</b> Veamos un último ejemplo, similar al anterior para determinar el número de decimales de un número irracional. Calcule el volumen de una esfera de radio r, siendo su valor $r = 5,0 \\pm 0,1 cm$\n",
    "$$$$      \n",
    "Sabiendo que \n",
    "$$$$    \n",
    "$V = \\frac{4}{3} *\\pi* r^3$\n",
    "$$$$\n",
    "Lo que tenemos que hacer en primer lugar es escribír la expresión del error relativo del volumen. Recordemos que 4/3 es un número racional por lo cual su error relativo es 0. Por otro lado al ser $\\pi$ un número irracional el error cometido dependerá de la cantidad de decimales que usemos.\n",
    "$$$$\n",
    "$$ \\epsilon_V = \\epsilon_{\\pi} + 3 * \\epsilon_r$$    \n",
    "$$$$    \n",
    "$$ \\epsilon_V = \\frac{\\Delta \\pi}{\\pi_o} + 3 * \\frac{\\Delta r}{r_o}$$  \n",
    "$$$$\n",
    "Como vimos en el ejemplo anterior lo importante es que:\n",
    "$$\\epsilon_{\\pi} < 3 * \\epsilon_r$$  \n",
    "$$$$    \n",
    "$$\\frac{\\Delta \\pi}{\\pi_o} < 3 * \\frac{\\Delta r}{r_o}$$  \n",
    "$$$$\n",
    "$$\\frac{\\Delta \\pi}{\\pi_o} < 3 * \\frac{0,1}{5,0} = 0,06$$   \n",
    "$$$$    \n",
    "$$ \\boxed{\\frac{\\Delta \\pi}{\\pi_o} < 0,06}$$\n",
    "$$$$\n",
    "<b> Ahora veamos diferentes casos hasta que podamos cumplir con el requisito</b> \n",
    "$$$$\n",
    "Consideremos a $\\pi$ con una sola cifra decimal, $\\pi = 3,1$\n",
    "$$$$\n",
    "$$\\Delta \\pi = \\pi - \\pi_o = 3,14159265... - 3,1 = 0,04$$    \n",
    "$$$$\n",
    "$$\\epsilon_{\\pi} = \\frac{\\Delta \\pi}{\\pi_o} = \\frac{0,04}{3,1} = 0,014$$  \n",
    "$$$$\n",
    "Cómo $\\epsilon_{\\pi} < 0,06$ cumple con el requisito.\n",
    "$$$$    \n",
    "Si queremos asegurarnos el criterio de 10 veces menor que vimos podríamos probar utilizando dos decimales.\n",
    "$$$$    \n",
    "Consideremos ahora a $\\pi$ con dos sola cifra decimal, $\\pi = 3,14$\n",
    "$$$$\n",
    "$$\\Delta \\pi = \\pi - \\pi_o = 3,14159265... - 3,14 = 0,04$$    \n",
    "$$$$\n",
    "$$\\epsilon_{\\pi} = \\frac{\\Delta \\pi}{\\pi_o} = \\frac{0,016}{3,14} = 0,0005$$  \n",
    "$$$$\n",
    "Cómo $\\epsilon_{\\pi} < 0,06$ cumple con el requisito.  \n",
    "$$$$\n",
    "Queda al criterio ustedes cuantos decimales usar. Yo particularmente en este caso usaría la segunda opción.    \n",
    "</div>"
   ]
  },
  {
   "cell_type": "markdown",
   "metadata": {},
   "source": [
    "En la aplicación siguiente realice un algoritmo que resuelve el ejemplo 4 permitiéndole modificar los distintos valores para ver como se va afectando el valor final del volumen.\n",
    "\n",
    "**Antes de comenzar no olvide presionar el botón <span style=\"color:red\">Show Widgets</span> para poder ver la animación** "
   ]
  },
  {
   "cell_type": "code",
   "execution_count": 198,
   "metadata": {},
   "outputs": [
    {
     "data": {
      "application/vnd.jupyter.widget-view+json": {
       "model_id": "21046840c0f24a509a54118713cb6a75",
       "version_major": 2,
       "version_minor": 0
      },
      "text/plain": [
       "interactive(children=(FloatSlider(value=1.0, description='Radio', max=50.0, min=0.01, readout_format='.3f', st…"
      ]
     },
     "metadata": {},
     "output_type": "display_data"
    }
   ],
   "source": [
    "# nbi:hide_in\n",
    "import math\n",
    "\n",
    "r = widgets.FloatSlider(\n",
    "    value=1,\n",
    "    min=0.01,\n",
    "    max=50.0,\n",
    "    step=0.01,\n",
    "    description='Radio',\n",
    "    orientation='horizontal',\n",
    "    readout_format='.3f',\n",
    ")\n",
    "\n",
    "dr = widgets.FloatSlider(\n",
    "    value=0.02,\n",
    "    min=0.001,\n",
    "    max=2,\n",
    "    step=0.001,\n",
    "    description='Error Radio',\n",
    "    orientation='horizontal',\n",
    "    readout_format='.3f',\n",
    ")\n",
    "\n",
    "dpi = widgets.IntSlider(\n",
    "    value=1,\n",
    "    min=0,\n",
    "    max=10,\n",
    "    step=1,\n",
    "    description='Decimales de pi',\n",
    "    orientation='horizontal',\n",
    "    readout_format='d',\n",
    ")\n",
    "\n",
    "\n",
    "def volumen(r, dr,dpi):\n",
    "    \n",
    "    er_r = round(dr/r + 1e-5,4)\n",
    "    print('\\u03B5r = ', er_r)\n",
    "\n",
    "    stepper = 10.0 ** dpi\n",
    "    pi = math.trunc(stepper * np.pi) / stepper\n",
    "    print('\\u03C0 = ', pi)\n",
    "    ea_pi = np.pi-pi\n",
    "    print('\\u0394\\u03C0 = ', ea_pi)\n",
    "    er_pi = round(ea_pi/pi+1e-9,8)\n",
    "    print('\\u03B5r \\u03C0 = ', er_pi)\n",
    "    \n",
    "    er_v = 3*er_r + er_pi\n",
    "    print('\\u03B5v = {:.4f}'.format(er_v))\n",
    "    v = 4/3*r**3*pi\n",
    "    print('El volumen es:{:.4f}cm³'.format(v))\n",
    "    ea_v = er_v*v\n",
    "    print('El error absoluto del volumen es:{:.4f}cm³'.format(ea_v))\n",
    "\n",
    "\n",
    "interact(volumen, r=r, dr=dr, dpi=dpi);"
   ]
  },
  {
   "cell_type": "markdown",
   "metadata": {},
   "source": [
    "Le queda como ejercicio al lector expresar la medida de forma correcta.\n",
    "\n",
    "En la página siguiente realizaremos un caso de estudio que normalmente realizamos de forma practica en el aula."
   ]
  },
  {
   "cell_type": "markdown",
   "metadata": {},
   "source": [
    "<form method=\"get\" action=\"https://nicolasferragamo.github.io/AEA/index.html\">\n",
    " <button type=\"submit\">Inicio\n",
    "</form>\n",
    "<form method=\"get\" action=\"https://nicolasferragamo.github.io/AEA/Mediciones/clasificacion-de-mediciones.html\">\n",
    " <button type=\"submit\">Anterior\n",
    "</form> \n",
    "<form method=\"get\" action=\"https://nicolasferragamo.github.io/AEA/Mediciones/Propagacion-de-errores-en-un-circuito.html\">\n",
    " <button type=\"submit\">Siguiente\n",
    "</form> "
   ]
  },
  {
   "cell_type": "markdown",
   "metadata": {},
   "source": [
    "**Copyright**\n",
    "\n",
    "The notebook is provided as [Open Educational Resource]('https://en.wikipedia.org/wiki/Open_educational_resources'). Feel free to use the notebook for your own educational purposes. The text is licensed under [Creative Commons Attribution 4.0]('https://creativecommons.org/licenses/by/4.0/'), the code of the IPython examples under the [MIT license]('https://opensource.org/licenses/MIT'). Please attribute the work as follows: Aplicaciones de electrónica Analógica by Nicolás Ferragamo."
   ]
  }
 ],
 "metadata": {
  "kernelspec": {
   "display_name": "Python 3",
   "language": "python",
   "name": "python3"
  },
  "language_info": {
   "codemirror_mode": {
    "name": "ipython",
    "version": 3
   },
   "file_extension": ".py",
   "mimetype": "text/x-python",
   "name": "python",
   "nbconvert_exporter": "python",
   "pygments_lexer": "ipython3",
   "version": "3.7.6"
  }
 },
 "nbformat": 4,
 "nbformat_minor": 2
}
