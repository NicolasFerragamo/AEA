{
 "cells": [
  {
   "cell_type": "code",
   "execution_count": 1,
   "metadata": {
    "slideshow": {
     "slide_type": "-"
    }
   },
   "outputs": [],
   "source": [
    "# nbi:hide_in\n",
    "from __future__ import print_function\n",
    "from ipywidgets import interact, interactive, fixed, interact_manual\n",
    "import ipywidgets as widgets\n",
    "import nbinteract as nbi\n",
    "from IPython.display import display\n",
    "import matplotlib.pyplot as plt\n",
    "import numpy as np\n"
   ]
  },
  {
   "cell_type": "markdown",
   "metadata": {},
   "source": [
    "# <span style=\"color:blue\"> Errores <span>\n",
    "\n",
    "En la sección anterior vimos que el **error** en una medición no es sinónimo de **equivocación** sino de **incertidumbre** en la medición. En esta sección nos vamos concentrar en las fuentes de los errores y en los diferentes tipos de errores.\n",
    "    \n",
    "    \n",
    "## <span style=\"color:blue\">Funetes de errores<span>\n",
    "    \n",
    "En el proceso de medición como vimos intervienen varios factores que hacen que la medición no sea perfecta. Recuerden que al medir no necesariamente obtenemos el valor verdadero de la medición, de hecho la probabilidad de que eso ocurra es practicamente 0, sin embargo establecemos un intervalo donde se encuentra el valor verdadero. En este apartado vamos a ver una clasificación de las causas de la incertidumbre en la medición. Podemos establecer 3 tipos de errores:\n",
    "    \n",
    "### <span style=\"color:red\">Errores Grosero o espurios o fallas:<span> \n",
    "son aquellos que provienen de la equivocación del operador (fallas). Por ejemplo, contar mal las oscilaciones del péndulo, anotar mal un valor por invertir los dígitos. Estos errores se pueden evitar siendo cautelosos y repitiendo la medición.\n",
    "    \n",
    "### <span style=\"color:red\">Errores Sistemáticos o  sesgo:<span>\n",
    "Son aquellos que se producen en todas las mediciones y que pueden ser corregidos.\n",
    "\n",
    "* **Mala calibración de los instrumentos de medición:** uno de estos puede ser el error de 0, que significa que la escala no empieza en cero. Esto hay que tenerlo simpre en cuenta, especialmente en los instrumentos electrónicos para corregirlos previamente a la medición. Por ejemplo al querer leer una tensión con el voltímetro, este no empieza en 0V al estar desconectado sino en 0,1V, por lo cual a nuestra medición le tenemos que restar 0,1V.\n",
    "    \n",
    "    \n",
    "* **Error de paralaje:** Esto ocurre en los instrumentos de aguja. En ellos al realizar una medida hay que tener especial cuidado en nuestra posición ya que si nos posicionamos con nuestra cabeza mas a la izquierda o mas a la derecha vamos a obtener una lectura diferente. Para evitar esto los instrumentos cuentan con un espejo para que al posicionarnos nos aseguremos de no ver el reflejo de la aguja, lo que nos indica que la lectura es correcta.\n",
    "    \n",
    "    \n",
    "* **Condiciones experimentales distintas:** Otro factor son las condiciones experimentales de nuestr medición distintas de aquellas en que fue calibrado el instrumento. Por ejemplo presión, temperatura, etc. (Veremos como corregir esto en la sección Instrumentos) \n",
    "    \n",
    "    \n",
    "* **Uso de fórmulas aproximadas:** correspondientes a modelos físicos o leyes matemáticas, para simplificar el trabajo   \n",
    "    \n",
    "### <span style=\"color:red\">Errores Aleatorio o accidentales:<span>        \n",
    "\n",
    "\n"
   ]
  },
  {
   "cell_type": "markdown",
   "metadata": {},
   "source": [
    "<form method=\"get\" action=\"https://nicolasferragamo.github.io/AEA/index.html\">\n",
    " <button type=\"submit\">Inicio\n",
    "</form>\n",
    "<form method=\"get\" action=\"https://nicolasferragamo.github.io/AEA/Mediciones/introduccion.html\">\n",
    " <button type=\"submit\">Anterior\n",
    "</form> \n",
    "<form method=\"get\" action=\"https://nicolasferragamo.github.io/AEA/Mediciones/.html\">\n",
    " <button type=\"submit\">Siguietne\n",
    "</form> "
   ]
  },
  {
   "cell_type": "markdown",
   "metadata": {},
   "source": [
    "**Copyright**\n",
    "\n",
    "The notebook is provided as [Open Educational Resource]('https://en.wikipedia.org/wiki/Open_educational_resources'). Feel free to use the notebook for your own educational purposes. The text is licensed under [Creative Commons Attribution 4.0]('https://creativecommons.org/licenses/by/4.0/'), the code of the IPython examples under the [MIT license]('https://opensource.org/licenses/MIT'). Please attribute the work as follows: Aplicaciones de electrónica Analógica by Nicolás Ferragamo.\n"
   ]
  }
 ],
 "metadata": {
  "kernelspec": {
   "display_name": "Python 3",
   "language": "python",
   "name": "python3"
  },
  "language_info": {
   "codemirror_mode": {
    "name": "ipython",
    "version": 3
   },
   "file_extension": ".py",
   "mimetype": "text/x-python",
   "name": "python",
   "nbconvert_exporter": "python",
   "pygments_lexer": "ipython3",
   "version": "3.6.9"
  }
 },
 "nbformat": 4,
 "nbformat_minor": 2
}
