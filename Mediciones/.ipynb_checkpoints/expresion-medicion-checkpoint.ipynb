{
 "cells": [
  {
   "cell_type": "code",
   "execution_count": 1,
   "metadata": {
    "slideshow": {
     "slide_type": "-"
    }
   },
   "outputs": [],
   "source": [
    "# nbi:hide_in\n",
    "from __future__ import print_function\n",
    "from ipywidgets import interact, interactive, fixed, interact_manual\n",
    "import ipywidgets as widgets\n",
    "import nbinteract as nbi\n",
    "from IPython.display import display\n",
    "import matplotlib.pyplot as plt\n",
    "import numpy as np\n"
   ]
  },
  {
   "cell_type": "markdown",
   "metadata": {},
   "source": [
    "# <span style=\"color:blue\"> Expresión correcta de una medición <span>\n",
    "\n",
    "En la sección anterior vimos las causas que provocan errores en las mediciones, también vimos los tipos de errores y como calcularlos. En esta sección veremos como expresar la medición de forma correcta, con la cantidad de decimales adecuados.  \n",
    "   \n",
    "Pero antes vamos a ver dos conceptos necesarios para escribír el resultado de una medición.\n",
    "    \n",
    "## <span style=\"color:blue\">Truncamiento y Redondeo<span>\n",
    "    \n",
    "En muchos casos al realizar operaciónes matemáticas nos dan como resultado un número con muchos decimales. En la práctica no soloemos anotar todos los decimales por lo que estamos cometiendo un error en el resultado final. La manera de **reducirlo, no de eliminarlo** es redondear el número. \n",
    "    \n",
    "Hay muchos tipos de rendondeo, probablemente ustedes esten acostumbrados al **truncamiento** pero este método es indeseado para nosotros. Vamos a explicarlo por si no todos estan familiarizados.\n",
    "    \n",
    " \n",
    "### <span style=\"color:red\">Truncamiento:<span> \n",
    "Consiste en **\"cortar\"** el número con la cantidad de decimales que establecimos.\n",
    "\n",
    "<div class=\"alert alert-block alert-success\">\n",
    "<b>Ejemplo n°1</b> Supongamos que tenemos el número <b>12,46779987</b>, podemos quedarnos por ejemplo con dos decimales, por lo tanto el número que usamos es :<b>12,46</b>\n",
    "</div> \n",
    "<div class=\"alert alert-block alert-success\">\n",
    "<b>Ejemplo n°2</b> Supongamos que tenemos el número <b>0,2396168</b>, podemos quedarnos por ejemplo con cuatro decimanel, por lo tanto el número que usamos es :<b>0,2396</b>   \n",
    "</div>   \n",
    "    \n",
    "Esta es una posible implementación pero no es la mas adecuada, ya que si vemos el primer ejemplo, el número esta mas cerca de <b>12,47</b> que de <b>12,46</b>. Sin embargo en el segundo caso funcionó correctamente.\n",
    "    \n",
    "En la siguiente animación puede variar con el slider un número de con 5 decimales, y con el otro slider puede decidir cuantos decimales quiere utilizar. Abajo vera el resultado del número truncado.\n",
    "    \n",
    "**Antes de comenzar no olvide presionar el boton <span style=\"color:red\">Show Widgets</span> para poder ver la animación**    \n",
    "   "
   ]
  },
  {
   "cell_type": "code",
   "execution_count": 2,
   "metadata": {},
   "outputs": [
    {
     "data": {
      "application/vnd.jupyter.widget-view+json": {
       "model_id": "28911b360e3f4ac5b604bc9fa58ba6a8",
       "version_major": 2,
       "version_minor": 0
      },
      "text/plain": [
       "interactive(children=(FloatSlider(value=0.0, description='numero', max=2.0, readout_format='.5f', step=1e-05),…"
      ]
     },
     "metadata": {},
     "output_type": "display_data"
    }
   ],
   "source": [
    "# nbi:hide_in\n",
    "import math\n",
    "a = widgets.FloatSlider(min=0, max=2, step=1e-5,readout_format='.5f')\n",
    "b = widgets.IntSlider(min=0, max=4)\n",
    "\n",
    "def truncamiento(numero, cant_decimlaes):\n",
    "    numero1 = numero\n",
    "    stepper = 10.0 ** cant_decimlaes\n",
    "    numero = math.trunc(stepper * numero) / stepper\n",
    "    return 'El número {} truncado con {} decimales es {}'.format(numero1, cant_decimlaes, numero)\n",
    "\n",
    "interact(truncamiento, numero=a, cant_decimlaes=b);"
   ]
  },
  {
   "cell_type": "markdown",
   "metadata": {},
   "source": [
    "### <span style=\"color:red\">Redondeo:<span> \n",
    "Hay varios tipos de redondeo distintos, nosotros vamos a utilizar el **redondea de la mitad para arriba**     \n",
    "Consiste en **redondear** el número con la cantidad de decimales deseados mirando el número a la derecha de la cantidad deseada, siguiendo esta regla\n",
    "    \n",
    "* Si el decimal es **mayor o igual** a **5** se redondea hacia arriba, es decir se incrementa en 1 la última cifra deseada.   \n",
    "    \n",
    "* Si el decimal es **menor** a **5** se redondea hacia abajo, es decir la última cifra deseada se deja sin modificar.   \n",
    "    \n",
    "Veamos algunos ejemplos:    \n",
    " \n",
    "<div class=\"alert alert-block alert-success\">\n",
    "<b>Ejemplo n°1</b> Supongamos que tenemos el número $4,\\underbrace{25}7$, podemos quedarnos por ejemplo con dos decimales, por lo tanto nos tenemos que concentrar en el segundo decimal, el número $5$. Luego teneos que ver si el número que sigue es mayor-igual que cinco o menor, como en este caso es $7$ redondeamos hacia arriba sumando un $1$ al $5$.Por lo cual el número que usamos es :$\\boxed{4,26}$\n",
    "</div> \n",
    "<div class=\"alert alert-block alert-success\">\n",
    "<b>Ejemplo n°2</b> Supongamos ahora que tenemos el número $3,\\underbrace{1124}2$, podemos quedarnos por ejemplo con cuatro decimales, por lo tanto nos tenemos que concentrar en el cuarto decimal, el número $4$. Luego teneos que ver si el número que sigue es mayor-igual que cinco o menor, como en este caso es $2$ redondeamos hacia abajo dejando el $4$ como esta.Por lo cual el número que usamos es :$\\boxed{3,1124}$\n",
    "</div>   \n",
    "<div class=\"alert alert-block alert-success\">\n",
    "<b>Ejemplo n°3</b> Supongamos ahora que tenemos el número $1,\\underbrace{386}5$, podemos quedarnos por ejemplo con tres decimales, por lo tanto nos tenemos que concentrar en el tercer decimal, el número $6$. Luego teneos que ver si el número que sigue es mayor-igual que cinco o menor, como en este caso es $5$ redondeamos hacia rriba sumando un $1$ al $6$.Por lo cual el número que usamos es :$\\boxed{1,3874}$\n",
    "</div>      \n",
    "\n",
    "**Antes de comenzar no olvide presionar el boton <span style=\"color:red\">Show Widgets</span> para poder ver la animación**    "
   ]
  },
  {
   "cell_type": "code",
   "execution_count": 3,
   "metadata": {},
   "outputs": [
    {
     "data": {
      "application/vnd.jupyter.widget-view+json": {
       "model_id": "1c74107fe4ea487987a6a797818fdd06",
       "version_major": 2,
       "version_minor": 0
      },
      "text/plain": [
       "interactive(children=(FloatSlider(value=0.0, description='numero', max=5.0, readout_format='.5f', step=1e-05),…"
      ]
     },
     "metadata": {},
     "output_type": "display_data"
    }
   ],
   "source": [
    "# nbi:hide_in\n",
    "import math\n",
    "a = widgets.FloatSlider(min=0, max=5, step=1e-5,readout_format='.5f')\n",
    "b = widgets.IntSlider(min=0, max=4)\n",
    "\n",
    "def redondeado(numero, cant_decimlaes):\n",
    "    numero1 = numero\n",
    "    numero = round(numero+1e-6, cant_decimlaes)\n",
    "    return 'El número {} redondeado con {} decimales es {}'.format(numero1,cant_decimlaes, numero)\n",
    "\n",
    "interact(redondeado, numero=a, cant_decimlaes=b);"
   ]
  },
  {
   "cell_type": "markdown",
   "metadata": {},
   "source": [
    "### <span style=\"color:blue\">¿Por qué redondear en vez de truncar?<span>\n",
    "\n",
    "Como se podrán imaginar la razón para redondear números en vez de truncarlos es el menor error que se comete en el primer caso.\n",
    "    \n",
    "#### Analicemos el peor caso de cada uno.\n",
    "    \n",
    "<div class=\"alert alert-block alert-warning\">\n",
    "<b>Truncar un número</b> El peor caso ocurre cuando el decimal que estamos truncando es un $9$ antepuesto por un $0$. por ejemplo si truncamos con 1 decimal el número $1,099$, al truncarlo nos queda $1,0$. El error cometido es la resta del número real y el truncado, por lo tanto el error cometido es:\n",
    "    \n",
    "$$ \\boxed{Error_{máx} = 1,099 - 1,0 = 0,099} $$    \n",
    "</div> \n",
    "\n",
    "<div class=\"alert alert-block alert-info\">\n",
    "<b></b> Con lo anterior estamos en condiciones de decir que el error maxímo cometido al utilizar truncamiento es el menor decimal elegído. Si decidimos truncar con $2$ decimales el máximo error cometido sera menor a $0,01$, si uilizamos $5$ decimales sera $0,00001$.  \n",
    "</div> \n",
    "    \n",
    "<div class=\"alert alert-block alert-warning\">\n",
    "<b>Redondear un número</b> El peor caso ocurre cuando el decimal que estamos redondeamos es un $5$, ya que a partir de ahí decidimos como redondear, si para arriba o para abajo. por ejemplo si redondeamos con 1 decimal el número $1,45$, al truncarlo nos queda $1,5$. El error cometido es la resta del número real y el redondeado, por lo tanto el error cometido es:\n",
    "    \n",
    "$$ \\boxed{Error_{máx} = 1,5 - 1,0 = 1,45}=0,05 $$    \n",
    "</div> \n",
    "\n",
    "<div class=\"alert alert-block alert-info\">\n",
    "<b></b> Con lo anterior estamos en condiciones de decir que el error maxímo cometido al utilizar redondeo es la mitad del de los decimales elegídos. Si decidimos redondear con $2$ decimales el máximo error cometido sera menor a $0,005$, si uilizamos $5$ decimales sera $0,000005$.  \n",
    "</div>     \n",
    "    \n",
    "Tal vez no parezca mucha la diferencia entre un caso y el otro, pero este error se va propagando entre operaciones y mientras mas operaciones mas grande se va haciendo este erro, por lo cual es importante utilizar redondeo y no truncamiento.\n",
    "    \n",
    "Veamos esto en la siguiente simulación: Supongamos que sumamos números aleatorios que varian entre 0.01 y 0.05 y realizamos la suma con todos los decimales, truncando y redondeando. Veamos cuales son los resultados. Puede elegir la cantidad de números que se suman deslizando el slider.\n",
    "    \n",
    "**Antes de comenzar no olvide presionar el boton <span style=\"color:red\">Show Widgets</span> para poder ver la animación**     "
   ]
  },
  {
   "cell_type": "code",
   "execution_count": 4,
   "metadata": {},
   "outputs": [
    {
     "data": {
      "application/vnd.jupyter.widget-view+json": {
       "model_id": "f02a1833b2d444ed98bfe9f9d645f6e1",
       "version_major": 2,
       "version_minor": 0
      },
      "text/plain": [
       "interactive(children=(IntSlider(value=100, description='Nexp', max=5000, min=100), Output()), _dom_classes=('w…"
      ]
     },
     "metadata": {},
     "output_type": "display_data"
    }
   ],
   "source": [
    "# nbi:hide_in\n",
    "import math \n",
    "\n",
    "a = widgets.IntSlider(min=100, max=5000)\n",
    "\n",
    "def truncate(num):\n",
    "    stepper = 10.0 ** 3\n",
    "    return math.trunc(stepper * num) / stepper\n",
    "\n",
    "\n",
    "def ejemplo(Nexp):\n",
    "    \n",
    "    sum_num      = 0\n",
    "    sum_truncate = 0\n",
    "    sum_redondeo = 0    \n",
    "\n",
    "    numeros = + np.random.uniform(low=0.1, high=0.5, size=Nexp)\n",
    "\n",
    "    for i in range(Nexp):\n",
    "        sum_num      += numeros[i]\n",
    "        sum_truncate += truncate( numeros[i])\n",
    "        sum_redondeo += round(numeros[i], 3) \n",
    "\n",
    "    print('Comprobación mediante truncamiento y redondeo de 3 decimales')    \n",
    "    print('La suma original es = ', sum_num)    \n",
    "    print('La suma con valores truncados a 3 decimales es = ', truncate(sum_truncate))\n",
    "    print('El error cometido al truncar es = ', (sum_num - sum_truncate))\n",
    "    print('La suma con valores redondeados a 3 decimales es = ', round(sum_redondeo,3))\n",
    "    print('El error cometido al redondear es = ', np.abs((sum_num - sum_redondeo)))\n",
    "    print ('')\n",
    "\n",
    "interact(ejemplo, Nexp=a);"
   ]
  },
  {
   "cell_type": "markdown",
   "metadata": {},
   "source": [
    "De la simulación podemos notar que mientras mas operaciones, en este caso sumas, se realizan mayor es el error cometedio, veremos en la siguiente sección que para el caso de multiplicaciones y potencia el error se acrecienta. Por lo cual simepre tenemos que **_redondear_ nunca _truncar_**"
   ]
  },
  {
   "cell_type": "markdown",
   "metadata": {},
   "source": [
    "## <span style=\"color:blue\">Cifras significativas<span>\n",
    "Cuando realizams operaciones en una calculadora parece como si fuese **“correcto”** o **“más exacto”** escribir los resultados con tantas cifras decimales como aparecen en pantalla, pero esto la mayoría de las veces carece de sentido. Debemos ser sensatos al escribír el resultado final.\n",
    "    \n",
    "Una cifra es **significativa** cuando se la conoce con una **exactitud aceptable**. Así, cuando se mide con un termómetro que aprecia hasta 0,1 °C no tiene ningún sentido que se escriban resultados, por ejemplo, del tipo 36,25 °C o 22,175 °C. Esto es, la cantidad de decimales después de la coma, esta relacionada con la exactitud del instrumento (y no con la cantidad de dígitos que maneja una calculadora)     \n",
    "\n",
    "<div class=\"alert alert-block alert-success\">     \n",
    "<b>Ejemplo n°1:</b> \n",
    "Piense en lo siguiente, suponga que realiza una medición de la corriente que circula por un resistor y la misma es de $1,7 \\pm 0,1$ A y la diferencia de potencial es $15,4 \\pm 0,1$ V. Utilizando la ley de Ohm nos queda $R = \\frac{V}{I}=\\frac{15,4V}{1,7A}=9,058823529.$\n",
    "$$$$    \n",
    "Este resultado no tiene sentido, pues nuestras mediciones tienen una presición de un decimal, por lo cual no podemos asegurar el valor de mas de un decimal. En la próxima seccion veremos como calcular su incerteza que es de $\\Delta R = 0,5916 \\Omega$, que si lo redondeamos con un decimal nos queda $\\Delta R = 0,6 \\Omega$.\n",
    "$$$$\n",
    "La medición se escribe de forma correcta como:\n",
    "$$\\boxed{R = 9,1 \\pm 0,6 \\Omega}$$    \n",
    "</div>   \n",
    "    \n",
    "<div class=\"alert alert-block alert-info\">     \n",
    "<b>Las cifras significativas de una medida son los dígitos que no estan afectados por el error, más una última cifra sometida al error de la medida, por lo cual este último número no es exacto. Normalmente solo se utiliza una cifra significativa en la insertidumbre, definiendo con esto la cantidad de dígitos necesarios para escribir el número. La primer cifra significativa de la incertidumbre es el primer número distinto de cero.</b>\n",
    "</div>    \n",
    "\n",
    "####   Las cifras significativas no tienen ninguna relación <span style=\"color:red\">“fija” </span> con la posición de la coma decimal, esto es, no tiene siempre que ser 1 o 2 lugares. La cantidad de decimales depende del instrumento utilizado para medir.\n",
    "    \n",
    "<div class=\"alert alert-block alert-success\">     \n",
    "<b>Ejemplo n°2:</b> \n",
    "Si digo que el resultado de una medida es $3,72m$, quiero decir que serán significativas las cifras $3, 7$ y $2$,  los dígitos $3$ y $7$ son cifras exactas y que el dígito $2$ puede ser erróneo. \n",
    "</div>\n",
    "    \n",
    "<div class=\"alert alert-block alert-success\">     \n",
    "<b>Ejemplo n°3:</b> \n",
    "No es lo mismo $3,70 m$ que $3,7 m$. En el primer caso queremos decir que se ha precisado hasta los centímetros mientras que en el segundo caso sólo hasta los decímetros.\n",
    "</div>    \n",
    " \n",
    "###  <span style=\"color:brown\">Para expresar correctamente los resultados de operaciones aritméticas, mediante cifras significativas, es necesario tener en cuenta que dicho resultado no puede tener más decimales que el número de menor cantidad de decimales involucrado en la operación. </span>\n",
    "    \n",
    "Abajo les dejo otra animación con la cual pueden seleccionar un número entre 0 y 20 y pueden seleccionar la cantidad de cifras significativas. Para presentar el número se redondea no se trunca.\n",
    "    \n",
    "**Antes de comenzar no olvide presionar el boton <span style=\"color:red\">Show Widgets</span> para poder ver la animación**    "
   ]
  },
  {
   "cell_type": "code",
   "execution_count": 5,
   "metadata": {},
   "outputs": [
    {
     "data": {
      "application/vnd.jupyter.widget-view+json": {
       "model_id": "7e20cf8a43f84b389b6db1419a5fb18c",
       "version_major": 2,
       "version_minor": 0
      },
      "text/plain": [
       "interactive(children=(FloatSlider(value=0.0, description='numero', max=20.0, readout_format='.5f', step=1e-05)…"
      ]
     },
     "metadata": {},
     "output_type": "display_data"
    }
   ],
   "source": [
    "# nbi:hide_in\n",
    "\n",
    "a = widgets.FloatSlider(min=0, max=20, step=1e-5,readout_format='.5f')\n",
    "b = widgets.IntSlider(min=1, max=5)\n",
    "'''\n",
    "a=widgets.FloatText(\n",
    "    value=7.5000,\n",
    "    description='Número:',\n",
    "    disabled=False\n",
    ")\n",
    "'''\n",
    "\n",
    "def cifra(numero, cifras_significativas):\n",
    "                        \n",
    "    numero2 = numero\n",
    "    if numero < 10 :\n",
    "        numero = round(numero+1e-6, cifras_significativas-1)\n",
    "    elif  cifras_significativas > 2:\n",
    "        numero = round(numero+1e-4, cifras_significativas-2)\n",
    "    elif cifras_significativas == 2 :\n",
    "        numero = (numero+1e-6)/ 10\n",
    "        numero = round(numero, 1)\n",
    "        numero = numero * 10\n",
    "    else:\n",
    "        numero = round(numero/ 10)   \n",
    "    return 'El número {} con {} cifras significativas es {}'.format(numero2,cifras_significativas,numero)\n",
    "\n",
    "interact(cifra, numero=a, cifras_significativas=b);\n"
   ]
  },
  {
   "cell_type": "markdown",
   "metadata": {},
   "source": [
    "Realice los siguientes ejercicios.\n",
    "**Antes de comenzar no olvide presionar el boton <span style=\"color:red\">Show Widgets</span> para poder ver la actividad** "
   ]
  },
  {
   "cell_type": "code",
   "execution_count": 24,
   "metadata": {},
   "outputs": [
    {
     "data": {
      "application/vnd.jupyter.widget-view+json": {
       "model_id": "6c6276a7b4bd49b9aacf3989430bc178",
       "version_major": 2,
       "version_minor": 0
      },
      "text/plain": [
       "VBox(children=(HTML(value='<p style=\"line-height:18px;\">Expresar g = 9,80666 con 3 cifras decimales</p>'), HBo…"
      ]
     },
     "metadata": {},
     "output_type": "display_data"
    },
    {
     "data": {
      "application/vnd.jupyter.widget-view+json": {
       "model_id": "2ef9a5832d4340248e1c8ba0064a68fb",
       "version_major": 2,
       "version_minor": 0
      },
      "text/plain": [
       "VBox(children=(HTML(value='<p style=\"line-height:18px;\">sqrt(2) con 3 cifras decimales</p>'), HBox(children=(T…"
      ]
     },
     "metadata": {},
     "output_type": "display_data"
    },
    {
     "data": {
      "application/vnd.jupyter.widget-view+json": {
       "model_id": "e151b4ba0eff47ddb57c5398d94ae6ba",
       "version_major": 2,
       "version_minor": 0
      },
      "text/plain": [
       "VBox(children=(HTML(value='<p style=\"line-height:18px;\">pi² con 2 cifras decimales</p>'), HBox(children=(Text(…"
      ]
     },
     "metadata": {},
     "output_type": "display_data"
    }
   ],
   "source": [
    "# nbi:hide_in\n",
    "nbi.short_answer('Expresar g = 9,80666 con 3 cifras decimales', answers='9,807'\n",
    "                 , explanation='hay que redondear el tercer decimal')\n",
    "\n",
    "nbi.short_answer('sqrt(2) con 3 cifras decimales', answers='1,414'\n",
    "                 , explanation='hay que redondear el tercer decimal')\n",
    "\n",
    "nbi.short_answer('pi² con 2 cifras decimales', answers='9,87'\n",
    "                 , explanation='hay que redondear el segundo decimal')\n"
   ]
  },
  {
   "cell_type": "markdown",
   "metadata": {},
   "source": [
    "## <span style=\"color:blue\">Expresión correcta de una medición<span>    \n",
    "   \n",
    "Vimos en la sección anterio que la forma correcta de expresar una medida es a siguiente.\n",
    "<div class=\"alert alert-block alert-warning\">\n",
    "$$$$      \n",
    "$$ \\boxed{X = X_o \\pm \\Delta X}$$\n",
    " \n",
    "donde: \n",
    "$$$$    \n",
    "*  <b>X</b> es el resultado de la medición. \n",
    "$$$$    \n",
    "*  <b>$X_o$</b> es el valor representativo de la medición (el valor que coincidieramos como verdadero).\n",
    "$$$$    \n",
    "*  <b>$\\Delta X$</b> es el error absoluto, incerteza o indeterminación de la medición.\n",
    "$$$$    \n",
    "</div>    \n",
    "    \n",
    "Ahora que ya vimos los conceptos de redondeo y de cifras significativas estamos en condiciones de poder escribir una medición.    \n",
    " \n",
    "##  <span style=\"color:brown\">Lo mas usual es representar las incertezas con una sola cifra significativa y solo en casos excepcionales y cuando existe fundamento para ello se usan mas. Esto determinará las cifras significativas del valor representativo. </span>    \n",
    "    \n",
    "<div class=\"alert alert-block alert-success\">     \n",
    "<b>Ejemplo n°1:</b> Para medición $ X = 4,52 \\pm 0,38 $ al tomar una sola cifra significativa despues de la coma (en el error absoluto $0,\\underbrace{3}$ ) y redondeando el número nos queda $\\Delta X=0,4$. De forma similar como nuestr medición no puede ser mas precisa que el error que estamos comentiendo debemos también redondiar el valor representativo $X_o$ a un sola cifra significativa quedándonos $X_o = 4,5$. Por lo tanto la medición final se debe escribir como:\n",
    "    \n",
    "$$ X = 4,5 \\pm 0,4 cm $$   \n",
    "    \n",
    "Lo que quiere decir que el valor verdadero de la medición se encuentra entre $4,1$ y $4,9 cm$ \n",
    "</div>     \n",
    "  \n",
    "La siguiente animación les ayudará a entender la forma correcta de representar una medida con una sola cifra significativa (solo el primer número distinto de cero en el error absoluto es válido) y redondeando el valor. Esto se verá con mas detalle en la siguiente sección."
   ]
  },
  {
   "cell_type": "code",
   "execution_count": 7,
   "metadata": {},
   "outputs": [
    {
     "data": {
      "application/vnd.jupyter.widget-view+json": {
       "model_id": "bab6c69720514e9892bf9cbd3a9073d7",
       "version_major": 2,
       "version_minor": 0
      },
      "text/plain": [
       "interactive(children=(FloatSlider(value=0.0, description='valor_representativo', max=10.0, step=0.01), FloatSl…"
      ]
     },
     "metadata": {},
     "output_type": "display_data"
    }
   ],
   "source": [
    "# nbi:hide_in\n",
    "\n",
    "b = widgets.FloatSlider(min=0, max=2, step=0.01)\n",
    "a = widgets.FloatSlider(min=0, max=10, step=0.01)\n",
    "\n",
    "def medicion(valor_representativo, error_absoluto):\n",
    "    \n",
    "    valor = valor_representativo\n",
    "    error = error_absoluto\n",
    "    if error_absoluto > 1: \n",
    "        error_absoluto = round(error_absoluto+0.01, 0)\n",
    "        valor_representativo = round(valor_representativo+0.01, 0)\n",
    "    else:\n",
    "        error_absoluto = round(error_absoluto+0.01, 1)\n",
    "        valor_representativo = round(valor_representativo+0.01,1)\n",
    "    return 'La medicion X = {} +/- {} se escribe de forma correcta como: X = {} +/- {}'.format(valor, error,valor_representativo, error_absoluto)\n",
    "\n",
    "interact(medicion, valor_representativo=a, error_absoluto=b);"
   ]
  },
  {
   "cell_type": "markdown",
   "metadata": {},
   "source": [
    "<div class=\"alert alert-block alert-success\">     \n",
    "<b>Ejemplo n°2:</b> Dada la medición $24567 \\pm 2908 m$, exprésela de forma correcta con una sola cifra significativa.\n",
    "$$ $$\n",
    "    \n",
    "Lo primero que hacemos es tomar una sola cifra significativa del error absoluto y la redondeamos\n",
    "$$ \\underbrace{2}908$$    \n",
    "como lo que le sigue al $2$ es un $9$, lo redondeamos hacia arriba convirtiéndolo en un $3$\n",
    "$$$$\n",
    "Por lo cual ya definimos el error absoluto como $$\\Delta X = 3000 m$$ \n",
    "    \n",
    "Ahora tenemos que redondear el valor representativo para finalizar. Lo importante aca es redondear la cifra que coincida con el error absoluto, en este caso es la unidad de mil. Con esto podemos definir que el 2 es una cifra exactas pero el 4 correspondientes a la unidad de mil hay que redondearlo. \n",
    "$$X_o = 2\\overbrace{4}^{Udm}567 m$$\n",
    "$$\\Delta X =  0\\underbrace{3}_{Udm}000 m$$    \n",
    "\n",
    "Por lo cual la medición debe expresarse como:\n",
    "    \n",
    "    \n",
    "$$ \\boxed {X = 25000 \\pm 3000 m}$$   \n",
    "    \n",
    "</div>   \n",
    "\n",
    "<div class=\"alert alert-block alert-success\">     \n",
    "<b>Ejemplo n°3:</b> Dada la medición $43 \\pm 0,06 m$, exprésela de forma correcta con una sola cifra significativa.\n",
    "$$ $$\n",
    "    \n",
    "Nuevamente lo primero que hacemos es tomar una sola cifra significativa del error absoluto y la redondeamos\n",
    "$$ 0,0\\underbrace{6}$$    \n",
    "Ahora tenemos que buscar la cifra correspondiente en el valor representativo, como en este caso no esta escrita, lo que tenemos que hacer es escribirla. Por lo cual la medición se expresa como:\n",
    "\n",
    "$$ \\boxed {X = 43,00 \\pm 0,06 m}$$   \n",
    "</div>   \n",
    "\n",
    "**Antes de comenzar no olvide presionar el boton <span style=\"color:red\">Show Widgets</span> para poder ver la actividad** \n",
    "\n",
    "###  <span style=\"color:brown\">Escriba las siguientes mediciones con una sola cifra significativa. Separe con \"+/-\" el valor representativo del error absoluto sin dejar espacios. Ejemplo 45+/-1<span>"
   ]
  },
  {
   "cell_type": "code",
   "execution_count": 19,
   "metadata": {},
   "outputs": [
    {
     "data": {
      "application/vnd.jupyter.widget-view+json": {
       "model_id": "e03106683e024be1b8a83d745e54a23f",
       "version_major": 2,
       "version_minor": 0
      },
      "text/plain": [
       "VBox(children=(HTML(value='<p style=\"line-height:18px;\">Xo = 2238,2816 +/- DX = 349,89432</p>'), HBox(children…"
      ]
     },
     "metadata": {},
     "output_type": "display_data"
    },
    {
     "data": {
      "application/vnd.jupyter.widget-view+json": {
       "model_id": "b9c35f7502f64a758e14c6c99d798ffe",
       "version_major": 2,
       "version_minor": 0
      },
      "text/plain": [
       "VBox(children=(HTML(value='<p style=\"line-height:18px;\">Xo = 5719,9123 +/- DX = 91,538915</p>'), HBox(children…"
      ]
     },
     "metadata": {},
     "output_type": "display_data"
    },
    {
     "data": {
      "application/vnd.jupyter.widget-view+json": {
       "model_id": "4a41bee0d82442f3a7127a97006b4fd5",
       "version_major": 2,
       "version_minor": 0
      },
      "text/plain": [
       "VBox(children=(HTML(value='<p style=\"line-height:18px;\">Xo = 8,3794350 +/- DX = 0,8716577</p>'), HBox(children…"
      ]
     },
     "metadata": {},
     "output_type": "display_data"
    },
    {
     "data": {
      "application/vnd.jupyter.widget-view+json": {
       "model_id": "dc5b1bc6f95245048609c5d25dd4b324",
       "version_major": 2,
       "version_minor": 0
      },
      "text/plain": [
       "VBox(children=(HTML(value='<p style=\"line-height:18px;\">Xo = 0,0055671 +/- DX = 0,0000255</p>'), HBox(children…"
      ]
     },
     "metadata": {},
     "output_type": "display_data"
    },
    {
     "data": {
      "application/vnd.jupyter.widget-view+json": {
       "model_id": "6b4c47232a0d468f903c4e5988154cbe",
       "version_major": 2,
       "version_minor": 0
      },
      "text/plain": [
       "VBox(children=(HTML(value='<p style=\"line-height:18px;\">Xo = 0,0893651 +/- DX = 0,0134952</p>'), HBox(children…"
      ]
     },
     "metadata": {},
     "output_type": "display_data"
    }
   ],
   "source": [
    "# nbi:hide_in\n",
    "nbi.short_answer('Xo = 2238,2816 +/- DX = 349,89432', answers='2200+/-300')\n",
    "\n",
    "nbi.short_answer('Xo = 5719,9123 +/- DX = 91,538915', answers='5720+/-90')\n",
    "\n",
    "nbi.short_answer('Xo = 8,3794350 +/- DX = 0,8716577', answers='8,4+/-0,9')\n",
    "\n",
    "nbi.short_answer('Xo = 0,0055671 +/- DX = 0,0000255', answers='0,00557+/-0,00003')\n",
    "\n",
    "nbi.short_answer('Xo = 0,0893651 +/- DX = 0,0134952', answers='0,09+/-0,01')\n"
   ]
  },
  {
   "cell_type": "markdown",
   "metadata": {},
   "source": [
    "<form method=\"get\" action=\"https://nicolasferragamo.github.io/AEA/index.html\">\n",
    " <button type=\"submit\">Inicio\n",
    "</form>\n",
    "<form method=\"get\" action=\"https://nicolasferragamo.github.io/AEA/Mediciones/errores.html\">\n",
    " <button type=\"submit\">Anterior\n",
    "</form> \n",
    "<form method=\"get\" action=\"https://nicolasferragamo.github.io/AEA/Mediciones/clasificacion-de-mediciones.html\">\n",
    " <button type=\"submit\">Siguiente\n",
    "</form> "
   ]
  },
  {
   "cell_type": "markdown",
   "metadata": {},
   "source": [
    "**Copyright**\n",
    "\n",
    "The notebook is provided as [Open Educational Resource]('https://en.wikipedia.org/wiki/Open_educational_resources'). Feel free to use the notebook for your own educational purposes. The text is licensed under [Creative Commons Attribution 4.0]('https://creativecommons.org/licenses/by/4.0/'), the code of the IPython examples under the [MIT license]('https://opensource.org/licenses/MIT'). Please attribute the work as follows: Aplicaciones de electrónica Analógica by Nicolás Ferragamo.\n"
   ]
  }
 ],
 "metadata": {
  "kernelspec": {
   "display_name": "Python 3",
   "language": "python",
   "name": "python3"
  },
  "language_info": {
   "codemirror_mode": {
    "name": "ipython",
    "version": 3
   },
   "file_extension": ".py",
   "mimetype": "text/x-python",
   "name": "python",
   "nbconvert_exporter": "python",
   "pygments_lexer": "ipython3",
   "version": "3.7.6"
  }
 },
 "nbformat": 4,
 "nbformat_minor": 2
}
