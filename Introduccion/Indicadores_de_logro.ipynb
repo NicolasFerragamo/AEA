{
 "cells": [
  {
   "cell_type": "code",
   "execution_count": 3,
   "metadata": {},
   "outputs": [],
   "source": [
    "# nbi:hide_in\n",
    "from __future__ import print_function\n",
    "from ipywidgets import interact, interactive, fixed, interact_manual\n",
    "import ipywidgets as widgets\n",
    "import nbinteract as nbi\n",
    "from IPython.display import display\n",
    "import matplotlib.pyplot as plt\n",
    "import numpy as np"
   ]
  },
  {
   "cell_type": "markdown",
   "metadata": {},
   "source": [
    "# <span style=\"color:blue\"> Indicadores de logro <span>\n",
    "\n",
    "Estos son los indicadores de logro que se utilizaran para la acreditación del presente curso:\n",
    "\n",
    "1. Identificar los distintos elementos que intervienen en una medición.\n",
    "2. Identificar en la práctica los distintos tipos de errores.\n",
    "3. Escribir de forma correcta todas las mediciones.\n",
    "4. Elegir el instrumento adecuado para cada situación planteada\n",
    "5. Utilizar los diferentes instrumentos de medición de forma correcta.\n",
    "6. Identificar las limitaciones de cada instrumento con los que se cuenta y realizar los cálculos de expansión de rango.\n",
    "7. Capacidad de discernir si los valores medidos son correctos o no.\n",
    "8. Realizar  cálculos y comprobarlos que coincidan con las mediciones y las simulaciones de los circuitos.\n",
    "9. Explicar el concepto de función y ejemplificarlos\n",
    "10. Explicar el concepto de señal, sus clasificaciones y ejemplificarlos.\n",
    "11. Identificar la frecuencia, el período, la amplitud y la fase de una señal senoidal.\n",
    "12. A partir de un grafico o del osciloscopio obtener la ecuación matemática de una señal.\n",
    "13. Utilizar correctamente el osciloscopio analógico.\n",
    "14. Graficar en ejes cartesianos señales cosenoidales.\n",
    "15. Identificar los elementos que conforman al semiconductor y su diferencia con un conductor.\n",
    "16. Graficar la curva de un diodo, marcar los puntos característicos y utilizarlo en distintos circuitos. \n",
    "17. Utilizar de forma correcta un diodo.\n",
    "18. Conocer como estan conformados y como utilizarlos y realizar los cálculos de polarización.\n",
    "19. Explicar de forma básica los fenómenos electromagnéticos.\n",
    "20. Realizar los cálculos básicos que indiquen la tensión y corriente de un transformador. Saber conectarlo en un circuito de forma correcta.\n",
    "21. Identificar las distintas topologías de una fuente de alimentación lineal.\n",
    "22. Realizar los cálculos de diseño y el circuito y el cirrcuito físico de una fuente de alimentación regulada lineal.\n",
    "23. Comprender a grandes rasgos el funcionamiento de un transistor, e identificar sus gráficos y las diferentes zonas.    \n",
    "24. Polarizar correctamente transistores BJT.    \n",
    "25. Realizar los cálculos de diseño y el armado físico de sistemas transistorizados on/off\n",
    "26. Uso correcto del protoboad y armado de circuitos.    \n",
    "27. Presentación de las simulaciones realizadas.\n",
    "28. Extraer los datos necesarios de las hojas de datos.   \n",
    "29. Obtener valores razonables aunque su resultado sea incorrecto. El alumno deberá indicar cuando un valor obtenido no es posible aunque no encuentre el error cometido. (Es un criterio de evaluación muy relevante)\n"
   ]
  },
  {
   "cell_type": "markdown",
   "metadata": {},
   "source": [
    "<form method=\"get\" action=\"https://nicolasferragamo.github.io/AEA/index.html\">\n",
    " <button type=\"submit\">Inicio\n",
    "</form>\n",
    "    \n",
    "<form method=\"get\" action=\"https://nicolasferragamo.github.io/AEA/Introduccion/expectativas_de_logro.html\">\n",
    " <button type=\"submit\">Atras\n",
    "</form>\n",
    "\n",
    "<form method=\"get\" action=\"https://nicolasferragamo.github.io/AEA/Introduccion/Criterios_de_evaluacion.html\">\n",
    " <button type=\"submit\">Siguiente\n",
    "</form>\n"
   ]
  },
  {
   "cell_type": "markdown",
   "metadata": {},
   "source": [
    "**Copyright**\n",
    "\n",
    "The notebook is provided as [Open Educational Resource]('https://en.wikipedia.org/wiki/Open_educational_resources'). Feel free to use the notebook for your own educational purposes. The text is licensed under [Creative Commons Attribution 4.0]('https://creativecommons.org/licenses/by/4.0/'), the code of the IPython examples under the [MIT license]('https://opensource.org/licenses/MIT'). Please attribute the work as follows: Aplicaciones de electrónica Analógica by Nicolás Ferragamo.\n"
   ]
  }
 ],
 "metadata": {
  "kernelspec": {
   "display_name": "Python 3",
   "language": "python",
   "name": "python3"
  },
  "language_info": {
   "codemirror_mode": {
    "name": "ipython",
    "version": 3
   },
   "file_extension": ".py",
   "mimetype": "text/x-python",
   "name": "python",
   "nbconvert_exporter": "python",
   "pygments_lexer": "ipython3",
   "version": "3.7.6"
  }
 },
 "nbformat": 4,
 "nbformat_minor": 2
}
