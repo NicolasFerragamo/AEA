{
 "cells": [
  {
   "cell_type": "code",
   "execution_count": 1,
   "metadata": {},
   "outputs": [
    {
     "name": "stderr",
     "output_type": "stream",
     "text": [
      "/tmp/tmp4gc8gn3j.c:1:3: error: invalid preprocessing directive #nbi\n",
      "    1 | # nbi:hide_in\n",
      "      |   ^~~\n",
      "/tmp/tmp4gc8gn3j.c:2:1: error: unknown type name ‘from’\n",
      "    2 | from __future__ import print_function\n",
      "      | ^~~~\n",
      "/tmp/tmp4gc8gn3j.c:2:17: error: expected ‘=’, ‘,’, ‘;’, ‘asm’ or ‘__attribute__’ before ‘import’\n",
      "    2 | from __future__ import print_function\n",
      "      |                 ^~~~~~\n",
      "/tmp/tmp4gc8gn3j.c:2:17: error: unknown type name ‘import’\n",
      "[C kernel] GCC exited with code 1, the executable will not be executed"
     ]
    }
   ],
   "source": []
  },
  {
   "cell_type": "markdown",
   "metadata": {},
   "source": [
    "# Valid code"
   ]
  },
  {
   "cell_type": "code",
   "execution_count": 1,
   "metadata": {},
   "outputs": [
    {
     "name": "stdout",
     "output_type": "stream",
     "text": [
      "Hello world\n"
     ]
    }
   ],
   "source": [
    "#include <stdio.h>\n",
    "\n",
    "int main() {\n",
    "    printf(\"Hello world\\n\");\n",
    "}"
   ]
  },
  {
   "cell_type": "markdown",
   "metadata": {},
   "source": [
    "But the kernel will also display compilations warnings and errors if we have some. Let's try to remove the `#include <stdio.h>` statement, which if necessary for `printf` to work."
   ]
  },
  {
   "cell_type": "markdown",
   "metadata": {},
   "source": [
    "# Code generating warnings during compilation"
   ]
  },
  {
   "cell_type": "code",
   "execution_count": 2,
   "metadata": {},
   "outputs": [
    {
     "name": "stderr",
     "output_type": "stream",
     "text": [
      "/tmp/tmplmv9a7_n.c: In function ‘main’:\n",
      "/tmp/tmplmv9a7_n.c:2:5: warning: implicit declaration of function ‘printf’ [-Wimplicit-function-declaration]\n",
      "    2 |     printf(\"Hello world\\n\");\n",
      "      |     ^~~~~~\n",
      "/tmp/tmplmv9a7_n.c:2:5: warning: incompatible implicit declaration of built-in function ‘printf’\n",
      "/tmp/tmplmv9a7_n.c:1:1: note: include ‘<stdio.h>’ or provide a declaration of ‘printf’\n",
      "  +++ |+#include <stdio.h>\n",
      "    1 | int main() {\n"
     ]
    },
    {
     "name": "stdout",
     "output_type": "stream",
     "text": [
      "Hello world\n"
     ]
    }
   ],
   "source": [
    "int main() {\n",
    "    printf(\"Hello world\\n\");\n",
    "}"
   ]
  },
  {
   "cell_type": "markdown",
   "metadata": {},
   "source": [
    "You can see that the warning are displayed, but the code is still executed."
   ]
  },
  {
   "cell_type": "markdown",
   "metadata": {},
   "source": [
    "# Code generating errors during compilation"
   ]
  },
  {
   "cell_type": "code",
   "execution_count": 3,
   "metadata": {},
   "outputs": [
    {
     "name": "stderr",
     "output_type": "stream",
     "text": [
      "/tmp/tmpubsj6n7r.c: In function ‘main’:\n",
      "/tmp/tmpubsj6n7r.c:2:5: warning: implicit declaration of function ‘printf’ [-Wimplicit-function-declaration]\n",
      "    2 |     printf(\"Hello world\")\n",
      "      |     ^~~~~~\n",
      "/tmp/tmpubsj6n7r.c:2:5: warning: incompatible implicit declaration of built-in function ‘printf’\n",
      "/tmp/tmpubsj6n7r.c:1:1: note: include ‘<stdio.h>’ or provide a declaration of ‘printf’\n",
      "  +++ |+#include <stdio.h>\n",
      "    1 | int main() {\n",
      "/tmp/tmpubsj6n7r.c:2:26: error: expected ‘;’ before ‘}’ token\n",
      "    2 |     printf(\"Hello world\")\n",
      "      |                          ^\n",
      "      |                          ;\n",
      "    3 | }\n",
      "      | ~                         \n",
      "[C kernel] GCC exited with code 1, the executable will not be executed"
     ]
    }
   ],
   "source": [
    "int main() {\n",
    "    printf(\"Hello world\")\n",
    "}"
   ]
  },
  {
   "cell_type": "markdown",
   "metadata": {},
   "source": [
    "You can see that the errors and warnings are shown, but the code is not executed. The retcode is also added to the end of `stderr`"
   ]
  }
 ],
 "metadata": {
  "kernelspec": {
   "display_name": "C",
   "language": "c",
   "name": "c_spec"
  },
  "language_info": {
   "file_extension": ".c",
   "mimetype": "text/plain",
   "name": "c"
  }
 },
 "nbformat": 4,
 "nbformat_minor": 1
}
