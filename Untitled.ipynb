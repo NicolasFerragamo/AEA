{
 "cells": [
  {
   "cell_type": "code",
   "execution_count": 8,
   "metadata": {},
   "outputs": [],
   "source": [
    "# nbi:hide_in\n",
    "#%matplotlib notebook\n",
    "from __future__ import print_function\n",
    "from ipywidgets import interact, interactive, fixed, interact_manual\n",
    "import ipywidgets as widgets\n",
    "import nbinteract as nbi\n",
    "from IPython.display import display\n",
    "import matplotlib.pyplot as plt\n",
    "import numpy as np\n",
    "from matplotlib.pyplot import figure, savefig\n",
    "import sys \n",
    "sys.path.append('/home/nico/.local/lib/python3.8/site-packages')\n",
    "from lcapy import Circuit\n"
   ]
  },
  {
   "cell_type": "code",
   "execution_count": 6,
   "metadata": {},
   "outputs": [
    {
     "data": {
      "application/vnd.jupyter.widget-view+json": {
       "model_id": "4cfc2d435e184ec0b31167f3a324d4ca",
       "version_major": 2,
       "version_minor": 0
      },
      "text/plain": [
       "interactive(children=(IntSlider(value=1, description='R', max=10, min=1), SelectMultiple(description='Toleranc…"
      ]
     },
     "metadata": {},
     "output_type": "display_data"
    }
   ],
   "source": [
    "#interact(R=(1,10,1))\n",
    "#interact(tol=(0.0,0.1,0.005))\n",
    "\n",
    "a = widgets.IntSlider(min=1, max=10, step=1)\n",
    "'''\n",
    "b = widgets.FloatText(\n",
    "    value=0.0,\n",
    "     min=0,\n",
    "    max=0.1,\n",
    "    step=0.01,\n",
    "    description='Tolerncia',\n",
    "    disabled=False\n",
    ")\n",
    "'''\n",
    "b = widgets.SelectMultiple(\n",
    "    options={'0%':0.0, '0.05%':0.005, '0.1%':0.001, '0.25%':0.0025, '0.5%':0.005, \n",
    "             '1%':0.01, '2%':0.02, '5%':0.05, '10%':0.1, '20%':0.2},\n",
    "    value=[0],\n",
    "    #rows=10,\n",
    "    description='Tolerancia de la resisitencia',\n",
    "    disabled=False\n",
    ")\n",
    "\n",
    "def response(R,tol):\n",
    "    \n",
    "    tol = tol[0]\n",
    "    tol = (np.random.uniform(low=-tol, high=tol, size=1)).item(0) \n",
    "    #tol = (np.random.normal(0, np.sqrt(tol), size=1)).item(0) \n",
    "   \n",
    "    R = (1 + tol) * R \n",
    "    \n",
    "    cct = Circuit()\n",
    " \n",
    "    cct.add('V 0_1 0 step 10;down')\n",
    "    cct.add('L 0_1 0_2 1e-3;right')\n",
    "    cct.add('C 0_2 1 1e-4;right')\n",
    "    cct.add('R 1 0_4 {R};down'.format(R=R))\n",
    "    cct.add('W 0_4 0; left')\n",
    "        \n",
    "    t = np.linspace(0, 0.01, 1000)\n",
    "    vr = cct.R.v.evaluate(t)\n",
    " \n",
    "    fig = figure()\n",
    "    #Note that we can add Greek symbols from LaTex into the figure text\n",
    "    ax = fig.add_subplot(111, title='Resistor voltage (R={:1.4f}$\\Omega$)'.format(R))\n",
    "    ax.plot(t, vr, linewidth=2)\n",
    "    ax.set_xlabel('Time (s)')\n",
    "    ax.set_ylabel('Resistor voltage (V)')\n",
    "    ax.grid(True)\n",
    "     \n",
    "    cct.draw()\n",
    "\n",
    "interact(response, R=a, tol=b);"
   ]
  },
  {
   "cell_type": "code",
   "execution_count": 15,
   "metadata": {},
   "outputs": [
    {
     "data": {
      "image/png": "[encoded data removed]"
     },
     "metadata": {
      "image/png": {
       "height": 169,
       "width": 421
      }
     },
     "output_type": "display_data"
    },
    {
     "data": {
      "application/javascript": [
       "/* Put everything inside the global mpl namespace */\n",
       "window.mpl = {};\n",
       "\n",
       "\n",
       "mpl.get_websocket_type = function() {\n",
       "    if (typeof(WebSocket) !== 'undefined') {\n",
       "        return WebSocket;\n",
       "    } else if (typeof(MozWebSocket) !== 'undefined') {\n",
       "        return MozWebSocket;\n",
       "    } else {\n",
       "        alert('Your browser does not have WebSocket support. ' +\n",
       "              'Please try Chrome, Safari or Firefox ≥ 6. ' +\n",
       "              'Firefox 4 and 5 are also supported but you ' +\n",
       "              'have to enable WebSockets in about:config.');\n",
       "    };\n",
       "}\n",
       "\n",
       "mpl.figure = function(figure_id, websocket, ondownload, parent_element) {\n",
       "    this.id = figure_id;\n",
       "\n",
       "    this.ws = websocket;\n",
       "\n",
       "    this.supports_binary = (this.ws.binaryType != undefined);\n",
       "\n",
       "    if (!this.supports_binary) {\n",
       "        var warnings = document.getElementById(\"mpl-warnings\");\n",
       "        if (warnings) {\n",
       "            warnings.style.display = 'block';\n",
       "            warnings.textContent = (\n",
       "                \"This browser does not support binary websocket messages. \" +\n",
       "                    \"Performance may be slow.\");\n",
       "        }\n",
       "    }\n",
       "\n",
       "    this.imageObj = new Image();\n",
       "\n",
       "    this.context = undefined;\n",
       "    this.message = undefined;\n",
       "    this.canvas = undefined;\n",
       "    this.rubberband_canvas = undefined;\n",
       "    this.rubberband_context = undefined;\n",
       "    this.format_dropdown = undefined;\n",
       "\n",
       "    this.image_mode = 'full';\n",
       "\n",
       "    this.root = $('<div/>');\n",
       "    this._root_extra_style(this.root)\n",
       "    this.root.attr('style', 'display: inline-block');\n",
       "\n",
       "    $(parent_element).append(this.root);\n",
       "\n",
       "    this._init_header(this);\n",
       "    this._init_canvas(this);\n",
       "    this._init_toolbar(this);\n",
       "\n",
       "    var fig = this;\n",
       "\n",
       "    this.waiting = false;\n",
       "\n",
       "    this.ws.onopen =  function () {\n",
       "            fig.send_message(\"supports_binary\", {value: fig.supports_binary});\n",
       "            fig.send_message(\"send_image_mode\", {});\n",
       "            if (mpl.ratio != 1) {\n",
       "                fig.send_message(\"set_dpi_ratio\", {'dpi_ratio': mpl.ratio});\n",
       "            }\n",
       "            fig.send_message(\"refresh\", {});\n",
       "        }\n",
       "\n",
       "    this.imageObj.onload = function() {\n",
       "            if (fig.image_mode == 'full') {\n",
       "                // Full images could contain transparency (where diff images\n",
       "                // almost always do), so we need to clear the canvas so that\n",
       "                // there is no ghosting.\n",
       "                fig.context.clearRect(0, 0, fig.canvas.width, fig.canvas.height);\n",
       "            }\n",
       "            fig.context.drawImage(fig.imageObj, 0, 0);\n",
       "        };\n",
       "\n",
       "    this.imageObj.onunload = function() {\n",
       "        fig.ws.close();\n",
       "    }\n",
       "\n",
       "    this.ws.onmessage = this._make_on_message_function(this);\n",
       "\n",
       "    this.ondownload = ondownload;\n",
       "}\n",
       "\n",
       "mpl.figure.prototype._init_header = function() {\n",
       "    var titlebar = $(\n",
       "        '<div class=\"ui-dialog-titlebar ui-widget-header ui-corner-all ' +\n",
       "        'ui-helper-clearfix\"/>');\n",
       "    var titletext = $(\n",
       "        '<div class=\"ui-dialog-title\" style=\"width: 100%; ' +\n",
       "        'text-align: center; padding: 3px;\"/>');\n",
       "    titlebar.append(titletext)\n",
       "    this.root.append(titlebar);\n",
       "    this.header = titletext[0];\n",
       "}\n",
       "\n",
       "\n",
       "\n",
       "mpl.figure.prototype._canvas_extra_style = function(canvas_div) {\n",
       "\n",
       "}\n",
       "\n",
       "\n",
       "mpl.figure.prototype._root_extra_style = function(canvas_div) {\n",
       "\n",
       "}\n",
       "\n",
       "mpl.figure.prototype._init_canvas = function() {\n",
       "    var fig = this;\n",
       "\n",
       "    var canvas_div = $('<div/>');\n",
       "\n",
       "    canvas_div.attr('style', 'position: relative; clear: both; outline: 0');\n",
       "\n",
       "    function canvas_keyboard_event(event) {\n",
       "        return fig.key_event(event, event['data']);\n",
       "    }\n",
       "\n",
       "    canvas_div.keydown('key_press', canvas_keyboard_event);\n",
       "    canvas_div.keyup('key_release', canvas_keyboard_event);\n",
       "    this.canvas_div = canvas_div\n",
       "    this._canvas_extra_style(canvas_div)\n",
       "    this.root.append(canvas_div);\n",
       "\n",
       "    var canvas = $('<canvas/>');\n",
       "    canvas.addClass('mpl-canvas');\n",
       "    canvas.attr('style', \"left: 0; top: 0; z-index: 0; outline: 0\")\n",
       "\n",
       "    this.canvas = canvas[0];\n",
       "    this.context = canvas[0].getContext(\"2d\");\n",
       "\n",
       "    var backingStore = this.context.backingStorePixelRatio ||\n",
       "\tthis.context.webkitBackingStorePixelRatio ||\n",
       "\tthis.context.mozBackingStorePixelRatio ||\n",
       "\tthis.context.msBackingStorePixelRatio ||\n",
       "\tthis.context.oBackingStorePixelRatio ||\n",
       "\tthis.context.backingStorePixelRatio || 1;\n",
       "\n",
       "    mpl.ratio = (window.devicePixelRatio || 1) / backingStore;\n",
       "\n",
       "    var rubberband = $('<canvas/>');\n",
       "    rubberband.attr('style', \"position: absolute; left: 0; top: 0; z-index: 1;\")\n",
       "\n",
       "    var pass_mouse_events = true;\n",
       "\n",
       "    canvas_div.resizable({\n",
       "        start: function(event, ui) {\n",
       "            pass_mouse_events = false;\n",
       "        },\n",
       "        resize: function(event, ui) {\n",
       "            fig.request_resize(ui.size.width, ui.size.height);\n",
       "        },\n",
       "        stop: function(event, ui) {\n",
       "            pass_mouse_events = true;\n",
       "            fig.request_resize(ui.size.width, ui.size.height);\n",
       "        },\n",
       "    });\n",
       "\n",
       "    function mouse_event_fn(event) {\n",
       "        if (pass_mouse_events)\n",
       "            return fig.mouse_event(event, event['data']);\n",
       "    }\n",
       "\n",
       "    rubberband.mousedown('button_press', mouse_event_fn);\n",
       "    rubberband.mouseup('button_release', mouse_event_fn);\n",
       "    // Throttle sequential mouse events to 1 every 20ms.\n",
       "    rubberband.mousemove('motion_notify', mouse_event_fn);\n",
       "\n",
       "    rubberband.mouseenter('figure_enter', mouse_event_fn);\n",
       "    rubberband.mouseleave('figure_leave', mouse_event_fn);\n",
       "\n",
       "    canvas_div.on(\"wheel\", function (event) {\n",
       "        event = event.originalEvent;\n",
       "        event['data'] = 'scroll'\n",
       "        if (event.deltaY < 0) {\n",
       "            event.step = 1;\n",
       "        } else {\n",
       "            event.step = -1;\n",
       "        }\n",
       "        mouse_event_fn(event);\n",
       "    });\n",
       "\n",
       "    canvas_div.append(canvas);\n",
       "    canvas_div.append(rubberband);\n",
       "\n",
       "    this.rubberband = rubberband;\n",
       "    this.rubberband_canvas = rubberband[0];\n",
       "    this.rubberband_context = rubberband[0].getContext(\"2d\");\n",
       "    this.rubberband_context.strokeStyle = \"#000000\";\n",
       "\n",
       "    this._resize_canvas = function(width, height) {\n",
       "        // Keep the size of the canvas, canvas container, and rubber band\n",
       "        // canvas in synch.\n",
       "        canvas_div.css('width', width)\n",
       "        canvas_div.css('height', height)\n",
       "\n",
       "        canvas.attr('width', width * mpl.ratio);\n",
       "        canvas.attr('height', height * mpl.ratio);\n",
       "        canvas.attr('style', 'width: ' + width + 'px; height: ' + height + 'px;');\n",
       "\n",
       "        rubberband.attr('width', width);\n",
       "        rubberband.attr('height', height);\n",
       "    }\n",
       "\n",
       "    // Set the figure to an initial 600x600px, this will subsequently be updated\n",
       "    // upon first draw.\n",
       "    this._resize_canvas(600, 600);\n",
       "\n",
       "    // Disable right mouse context menu.\n",
       "    $(this.rubberband_canvas).bind(\"contextmenu\",function(e){\n",
       "        return false;\n",
       "    });\n",
       "\n",
       "    function set_focus () {\n",
       "        canvas.focus();\n",
       "        canvas_div.focus();\n",
       "    }\n",
       "\n",
       "    window.setTimeout(set_focus, 100);\n",
       "}\n",
       "\n",
       "mpl.figure.prototype._init_toolbar = function() {\n",
       "    var fig = this;\n",
       "\n",
       "    var nav_element = $('<div/>');\n",
       "    nav_element.attr('style', 'width: 100%');\n",
       "    this.root.append(nav_element);\n",
       "\n",
       "    // Define a callback function for later on.\n",
       "    function toolbar_event(event) {\n",
       "        return fig.toolbar_button_onclick(event['data']);\n",
       "    }\n",
       "    function toolbar_mouse_event(event) {\n",
       "        return fig.toolbar_button_onmouseover(event['data']);\n",
       "    }\n",
       "\n",
       "    for(var toolbar_ind in mpl.toolbar_items) {\n",
       "        var name = mpl.toolbar_items[toolbar_ind][0];\n",
       "        var tooltip = mpl.toolbar_items[toolbar_ind][1];\n",
       "        var image = mpl.toolbar_items[toolbar_ind][2];\n",
       "        var method_name = mpl.toolbar_items[toolbar_ind][3];\n",
       "\n",
       "        if (!name) {\n",
       "            // put a spacer in here.\n",
       "            continue;\n",
       "        }\n",
       "        var button = $('<button/>');\n",
       "        button.addClass('ui-button ui-widget ui-state-default ui-corner-all ' +\n",
       "                        'ui-button-icon-only');\n",
       "        button.attr('role', 'button');\n",
       "        button.attr('aria-disabled', 'false');\n",
       "        button.click(method_name, toolbar_event);\n",
       "        button.mouseover(tooltip, toolbar_mouse_event);\n",
       "\n",
       "        var icon_img = $('<span/>');\n",
       "        icon_img.addClass('ui-button-icon-primary ui-icon');\n",
       "        icon_img.addClass(image);\n",
       "        icon_img.addClass('ui-corner-all');\n",
       "\n",
       "        var tooltip_span = $('<span/>');\n",
       "        tooltip_span.addClass('ui-button-text');\n",
       "        tooltip_span.html(tooltip);\n",
       "\n",
       "        button.append(icon_img);\n",
       "        button.append(tooltip_span);\n",
       "\n",
       "        nav_element.append(button);\n",
       "    }\n",
       "\n",
       "    var fmt_picker_span = $('<span/>');\n",
       "\n",
       "    var fmt_picker = $('<select/>');\n",
       "    fmt_picker.addClass('mpl-toolbar-option ui-widget ui-widget-content');\n",
       "    fmt_picker_span.append(fmt_picker);\n",
       "    nav_element.append(fmt_picker_span);\n",
       "    this.format_dropdown = fmt_picker[0];\n",
       "\n",
       "    for (var ind in mpl.extensions) {\n",
       "        var fmt = mpl.extensions[ind];\n",
       "        var option = $(\n",
       "            '<option/>', {selected: fmt === mpl.default_extension}).html(fmt);\n",
       "        fmt_picker.append(option);\n",
       "    }\n",
       "\n",
       "    // Add hover states to the ui-buttons\n",
       "    $( \".ui-button\" ).hover(\n",
       "        function() { $(this).addClass(\"ui-state-hover\");},\n",
       "        function() { $(this).removeClass(\"ui-state-hover\");}\n",
       "    );\n",
       "\n",
       "    var status_bar = $('<span class=\"mpl-message\"/>');\n",
       "    nav_element.append(status_bar);\n",
       "    this.message = status_bar[0];\n",
       "}\n",
       "\n",
       "mpl.figure.prototype.request_resize = function(x_pixels, y_pixels) {\n",
       "    // Request matplotlib to resize the figure. Matplotlib will then trigger a resize in the client,\n",
       "    // which will in turn request a refresh of the image.\n",
       "    this.send_message('resize', {'width': x_pixels, 'height': y_pixels});\n",
       "}\n",
       "\n",
       "mpl.figure.prototype.send_message = function(type, properties) {\n",
       "    properties['type'] = type;\n",
       "    properties['figure_id'] = this.id;\n",
       "    this.ws.send(JSON.stringify(properties));\n",
       "}\n",
       "\n",
       "mpl.figure.prototype.send_draw_message = function() {\n",
       "    if (!this.waiting) {\n",
       "        this.waiting = true;\n",
       "        this.ws.send(JSON.stringify({type: \"draw\", figure_id: this.id}));\n",
       "    }\n",
       "}\n",
       "\n",
       "\n",
       "mpl.figure.prototype.handle_save = function(fig, msg) {\n",
       "    var format_dropdown = fig.format_dropdown;\n",
       "    var format = format_dropdown.options[format_dropdown.selectedIndex].value;\n",
       "    fig.ondownload(fig, format);\n",
       "}\n",
       "\n",
       "\n",
       "mpl.figure.prototype.handle_resize = function(fig, msg) {\n",
       "    var size = msg['size'];\n",
       "    if (size[0] != fig.canvas.width || size[1] != fig.canvas.height) {\n",
       "        fig._resize_canvas(size[0], size[1]);\n",
       "        fig.send_message(\"refresh\", {});\n",
       "    };\n",
       "}\n",
       "\n",
       "mpl.figure.prototype.handle_rubberband = function(fig, msg) {\n",
       "    var x0 = msg['x0'] / mpl.ratio;\n",
       "    var y0 = (fig.canvas.height - msg['y0']) / mpl.ratio;\n",
       "    var x1 = msg['x1'] / mpl.ratio;\n",
       "    var y1 = (fig.canvas.height - msg['y1']) / mpl.ratio;\n",
       "    x0 = Math.floor(x0) + 0.5;\n",
       "    y0 = Math.floor(y0) + 0.5;\n",
       "    x1 = Math.floor(x1) + 0.5;\n",
       "    y1 = Math.floor(y1) + 0.5;\n",
       "    var min_x = Math.min(x0, x1);\n",
       "    var min_y = Math.min(y0, y1);\n",
       "    var width = Math.abs(x1 - x0);\n",
       "    var height = Math.abs(y1 - y0);\n",
       "\n",
       "    fig.rubberband_context.clearRect(\n",
       "        0, 0, fig.canvas.width / mpl.ratio, fig.canvas.height / mpl.ratio);\n",
       "\n",
       "    fig.rubberband_context.strokeRect(min_x, min_y, width, height);\n",
       "}\n",
       "\n",
       "mpl.figure.prototype.handle_figure_label = function(fig, msg) {\n",
       "    // Updates the figure title.\n",
       "    fig.header.textContent = msg['label'];\n",
       "}\n",
       "\n",
       "mpl.figure.prototype.handle_cursor = function(fig, msg) {\n",
       "    var cursor = msg['cursor'];\n",
       "    switch(cursor)\n",
       "    {\n",
       "    case 0:\n",
       "        cursor = 'pointer';\n",
       "        break;\n",
       "    case 1:\n",
       "        cursor = 'default';\n",
       "        break;\n",
       "    case 2:\n",
       "        cursor = 'crosshair';\n",
       "        break;\n",
       "    case 3:\n",
       "        cursor = 'move';\n",
       "        break;\n",
       "    }\n",
       "    fig.rubberband_canvas.style.cursor = cursor;\n",
       "}\n",
       "\n",
       "mpl.figure.prototype.handle_message = function(fig, msg) {\n",
       "    fig.message.textContent = msg['message'];\n",
       "}\n",
       "\n",
       "mpl.figure.prototype.handle_draw = function(fig, msg) {\n",
       "    // Request the server to send over a new figure.\n",
       "    fig.send_draw_message();\n",
       "}\n",
       "\n",
       "mpl.figure.prototype.handle_image_mode = function(fig, msg) {\n",
       "    fig.image_mode = msg['mode'];\n",
       "}\n",
       "\n",
       "mpl.figure.prototype.updated_canvas_event = function() {\n",
       "    // Called whenever the canvas gets updated.\n",
       "    this.send_message(\"ack\", {});\n",
       "}\n",
       "\n",
       "// A function to construct a web socket function for onmessage handling.\n",
       "// Called in the figure constructor.\n",
       "mpl.figure.prototype._make_on_message_function = function(fig) {\n",
       "    return function socket_on_message(evt) {\n",
       "        if (evt.data instanceof Blob) {\n",
       "            /* FIXME: We get \"Resource interpreted as Image but\n",
       "             * transferred with MIME type text/plain:\" errors on\n",
       "             * Chrome.  But how to set the MIME type?  It doesn't seem\n",
       "             * to be part of the websocket stream */\n",
       "            evt.data.type = \"image/png\";\n",
       "\n",
       "            /* Free the memory for the previous frames */\n",
       "            if (fig.imageObj.src) {\n",
       "                (window.URL || window.webkitURL).revokeObjectURL(\n",
       "                    fig.imageObj.src);\n",
       "            }\n",
       "\n",
       "            fig.imageObj.src = (window.URL || window.webkitURL).createObjectURL(\n",
       "                evt.data);\n",
       "            fig.updated_canvas_event();\n",
       "            fig.waiting = false;\n",
       "            return;\n",
       "        }\n",
       "        else if (typeof evt.data === 'string' && evt.data.slice(0, 21) == \"data:image/png;base64\") {\n",
       "            fig.imageObj.src = evt.data;\n",
       "            fig.updated_canvas_event();\n",
       "            fig.waiting = false;\n",
       "            return;\n",
       "        }\n",
       "\n",
       "        var msg = JSON.parse(evt.data);\n",
       "        var msg_type = msg['type'];\n",
       "\n",
       "        // Call the  \"handle_{type}\" callback, which takes\n",
       "        // the figure and JSON message as its only arguments.\n",
       "        try {\n",
       "            var callback = fig[\"handle_\" + msg_type];\n",
       "        } catch (e) {\n",
       "            console.log(\"No handler for the '\" + msg_type + \"' message type: \", msg);\n",
       "            return;\n",
       "        }\n",
       "\n",
       "        if (callback) {\n",
       "            try {\n",
       "                // console.log(\"Handling '\" + msg_type + \"' message: \", msg);\n",
       "                callback(fig, msg);\n",
       "            } catch (e) {\n",
       "                console.log(\"Exception inside the 'handler_\" + msg_type + \"' callback:\", e, e.stack, msg);\n",
       "            }\n",
       "        }\n",
       "    };\n",
       "}\n",
       "\n",
       "// from http://stackoverflow.com/questions/1114465/getting-mouse-location-in-canvas\n",
       "mpl.findpos = function(e) {\n",
       "    //this section is from http://www.quirksmode.org/js/events_properties.html\n",
       "    var targ;\n",
       "    if (!e)\n",
       "        e = window.event;\n",
       "    if (e.target)\n",
       "        targ = e.target;\n",
       "    else if (e.srcElement)\n",
       "        targ = e.srcElement;\n",
       "    if (targ.nodeType == 3) // defeat Safari bug\n",
       "        targ = targ.parentNode;\n",
       "\n",
       "    // jQuery normalizes the pageX and pageY\n",
       "    // pageX,Y are the mouse positions relative to the document\n",
       "    // offset() returns the position of the element relative to the document\n",
       "    var x = e.pageX - $(targ).offset().left;\n",
       "    var y = e.pageY - $(targ).offset().top;\n",
       "\n",
       "    return {\"x\": x, \"y\": y};\n",
       "};\n",
       "\n",
       "/*\n",
       " * return a copy of an object with only non-object keys\n",
       " * we need this to avoid circular references\n",
       " * http://stackoverflow.com/a/24161582/3208463\n",
       " */\n",
       "function simpleKeys (original) {\n",
       "  return Object.keys(original).reduce(function (obj, key) {\n",
       "    if (typeof original[key] !== 'object')\n",
       "        obj[key] = original[key]\n",
       "    return obj;\n",
       "  }, {});\n",
       "}\n",
       "\n",
       "mpl.figure.prototype.mouse_event = function(event, name) {\n",
       "    var canvas_pos = mpl.findpos(event)\n",
       "\n",
       "    if (name === 'button_press')\n",
       "    {\n",
       "        this.canvas.focus();\n",
       "        this.canvas_div.focus();\n",
       "    }\n",
       "\n",
       "    var x = canvas_pos.x * mpl.ratio;\n",
       "    var y = canvas_pos.y * mpl.ratio;\n",
       "\n",
       "    this.send_message(name, {x: x, y: y, button: event.button,\n",
       "                             step: event.step,\n",
       "                             guiEvent: simpleKeys(event)});\n",
       "\n",
       "    /* This prevents the web browser from automatically changing to\n",
       "     * the text insertion cursor when the button is pressed.  We want\n",
       "     * to control all of the cursor setting manually through the\n",
       "     * 'cursor' event from matplotlib */\n",
       "    event.preventDefault();\n",
       "    return false;\n",
       "}\n",
       "\n",
       "mpl.figure.prototype._key_event_extra = function(event, name) {\n",
       "    // Handle any extra behaviour associated with a key event\n",
       "}\n",
       "\n",
       "mpl.figure.prototype.key_event = function(event, name) {\n",
       "\n",
       "    // Prevent repeat events\n",
       "    if (name == 'key_press')\n",
       "    {\n",
       "        if (event.which === this._key)\n",
       "            return;\n",
       "        else\n",
       "            this._key = event.which;\n",
       "    }\n",
       "    if (name == 'key_release')\n",
       "        this._key = null;\n",
       "\n",
       "    var value = '';\n",
       "    if (event.ctrlKey && event.which != 17)\n",
       "        value += \"ctrl+\";\n",
       "    if (event.altKey && event.which != 18)\n",
       "        value += \"alt+\";\n",
       "    if (event.shiftKey && event.which != 16)\n",
       "        value += \"shift+\";\n",
       "\n",
       "    value += 'k';\n",
       "    value += event.which.toString();\n",
       "\n",
       "    this._key_event_extra(event, name);\n",
       "\n",
       "    this.send_message(name, {key: value,\n",
       "                             guiEvent: simpleKeys(event)});\n",
       "    return false;\n",
       "}\n",
       "\n",
       "mpl.figure.prototype.toolbar_button_onclick = function(name) {\n",
       "    if (name == 'download') {\n",
       "        this.handle_save(this, null);\n",
       "    } else {\n",
       "        this.send_message(\"toolbar_button\", {name: name});\n",
       "    }\n",
       "};\n",
       "\n",
       "mpl.figure.prototype.toolbar_button_onmouseover = function(tooltip) {\n",
       "    this.message.textContent = tooltip;\n",
       "};\n",
       "mpl.toolbar_items = [[\"Home\", \"Reset original view\", \"fa fa-home icon-home\", \"home\"], [\"Back\", \"Back to previous view\", \"fa fa-arrow-left icon-arrow-left\", \"back\"], [\"Forward\", \"Forward to next view\", \"fa fa-arrow-right icon-arrow-right\", \"forward\"], [\"\", \"\", \"\", \"\"], [\"Pan\", \"Pan axes with left mouse, zoom with right\", \"fa fa-arrows icon-move\", \"pan\"], [\"Zoom\", \"Zoom to rectangle\", \"fa fa-square-o icon-check-empty\", \"zoom\"], [\"\", \"\", \"\", \"\"], [\"Download\", \"Download plot\", \"fa fa-floppy-o icon-save\", \"download\"]];\n",
       "\n",
       "mpl.extensions = [\"eps\", \"jpeg\", \"pdf\", \"png\", \"ps\", \"raw\", \"svg\", \"tif\"];\n",
       "\n",
       "mpl.default_extension = \"png\";var comm_websocket_adapter = function(comm) {\n",
       "    // Create a \"websocket\"-like object which calls the given IPython comm\n",
       "    // object with the appropriate methods. Currently this is a non binary\n",
       "    // socket, so there is still some room for performance tuning.\n",
       "    var ws = {};\n",
       "\n",
       "    ws.close = function() {\n",
       "        comm.close()\n",
       "    };\n",
       "    ws.send = function(m) {\n",
       "        //console.log('sending', m);\n",
       "        comm.send(m);\n",
       "    };\n",
       "    // Register the callback with on_msg.\n",
       "    comm.on_msg(function(msg) {\n",
       "        //console.log('receiving', msg['content']['data'], msg);\n",
       "        // Pass the mpl event to the overridden (by mpl) onmessage function.\n",
       "        ws.onmessage(msg['content']['data'])\n",
       "    });\n",
       "    return ws;\n",
       "}\n",
       "\n",
       "mpl.mpl_figure_comm = function(comm, msg) {\n",
       "    // This is the function which gets called when the mpl process\n",
       "    // starts-up an IPython Comm through the \"matplotlib\" channel.\n",
       "\n",
       "    var id = msg.content.data.id;\n",
       "    // Get hold of the div created by the display call when the Comm\n",
       "    // socket was opened in Python.\n",
       "    var element = $(\"#\" + id);\n",
       "    var ws_proxy = comm_websocket_adapter(comm)\n",
       "\n",
       "    function ondownload(figure, format) {\n",
       "        window.open(figure.imageObj.src);\n",
       "    }\n",
       "\n",
       "    var fig = new mpl.figure(id, ws_proxy,\n",
       "                           ondownload,\n",
       "                           element.get(0));\n",
       "\n",
       "    // Call onopen now - mpl needs it, as it is assuming we've passed it a real\n",
       "    // web socket which is closed, not our websocket->open comm proxy.\n",
       "    ws_proxy.onopen();\n",
       "\n",
       "    fig.parent_element = element.get(0);\n",
       "    fig.cell_info = mpl.find_output_cell(\"<div id='\" + id + \"'></div>\");\n",
       "    if (!fig.cell_info) {\n",
       "        console.error(\"Failed to find cell for figure\", id, fig);\n",
       "        return;\n",
       "    }\n",
       "\n",
       "    var output_index = fig.cell_info[2]\n",
       "    var cell = fig.cell_info[0];\n",
       "\n",
       "};\n",
       "\n",
       "mpl.figure.prototype.handle_close = function(fig, msg) {\n",
       "    var width = fig.canvas.width/mpl.ratio\n",
       "    fig.root.unbind('remove')\n",
       "\n",
       "    // Update the output cell to use the data from the current canvas.\n",
       "    fig.push_to_output();\n",
       "    var dataURL = fig.canvas.toDataURL();\n",
       "    // Re-enable the keyboard manager in IPython - without this line, in FF,\n",
       "    // the notebook keyboard shortcuts fail.\n",
       "    IPython.keyboard_manager.enable()\n",
       "    $(fig.parent_element).html('<img src=\"' + dataURL + '\" width=\"' + width + '\">');\n",
       "    fig.close_ws(fig, msg);\n",
       "}\n",
       "\n",
       "mpl.figure.prototype.close_ws = function(fig, msg){\n",
       "    fig.send_message('closing', msg);\n",
       "    // fig.ws.close()\n",
       "}\n",
       "\n",
       "mpl.figure.prototype.push_to_output = function(remove_interactive) {\n",
       "    // Turn the data on the canvas into data in the output cell.\n",
       "    var width = this.canvas.width/mpl.ratio\n",
       "    var dataURL = this.canvas.toDataURL();\n",
       "    this.cell_info[1]['text/html'] = '<img src=\"' + dataURL + '\" width=\"' + width + '\">';\n",
       "}\n",
       "\n",
       "mpl.figure.prototype.updated_canvas_event = function() {\n",
       "    // Tell IPython that the notebook contents must change.\n",
       "    IPython.notebook.set_dirty(true);\n",
       "    this.send_message(\"ack\", {});\n",
       "    var fig = this;\n",
       "    // Wait a second, then push the new image to the DOM so\n",
       "    // that it is saved nicely (might be nice to debounce this).\n",
       "    setTimeout(function () { fig.push_to_output() }, 1000);\n",
       "}\n",
       "\n",
       "mpl.figure.prototype._init_toolbar = function() {\n",
       "    var fig = this;\n",
       "\n",
       "    var nav_element = $('<div/>');\n",
       "    nav_element.attr('style', 'width: 100%');\n",
       "    this.root.append(nav_element);\n",
       "\n",
       "    // Define a callback function for later on.\n",
       "    function toolbar_event(event) {\n",
       "        return fig.toolbar_button_onclick(event['data']);\n",
       "    }\n",
       "    function toolbar_mouse_event(event) {\n",
       "        return fig.toolbar_button_onmouseover(event['data']);\n",
       "    }\n",
       "\n",
       "    for(var toolbar_ind in mpl.toolbar_items){\n",
       "        var name = mpl.toolbar_items[toolbar_ind][0];\n",
       "        var tooltip = mpl.toolbar_items[toolbar_ind][1];\n",
       "        var image = mpl.toolbar_items[toolbar_ind][2];\n",
       "        var method_name = mpl.toolbar_items[toolbar_ind][3];\n",
       "\n",
       "        if (!name) { continue; };\n",
       "\n",
       "        var button = $('<button class=\"btn btn-default\" href=\"#\" title=\"' + name + '\"><i class=\"fa ' + image + ' fa-lg\"></i></button>');\n",
       "        button.click(method_name, toolbar_event);\n",
       "        button.mouseover(tooltip, toolbar_mouse_event);\n",
       "        nav_element.append(button);\n",
       "    }\n",
       "\n",
       "    // Add the status bar.\n",
       "    var status_bar = $('<span class=\"mpl-message\" style=\"text-align:right; float: right;\"/>');\n",
       "    nav_element.append(status_bar);\n",
       "    this.message = status_bar[0];\n",
       "\n",
       "    // Add the close button to the window.\n",
       "    var buttongrp = $('<div class=\"btn-group inline pull-right\"></div>');\n",
       "    var button = $('<button class=\"btn btn-mini btn-primary\" href=\"#\" title=\"Stop Interaction\"><i class=\"fa fa-power-off icon-remove icon-large\"></i></button>');\n",
       "    button.click(function (evt) { fig.handle_close(fig, {}); } );\n",
       "    button.mouseover('Stop Interaction', toolbar_mouse_event);\n",
       "    buttongrp.append(button);\n",
       "    var titlebar = this.root.find($('.ui-dialog-titlebar'));\n",
       "    titlebar.prepend(buttongrp);\n",
       "}\n",
       "\n",
       "mpl.figure.prototype._root_extra_style = function(el){\n",
       "    var fig = this\n",
       "    el.on(\"remove\", function(){\n",
       "\tfig.close_ws(fig, {});\n",
       "    });\n",
       "}\n",
       "\n",
       "mpl.figure.prototype._canvas_extra_style = function(el){\n",
       "    // this is important to make the div 'focusable\n",
       "    el.attr('tabindex', 0)\n",
       "    // reach out to IPython and tell the keyboard manager to turn it's self\n",
       "    // off when our div gets focus\n",
       "\n",
       "    // location in version 3\n",
       "    if (IPython.notebook.keyboard_manager) {\n",
       "        IPython.notebook.keyboard_manager.register_events(el);\n",
       "    }\n",
       "    else {\n",
       "        // location in version 2\n",
       "        IPython.keyboard_manager.register_events(el);\n",
       "    }\n",
       "\n",
       "}\n",
       "\n",
       "mpl.figure.prototype._key_event_extra = function(event, name) {\n",
       "    var manager = IPython.notebook.keyboard_manager;\n",
       "    if (!manager)\n",
       "        manager = IPython.keyboard_manager;\n",
       "\n",
       "    // Check for shift+enter\n",
       "    if (event.shiftKey && event.which == 13) {\n",
       "        this.canvas_div.blur();\n",
       "        // select the cell after this one\n",
       "        var index = IPython.notebook.find_cell_index(this.cell_info[0]);\n",
       "        IPython.notebook.select(index + 1);\n",
       "    }\n",
       "}\n",
       "\n",
       "mpl.figure.prototype.handle_save = function(fig, msg) {\n",
       "    fig.ondownload(fig, null);\n",
       "}\n",
       "\n",
       "\n",
       "mpl.find_output_cell = function(html_output) {\n",
       "    // Return the cell and output element which can be found *uniquely* in the notebook.\n",
       "    // Note - this is a bit hacky, but it is done because the \"notebook_saving.Notebook\"\n",
       "    // IPython event is triggered only after the cells have been serialised, which for\n",
       "    // our purposes (turning an active figure into a static one), is too late.\n",
       "    var cells = IPython.notebook.get_cells();\n",
       "    var ncells = cells.length;\n",
       "    for (var i=0; i<ncells; i++) {\n",
       "        var cell = cells[i];\n",
       "        if (cell.cell_type === 'code'){\n",
       "            for (var j=0; j<cell.output_area.outputs.length; j++) {\n",
       "                var data = cell.output_area.outputs[j];\n",
       "                if (data.data) {\n",
       "                    // IPython >= 3 moved mimebundle to data attribute of output\n",
       "                    data = data.data;\n",
       "                }\n",
       "                if (data['text/html'] == html_output) {\n",
       "                    return [cell, data, j];\n",
       "                }\n",
       "            }\n",
       "        }\n",
       "    }\n",
       "}\n",
       "\n",
       "// Register the function which deals with the matplotlib target/channel.\n",
       "// The kernel may be null if the page has been refreshed.\n",
       "if (IPython.notebook.kernel != null) {\n",
       "    IPython.notebook.kernel.comm_manager.register_target('matplotlib', mpl.mpl_figure_comm);\n",
       "}\n"
      ],
      "text/plain": [
       "<IPython.core.display.Javascript object>"
      ]
     },
     "metadata": {},
     "output_type": "display_data"
    },
    {
     "data": {
      "text/html": [
       "<img src=\"data:image/png;base64,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\" width=\"640\">"
      ],
      "text/plain": [
       "<IPython.core.display.HTML object>"
      ]
     },
     "metadata": {},
     "output_type": "display_data"
    },
    {
     "data": {
      "text/plain": [
       "<matplotlib.axes._subplots.AxesSubplot at 0x7fcb779a7bd0>"
      ]
     },
     "execution_count": 15,
     "metadata": {},
     "output_type": "execute_result"
    }
   ],
   "source": [
    "#%matplotlib notebook\n",
    "from lcapy import R, C, L, s, j, Hs\n",
    "\n",
    "((R(1) + L(2)) | C(3)).draw()\n",
    "\n",
    "H = Hs((s - 2) * (s + 3) / (s * (s - 2 * j) * (s + 2 * j)))\n",
    "H.plot()"
   ]
  },
  {
   "cell_type": "code",
   "execution_count": 12,
   "metadata": {},
   "outputs": [
    {
     "data": {
      "image/png": "[encoded data removed]"
     },
     "metadata": {
      "image/png": {
       "height": 155,
       "width": 244
      }
     },
     "output_type": "display_data"
    },
    {
     "data": {
      "text/latex": [
       "$\\mathrm{R}(\\frac{10}{3})$"
      ],
      "text/plain": [
       "R(10/3)"
      ]
     },
     "execution_count": 12,
     "metadata": {},
     "output_type": "execute_result"
    }
   ],
   "source": [
    "#%%\n",
    "from lcapy import R\n",
    "Rtot = R(10) | R(5)\n",
    "Rtot.draw()\n",
    "Rtot\n",
    "Rtot = Rtot.simplify()\n",
    "Rtot"
   ]
  },
  {
   "cell_type": "code",
   "execution_count": 6,
   "metadata": {},
   "outputs": [
    {
     "data": {
      "image/png": "[encoded data removed]"
     },
     "metadata": {
      "image/png": {
       "height": 264,
       "width": 362
      }
     },
     "output_type": "display_data"
    },
    {
     "data": {
      "text/latex": [
       "$$\\frac{1}{10 s + \\frac{1}{5} + \\frac{1}{20 s}}$$"
      ],
      "text/plain": [
       "       1       \n",
       "───────────────\n",
       "       1    1  \n",
       "10⋅s + ─ + ────\n",
       "       5   20⋅s"
      ]
     },
     "execution_count": 6,
     "metadata": {},
     "output_type": "execute_result"
    }
   ],
   "source": [
    "#%%\n",
    "n = R(5) | L(20) | C(10)\n",
    "n.draw()\n",
    "n.Zs"
   ]
  },
  {
   "cell_type": "code",
   "execution_count": 28,
   "metadata": {},
   "outputs": [
    {
     "data": {
      "image/png": "[encoded data removed]"
     },
     "metadata": {
      "image/png": {
       "height": 209,
       "width": 492
      }
     },
     "output_type": "display_data"
    },
    {
     "data": {
      "text/latex": [
       "$\\displaystyle \\left[\\begin{matrix}\\frac{s + \\frac{1}{C R_{2}}}{s^{2} + \\frac{s \\left(C R_{1} R_{2} + L\\right)}{C L R_{2}} + \\frac{R_{1} + R_{2}}{C L R_{2}}} & - \\frac{1}{L \\left(s^{2} + \\frac{s \\left(C R_{1} R_{2} + L\\right)}{C L R_{2}} + \\frac{R_{1} + R_{2}}{C L R_{2}}\\right)}\\\\\\frac{1}{C \\left(s^{2} + \\frac{s \\left(C R_{1} R_{2} + L\\right)}{C L R_{2}} + \\frac{R_{1} + R_{2}}{C L R_{2}}\\right)} & \\frac{s + \\frac{R_{1}}{L}}{s^{2} + \\frac{s \\left(C R_{1} R_{2} + L\\right)}{C L R_{2}} + \\frac{R_{1} + R_{2}}{C L R_{2}}}\\end{matrix}\\right]$"
      ],
      "text/plain": [
       "⎡                  1                                                   ⎤\n",
       "⎢             s + ────                                                 ⎥\n",
       "⎢                 C⋅R₂                              -1                 ⎥\n",
       "⎢  ──────────────────────────────    ──────────────────────────────────⎥\n",
       "⎢   2   s⋅(C⋅R₁⋅R₂ + L)   R₁ + R₂      ⎛ 2   s⋅(C⋅R₁⋅R₂ + L)   R₁ + R₂⎞⎥\n",
       "⎢  s  + ─────────────── + ───────    L⋅⎜s  + ─────────────── + ───────⎟⎥\n",
       "⎢            C⋅L⋅R₂        C⋅L⋅R₂      ⎝          C⋅L⋅R₂        C⋅L⋅R₂⎠⎥\n",
       "⎢                                                                      ⎥\n",
       "⎢                                                      R₁              ⎥\n",
       "⎢                                                  s + ──              ⎥\n",
       "⎢                1                                     L               ⎥\n",
       "⎢──────────────────────────────────    ──────────────────────────────  ⎥\n",
       "⎢  ⎛ 2   s⋅(C⋅R₁⋅R₂ + L)   R₁ + R₂⎞     2   s⋅(C⋅R₁⋅R₂ + L)   R₁ + R₂  ⎥\n",
       "⎢C⋅⎜s  + ─────────────── + ───────⎟    s  + ─────────────── + ───────  ⎥\n",
       "⎣  ⎝          C⋅L⋅R₂        C⋅L⋅R₂⎠              C⋅L⋅R₂        C⋅L⋅R₂  ⎦"
      ]
     },
     "execution_count": 28,
     "metadata": {},
     "output_type": "execute_result"
    }
   ],
   "source": [
    "from lcapy import Circuit\n",
    "a = Circuit(\"\"\"\n",
    "... V 1 0 {v(t)}; down\n",
    "... R1 1 2; right\n",
    "... L 2 3; right=1.5, i={i_L}\n",
    "... R2 3 0_3; down=1.5, i={i_{R2}}, v={v_{R2}}\n",
    "... W 0 0_3; right\n",
    "... W 3 3_a; right\n",
    "... C 3_a 0_4; down, i={i_C}, v={v_C}\n",
    "... W 0_3 0_4; right\"\"\")\n",
    "ss = a.ss\n",
    "a.draw()\n",
    "#ss.x      # The state variable vector is shown using the x attribute:\n",
    "#ss.x0     # The initial values of the state variable vector are shown using the x0 attribute:\n",
    "#ss.u      # The independent source vector is shown using the u attribute. In this example, there is a single independent source:\n",
    "#ss.y      # The output vector can either be the nodal voltages, the branch currents, or both. By default the nodal voltages are chosen. This vector is shown using the y attribute:\n",
    "#ss.state_equations()      # The state equations are shown using the state_equations method:\n",
    "#ss.output_equations()     # The output equations are shown using the output_equations method:\n",
    "#ss.A      # The A matrices are obtained using the attributes of the same name. For example,\n",
    "#ss.B      # The B matrices are obtained using the attributes of the same name. For example,\n",
    "#ss.C      # The C matrices are obtained using the attributes of the same name. For example,\n",
    "#ss.D      # The D matrices are obtained using the attributes of the same name. For example,\n",
    "#ss.X      # The Laplace transforms of the state variable vector, the independent source vector, and the output vector are accessed using the X, U, and Y attributes: For example,\n",
    "#ss.Phi    # The s-domain state-transition matrix is given by the Phi attribute and the time-domain state-transition matrix is given by the phi attribute. For example,\n",
    "#ss.G      # The system transfer functions are given by the G attribute and the impulse responses are given by the g attributes, for example:\n",
    "#ss.P      # The characteristic polynomial (system polynomial) is given by the P attribute, for example,\n",
    "\n",
    "#The roots of this polynomial are the eigenvalues of the system. These are given by the eigenvalues attribute. The corresponding eigenvectors are the columns of the modal matrix given by the M attribute. A diagonal matrix of the eigenvalues is returned by the Lambda attribute.\n",
    "#ss.eigenvalues"
   ]
  },
  {
   "cell_type": "code",
   "execution_count": 75,
   "metadata": {},
   "outputs": [
    {
     "data": {
      "text/latex": [
       "$$\\frac{\\mathrm{j} \\omega + 3}{\\mathrm{j} \\omega - 4}$$"
      ],
      "text/plain": [
       "ⅉ⋅ω + 3\n",
       "───────\n",
       "ⅉ⋅ω - 4"
      ]
     },
     "execution_count": 75,
     "metadata": {},
     "output_type": "execute_result"
    }
   ],
   "source": [
    "from lcapy import s, j, omega, \n",
    "A= (j * omega + 3) / (j * omega - 4)\n",
    "A"
   ]
  },
  {
   "cell_type": "code",
   "execution_count": 71,
   "metadata": {},
   "outputs": [
    {
     "data": {
      "text/latex": [
       "$$\\frac{\\omega^{2} - 7 \\mathrm{j} \\omega - 12}{\\omega^{2} + 16}$$"
      ],
      "text/plain": [
       " 2             \n",
       "ω  - 7⋅ⅉ⋅ω - 12\n",
       "───────────────\n",
       "     2         \n",
       "    ω  + 16    "
      ]
     },
     "execution_count": 71,
     "metadata": {},
     "output_type": "execute_result"
    }
   ],
   "source": [
    "A.rationalize_denominator()"
   ]
  },
  {
   "cell_type": "code",
   "execution_count": 84,
   "metadata": {},
   "outputs": [
    {
     "data": {
      "text/latex": [
       "$$\\begin{cases} \\frac{2 \\sqrt{3} e^{- \\frac{t}{2}} \\sin{\\left(\\frac{\\sqrt{3} t}{2} \\right)}}{3} & \\text{for}\\: t \\geq 0 \\end{cases}$$"
      ],
      "text/plain": [
       "⎧      -t                      \n",
       "⎪      ───                     \n",
       "⎪       2     ⎛√3⋅t⎞           \n",
       "⎨2⋅√3⋅ℯ   ⋅sin⎜────⎟           \n",
       "⎪             ⎝ 2  ⎠           \n",
       "⎪───────────────────  for t ≥ 0\n",
       "⎩         3                    "
      ]
     },
     "execution_count": 84,
     "metadata": {},
     "output_type": "execute_result"
    }
   ],
   "source": [
    "from lcapy import t,f\n",
    "V = 1 / (s**2 +  s + 1)\n",
    "V(t)"
   ]
  },
  {
   "cell_type": "code",
   "execution_count": 87,
   "metadata": {},
   "outputs": [
    {
     "data": {
      "text/latex": [
       "$$10 \\mathrm{j} \\omega + 4 - \\frac{\\mathrm{j}}{20 \\omega}$$"
      ],
      "text/plain": [
       "              ⅉ  \n",
       "10⋅ⅉ⋅ω + 4 - ────\n",
       "             20⋅ω"
      ]
     },
     "execution_count": 87,
     "metadata": {},
     "output_type": "execute_result"
    }
   ],
   "source": [
    "n = R(4) + L(10) + C(20)\n",
    "n\n",
    "n.Z(omega)"
   ]
  },
  {
   "cell_type": "code",
   "execution_count": 86,
   "metadata": {},
   "outputs": [
    {
     "data": {
      "text/latex": [
       "$$10 s + 4 + \\frac{1}{20 s}$$"
      ],
      "text/plain": [
       "            1  \n",
       "10⋅s + 4 + ────\n",
       "           20⋅s"
      ]
     },
     "execution_count": 86,
     "metadata": {},
     "output_type": "execute_result"
    }
   ],
   "source": [
    "n.Z(s)"
   ]
  },
  {
   "cell_type": "code",
   "execution_count": 88,
   "metadata": {
    "scrolled": true
   },
   "outputs": [
    {
     "data": {
      "text/latex": [
       "$$\\frac{10 \\left(s - \\frac{\\sqrt{14}}{20} + \\frac{1}{5}\\right) \\left(s + \\frac{\\sqrt{14}}{20} + \\frac{1}{5}\\right)}{s}$$"
      ],
      "text/plain": [
       "   ⎛    √14   1⎞ ⎛    √14   1⎞\n",
       "10⋅⎜s - ─── + ─⎟⋅⎜s + ─── + ─⎟\n",
       "   ⎝     20   5⎠ ⎝     20   5⎠\n",
       "──────────────────────────────\n",
       "              s               "
      ]
     },
     "execution_count": 88,
     "metadata": {},
     "output_type": "execute_result"
    }
   ],
   "source": [
    " n.Z(s).ZPK()"
   ]
  },
  {
   "cell_type": "code",
   "execution_count": 125,
   "metadata": {},
   "outputs": [
    {
     "data": {
      "image/png": "[encoded data removed]"
     },
     "metadata": {
      "image/png": {
       "height": 88,
       "width": 303
      }
     },
     "output_type": "display_data"
    },
    {
     "data": {
      "image/png": "[encoded data removed]"
     },
     "metadata": {
      "image/png": {
       "height": 169,
       "width": 244
      }
     },
     "output_type": "display_data"
    },
    {
     "data": {
      "text/latex": [
       "$\\mathrm{G}(\\frac{1}{5}) | \\mathrm{I}(2)$"
      ],
      "text/plain": [
       "G(1/5) | I(2)"
      ]
     },
     "execution_count": 125,
     "metadata": {},
     "output_type": "execute_result"
    }
   ],
   "source": [
    "T = Vdc(10) + R(5)\n",
    "T.draw()\n",
    "n = T.norton()\n",
    "n.draw()\n",
    "n"
   ]
  },
  {
   "cell_type": "code",
   "execution_count": 126,
   "metadata": {},
   "outputs": [
    {
     "data": {
      "image/png": "[encoded data removed]"
     },
     "metadata": {
      "image/png": {
       "height": 168,
       "width": 244
      }
     },
     "output_type": "display_data"
    },
    {
     "data": {
      "image/png": "[encoded data removed]"
     },
     "metadata": {
      "image/png": {
       "height": 88,
       "width": 303
      }
     },
     "output_type": "display_data"
    },
    {
     "data": {
      "text/latex": [
       "$\\mathrm{R}(5) + \\mathrm{V}(50)$"
      ],
      "text/plain": [
       "R(5) + V(50)"
      ]
     },
     "execution_count": 126,
     "metadata": {},
     "output_type": "execute_result"
    }
   ],
   "source": [
    "n = Idc(10) | R(5)\n",
    "n.draw()\n",
    "T = n.thevenin()\n",
    "T.draw()\n",
    "T"
   ]
  },
  {
   "cell_type": "code",
   "execution_count": 131,
   "metadata": {},
   "outputs": [
    {
     "data": {
      "text/latex": [
       "$$\\frac{3 s + 20}{s^{3}}$$"
      ],
      "text/plain": [
       "3⋅s + 20\n",
       "────────\n",
       "    3   \n",
       "   s    "
      ]
     },
     "execution_count": 131,
     "metadata": {},
     "output_type": "execute_result"
    }
   ],
   "source": [
    "v = 10 * t ** 2 + 3 * t\n",
    "v\n",
    "V=v.laplace()\n",
    "V"
   ]
  }
 ],
 "metadata": {
  "kernelspec": {
   "display_name": "Python 3",
   "language": "python",
   "name": "python3"
  },
  "language_info": {
   "codemirror_mode": {
    "name": "ipython",
    "version": 3
   },
   "file_extension": ".py",
   "mimetype": "text/x-python",
   "name": "python",
   "nbconvert_exporter": "python",
   "pygments_lexer": "ipython3",
   "version": "3.7.6"
  }
 },
 "nbformat": 4,
 "nbformat_minor": 2
}
