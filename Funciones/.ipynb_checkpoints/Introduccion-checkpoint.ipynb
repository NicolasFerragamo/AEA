{
 "cells": [
  {
   "cell_type": "code",
   "execution_count": 1,
   "metadata": {},
   "outputs": [],
   "source": [
    "# nbi:hide_in\n",
    "from __future__ import print_function\n",
    "from ipywidgets import interact, interactive, fixed, interact_manual\n",
    "import ipywidgets as widgets\n",
    "import nbinteract as nbi\n",
    "from IPython.display import display\n",
    "import matplotlib.pyplot as plt\n",
    "import numpy as np\n",
    "from matplotlib.pyplot import figure, savefig\n",
    "from pandas import DataFrame\n",
    "from IPython.display import HTML\n",
    "import sys \n",
    "sys.path.append('/home/nico/.local/lib/python3.8/site-packages')\n",
    "from lcapy import Circuit"
   ]
  },
  {
   "cell_type": "markdown",
   "metadata": {},
   "source": [
    "# <span style=\"color:blue\">  Funciones </span>\n",
    "\n",
    "## <span style=\"color:blue\">  Introducción </span>\n",
    "\n",
    "Uno de los temas centrales de la materia son las señales, a la que le dedicaremos un capitulo entero en este apunte. Las señales están en todas partes y es una forma de interactuar con el mundo, desde señales sonoras, como por ejemplo una alarma, señales lumínicas, como la luz de un semáforo, pero también otros tipos de señales no visibles, como las señales infrarrojas de un control remoto. \n",
    "\n",
    "Nos concentraremos en definiciones y usos en el próximo capítulo, pero una de nuestras necesidades es poder describirlas matemáticamente y para ello vamos a usar <span style=\"color:red\"> **Funciones** </span>. \n",
    "\n",
    "Si bien es un concepto que ven en matemática, no siempre lo llegan a ver al momento en que lo necesitamos. Por tal motivo este apunte pretende presentar los conceptos mas relevantes para poder abordar el tema de <span style=\"color:red\"> **Señales** </span>. De ninguna manera pretende ser un apunte completo ni demasiado formal,ni mucho menos un remplazo simplemente pretende presentar el concepto. Mas adelante lo estudiaran de forma profunda en matemática.\n"
   ]
  }
 ],
 "metadata": {
  "kernelspec": {
   "display_name": "Python 3",
   "language": "python",
   "name": "python3"
  },
  "language_info": {
   "codemirror_mode": {
    "name": "ipython",
    "version": 3
   },
   "file_extension": ".py",
   "mimetype": "text/x-python",
   "name": "python",
   "nbconvert_exporter": "python",
   "pygments_lexer": "ipython3",
   "version": "3.7.6"
  }
 },
 "nbformat": 4,
 "nbformat_minor": 4
}
