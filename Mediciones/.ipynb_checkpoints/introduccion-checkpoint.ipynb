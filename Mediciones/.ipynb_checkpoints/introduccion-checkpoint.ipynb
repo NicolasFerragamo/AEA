{
 "cells": [
  {
   "cell_type": "code",
   "execution_count": 3,
   "metadata": {
    "slideshow": {
     "slide_type": "-"
    }
   },
   "outputs": [],
   "source": [
    "# nbi:hide_in\n",
    "from __future__ import print_function\n",
    "from ipywidgets import interact, interactive, fixed, interact_manual\n",
    "import ipywidgets as widgets\n",
    "import nbinteract as nbi\n",
    "from IPython.display import display\n",
    "import matplotlib.pyplot as plt\n",
    "import numpy as np\n"
   ]
  },
  {
   "cell_type": "markdown",
   "metadata": {},
   "source": [
    "# <span style=\"color:blue\">  Mediciones y Errores <span>\n",
    "\n",
    "## <span style=\"color:blue\">Introducción <span>\n",
    "    \n",
    "Uno de los primeros conceptos desarrollados por el hombre fue el de número, ya que tenía la necesidad de poder expresar numéricamente todo lo que se encontraba a su alrededor. El ser humano necesitaba comparar objetos como animales y alimentos o eventos como estaciones del año y temperaturaEntonces, que le permitieran desarrollar la agricultura. \n",
    "    \n",
    "Mas tarde usó la medición como un forma de entender el mundo que nos rodea y expandir las fronteras del conocimiento, cosa que seguimos haciendo hasta el día de hoy. \n",
    "    \n",
    "Gracias a la medición, el hombre pudo construir refugios, navegar por lugares desconocidos lejos de las costas, construir los grandes monumentos que hasta el día de hoy se mantienen en pie como las pirámides y el Coliseo Romano. Ya en nuestra era nos permitió viajar al espació y a otro planetas, nos ayuda a entender el mundo en el que estamos, y hasta entender cosas que no vemos pero si podemos medir como las partículas subatómicas.\n",
    "    \n",
    "La medición es una herramienta fundamental para nuestra vida diaria y profecional, por tal motivo es necesario entender los fundamentos de la misma.  \n",
    "    \n",
    "    \n",
    "## <span style=\"color:blue\">¿Qué es medir?<span>\n",
    "    \n",
    "En nuestra vida cotidiana estamos acostumbrados a medir todo el tiempo, aunque nunca nos tomamos el tiempo de reflexionar que es lo que estamos haciendo. Medimos nuestra altura, cuanto tardamos en ir al colegio, cuanto tiempo tardamos en realizar una tarea, la cantidad correcta de ingredientes para seguir una receta, etc. \n",
    "    \n",
    "Si nos detenemos un momento podemos darnos cuenta que al medir estamos comparando una cosa con otra, estamos comparando una **magnitud** con otra.\n",
    "    \n",
    "### <span style=\"color:blue\">¿Qué es Magnitud?<span>\n",
    "\n",
    "La magnitud son los atributos o características de un objeto, fenómeno o una sustancia susceptible de ser medido. Existen magnitudes básicas y derivadas, que constituyen ejemplos de magnitudes físicas: la masa, la longitud, el tiempo, la carga eléctrica, la densidad, la temperatura, la velocidad, la aceleración y la energía, etc. \n",
    "\n",
    "Las magnitudes se representan con símbolos y normalmente las denominamos **variables**\n",
    "  \n",
    "### <span style=\"color:blue\">¿Y cantidad? <span> \n",
    "La cantidad, son las  magnitudes de un cuerpo, fenómeno o una sustancia en particular que que permite comparar cualitativamente respecto de la que se tomó como unidad de la magnitud, por ejemplo la longitud de una mesa en particular **\"mi escritorio\"**, es una cantidad. Otro ejemplo sería la masa de **mi** libro de analógica es una **cantidad** de masa.\n",
    "\n",
    "    \n",
    "Podemos definir a la **_medida_** como:  \n",
    "<div class=\"alert alert-block alert-info\">\n",
    "<b>Medir</b> una cantidad <b>x</b> (o variable x) es <b>compararla</b>   con otra cantidad arbitraria <b>U</b> de la misma magnitud denominada <b> Unidad </b> (simbólicamente se indica como el cociente $\\frac{A}{U}$). El resultado, es el número de veces que la cantidad contiene a la unidad, es un número real denomindado <b> Medida</b> que no es otra cosa que el valor de la cantidad\n",
    "    \n",
    "$$ \\boxed {A = X * U} $$  \n",
    "    \n",
    "donde: \n",
    "$$$$    \n",
    "* <b>A</b>: es la es el valor de la medida\n",
    "$$$$\n",
    "* <b>X</b>: es la cantidad de la medida\n",
    "$$$$    \n",
    "* <b>U</b>: es la unidad con la que estamos comparando.\n",
    "</div>\n",
    "    \n",
    "Podemos ver esta misma ecuación como $$\\boxed{X = \\frac{A}{U}}$$ donde queda mas claro que la cantidad se obtiene de comparar el valor de nuestra medida con un patron que es la unidad.\n",
    "    \n",
    "A lo largo de este apunte realizaremos muchos ejemplos para que las cosas que vista desde su definición parecen complejas, se entiendan.\n",
    "    \n",
    "    \n",
    "<div class=\"alert alert-block alert-success\">\n",
    "<b> Ejemplo n° 1</b> \n",
    "Si tomamos una resistencia de valor 220 $\\Omega$, $$R = \\frac{220\\Omega}{1\\Omega}$$, esto quiere decir que la cantidad de la medida es <b>220</b>\n",
    "</div>    \n",
    "    \n",
    " Lo que hacemos durante el proceso de medición es comparar una cantidad de una magnitud de un objeto con un patron preestablecido de esa magnitud, en este caso ohms.\n"
   ]
  },
  {
   "cell_type": "markdown",
   "metadata": {},
   "source": [
    "##  <span style=\"color:blue\">Proceso de medición</span>  \n",
    "   \n",
    "Medir no representa en la mayoría de los casos una tarea sencilla. La **_Metrología_** es la ciencia que estudia las mediciones de las magnitudes garantizando su normalización mediante la trazabilidad. Se encargan de diseñar el proceso de medición mas indicado para cada caso, reduciendo las **incertidumbres** de las mediciones. También se encargan de definir los patrones que utlizamos para medir como el metro, Kelvi, Ampere, etc.\n",
    "    \n",
    "Podemos definir tres sistemas que se encuentran en todo proceso de medición:\n",
    "    \n",
    "* <span style=\"color:red\"><b>Sistema objeto</b></span> Es lo que se desea medir. COnsiste en una cantidad de cierta magnitud física. Por ejemplo medir la longitud de una maesa.\n",
    "    \n",
    "* <span style=\"color:red\"><b>Sistema de medición</b></span> Es el dispositivo con el que se efectuará la medición. La elección de este dispositivo depende la magnitud a medir y de cuan precisa debe ser la medida. Por ejemplo para medir una longitud pequeña se puede usar una regla, un calibre o un micrómetro. Otro ejemplo puede ser que para medir tiempo podemos utilizar un reloj o un cronómetro.\n",
    "    \n",
    "* <span style=\"color:red\"><b>Operador</b></span> El operador es la persona que se encarga de llevar a cavo la medición en forma **correcta**, efectuando las lecturas en la escala del instrumento utilizado. Para lograr esto es necesario conocer como utilizar el instrumento y las unidades. Por ejemplo, para medir la longitud de una varilla, se debe ubicar el extremo izquierdo de la misma en coincidencia con el cero de la regla y ver en el otro extremo con que división de la regla coincide.\n",
    "    \n",
    " <img src=\"Imagenes/sistema.png\" width=\"600\" height=\"360\">\n",
    "    \n",
    "###  <span style=\"color:blue\">Protocolo de medición</span>  \n",
    "    \n",
    "Antes de medir nos tenemos que hacer estas preguntas\n",
    "    \n",
    "* <span style=\"color:red\"><b>¿Para qué medimos?</b></span>  Debemos saber cual es el objetivo de la medición para saber que precisión(vamos a ver esta palabra mas adelante) necesitamos.\n",
    " \n",
    "* <span style=\"color:red\"><b>¿Qué medimos?</b></span>   Tenemos que seleccionar las <b>magnitudes</b> adecuadas de acuerdo a nuestro objetivo.\n",
    "    \n",
    "* <span style=\"color:red\"><b>¿Cómo se mide?</b></span>  Debemos seleccionar el/los instrumentos necesarios.\n",
    "    \n",
    "* <span style=\"color:red\"><b>*¿Cómo vamos a medir?</b></span>  Tenemos que establecer los pasos a seguir para determinar la magnitud correspondiente.\n",
    "    \n",
    "* <span style=\"color:red\"><b>¿Cuantas veces se mide?</b></span>  Hay que medir varias veces para minimizar los <span style=\"color:red\"><b>errores</b></span>\n",
    "    \n",
    "###  <span style=\"color:blue\"><b>¿Errores?</b></span>  \n",
    "    \n",
    "Tal vez seria mas correcto llamarlos incertezas, pero también reciben el nombre de errores. Como vimos al medir una magnitud física, tenemos diferentes forma de hacerlo y es muy probable que al medirla de las distintas formas, el resultado de cada medición sea distinta, incluso si medimos varias veces de la misma forma. ¿Esto quiere decir que los resultados no incorrectos?, ¿Alguno de ellos es correcto? ¿Qué valor tomo como resultado de la medición?\n",
    "    \n",
    "La respuesta a la primera pregunta es no, solo significa que tenemos un cierto grado de incerteza en todas las medidas que realicemos, lo que quiere decir que **nunca vamos a conocer el valor verdadero de una medición**. La respuesta a la segunda pregunta es puede ser que si y puede ser que no, pero nunca lo vamos a saber. La tercer pregunta la vamos a responder un poco mas adelante.\n",
    "    \n",
    "## <span style=\"color:red\"><b>Podemos concluír que al realizar una medición podemos establecer el valor verdadero de la misma entre ciertos límites pero nunca su valor verdadero. Esto se debe a que hay múltiples factores que afectan a la medición y estudiaremos en detalle en la siguiente sección.</b></span> \n",
    "    \n",
    "### Podemos definir al **_error_** como:  \n",
    "<div class=\"alert alert-block alert-info\">\n",
    "El grado de incerteza de una medición debido a las limitaciones inevitables de los instrumentos y del observador, a condiciones exteriores por lo general fluctuantes. Impidiendo que la medición sea perfecta y solo permitíendonos caracterizar a la medida por un intervalo llamado <span style=\"color:brown\"><b>intervalo de indeterminación o incertidumbre</b></span> dentro del cual se puede afirmar con un alto grado de certeza que se halla el valor verdadero \n",
    "</div>\n",
    "\n",
    "En la siguiente imagen se puede observar un intervalo de incerteza que se limita por los vamores máximos y mínimos que puede tomar la medición.\n",
    "<img src=\"Imagenes/medida1.png\" width=\"600\" height=\"300\">\n",
    "\n",
    "Podemos mejorar la calidad de la medición reduciendo el intervalo de indeterminación, utilizando un instrumento mas preciso, por ejemplo usando un calibre en vez de una regla.\n",
    "    \n",
    "<img src=\"Imagenes/medida2.png\" width=\"600\" height=\"300\">   \n",
    "    \n",
    "Dependiendo de lo que estemos midiendo no siempre es necesario hacerlo, por ejemplo al usar cuando un cocinero utiliza un termómetro para controlar la temperatura, una incertidumbre de 1°C es suficiente, no necesitan medir la temperatura con décimas o milecimas de grados, lo cual sumaría un costo mayor sin ningún tipo de beneficio. \n",
    "\n",
    "<div class=\"alert alert-block alert-warning\">\n",
    "Matemáticamente lo podemos expresar como: \n",
    "    \n",
    "$$ \\boxed{x_{min} \\leq x \\leq x_{máx}}$$\n",
    "    \n",
    "donde <b>x</b> es el valor verdadero de la medida. \n",
    "</div>\n",
    "    \n",
    "Para terminar, toda medida debe expresarse de la siguiente forma:\n",
    "    \n",
    "<div class=\"alert alert-block alert-warning\">\n",
    "Matemáticamente lo podemos expresar como: \n",
    "    \n",
    "$$ \\boxed{X = X_o \\pm \\Delta X}$$\n",
    " \n",
    "donde: \n",
    "$$$$    \n",
    "*  <b>X</b> es el resultado de la medición. \n",
    "$$$$    \n",
    "*  <b>$X_o$</b> es el valor representativo de la medición (el valor que coincidieramos como verdadero).\n",
    "$$$$    \n",
    "*  <b>$\\Delta X$</b> es el error absoluto, incerteza o indeterminación de la medición.\n",
    "$$$$    \n",
    "</div>\n",
    "    \n",
    "Profundizaremos en esto el la siguiente sección.\n",
    "    \n",
    "## <span style=\"color:red\"><b>Toda medición que se realiza debe expresarse de esta forma, de lo contrario no esta bien representada y su resultado carece de sentido. </b></span>      \n",
    "    "
   ]
  },
  {
   "cell_type": "markdown",
   "metadata": {},
   "source": [
    "A continuación les dejo algunas preguntas para que se aseguren de haber comprendido el contenido.\n",
    "\n",
    "**Antes de comenzar no olvide presionar el boton <span style=\"color:red\">Show Widgets</span> para poder responder las preguntas**  "
   ]
  },
  {
   "cell_type": "code",
   "execution_count": 4,
   "metadata": {},
   "outputs": [
    {
     "data": {
      "application/vnd.jupyter.widget-view+json": {
       "model_id": "174bf4aa4d2443c2a3b95ce9b5cf6e94",
       "version_major": 2,
       "version_minor": 0
      },
      "text/plain": [
       "VBox(children=(HTML(value='<p style=\"line-height:18px;\">Magnitud es lo mismoque cantidad</p>'), HBox(children=…"
      ]
     },
     "metadata": {},
     "output_type": "display_data"
    },
    {
     "data": {
      "application/vnd.jupyter.widget-view+json": {
       "model_id": "2861c63bced9426d970e1c6d230e5785",
       "version_major": 2,
       "version_minor": 0
      },
      "text/plain": [
       "VBox(children=(HTML(value='<p style=\"line-height:18px;\">Como se llama la ciencia que estudio la medición</p>')…"
      ]
     },
     "metadata": {},
     "output_type": "display_data"
    },
    {
     "data": {
      "application/vnd.jupyter.widget-view+json": {
       "model_id": "c2cf6cf5ab184f258e4ecc3a10399e96",
       "version_major": 2,
       "version_minor": 0
      },
      "text/plain": [
       "VBox(children=(HTML(value='<p style=\"line-height:18px;\">La medición da como resultado siempre el valor verdade…"
      ]
     },
     "metadata": {},
     "output_type": "display_data"
    }
   ],
   "source": [
    "# nbi:hide_in\n",
    "nbi.multiple_choice(question=\"Magnitud es lo mismoque cantidad\",\n",
    "                    choices=['Verdadero', 'Falso'],\n",
    "                    answers=1)\n",
    "\n",
    "\n",
    "nbi.short_answer('Como se llama la ciencia que estudio la medición', answers='Metrología')\n",
    "\n",
    "nbi.multiple_choice(question=\"La medición da como resultado siempre el valor verdadero\",\n",
    "                    choices=['Verdadero', 'Falso', 'a veces'],\n",
    "                    answers=1)\n"
   ]
  },
  {
   "cell_type": "markdown",
   "metadata": {},
   "source": [
    "<form method=\"get\" action=\"https://nicolasferragamo.github.io/AEA/index.html\">\n",
    " <button type=\"submit\">Inicio\n",
    "</form>\n",
    "\n",
    "<form method=\"get\" action=\"https://nicolasferragamo.github.io/AEA/Mediciones/errores.html\">\n",
    " <button type=\"submit\">Siguiente\n",
    "</form> "
   ]
  },
  {
   "cell_type": "markdown",
   "metadata": {},
   "source": [
    "**Copyright**\n",
    "\n",
    "The notebook is provided as [Open Educational Resource]('https://en.wikipedia.org/wiki/Open_educational_resources'). Feel free to use the notebook for your own educational purposes. The text is licensed under [Creative Commons Attribution 4.0]('https://creativecommons.org/licenses/by/4.0/'), the code of the IPython examples under the [MIT license]('https://opensource.org/licenses/MIT'). Please attribute the work as follows: Aplicaciones de electrónica Analógica by Nicolás Ferragamo.\n"
   ]
  }
 ],
 "metadata": {
  "kernelspec": {
   "display_name": "Python 3",
   "language": "python",
   "name": "python3"
  },
  "language_info": {
   "codemirror_mode": {
    "name": "ipython",
    "version": 3
   },
   "file_extension": ".py",
   "mimetype": "text/x-python",
   "name": "python",
   "nbconvert_exporter": "python",
   "pygments_lexer": "ipython3",
   "version": "3.6.9"
  }
 },
 "nbformat": 4,
 "nbformat_minor": 2
}
